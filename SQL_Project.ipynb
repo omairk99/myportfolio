{
 "cells": [
  {
   "cell_type": "code",
   "execution_count": 1,
   "id": "55c6fb4d",
   "metadata": {},
   "outputs": [],
   "source": [
    "%load_ext sql "
   ]
  },
  {
   "cell_type": "code",
   "execution_count": 2,
   "id": "20089981",
   "metadata": {},
   "outputs": [],
   "source": [
    "%sql sqlite://"
   ]
  },
  {
   "cell_type": "code",
   "execution_count": 3,
   "id": "a2f57058",
   "metadata": {},
   "outputs": [
    {
     "name": "stdout",
     "output_type": "stream",
     "text": [
      " * sqlite://\n",
      "Done.\n"
     ]
    },
    {
     "data": {
      "text/plain": [
       "[]"
      ]
     },
     "execution_count": 3,
     "metadata": {},
     "output_type": "execute_result"
    }
   ],
   "source": [
    "%%sql\n",
    "CREATE TABLE CUSTOMER\n",
    "(CUSTOMER_NUM CHAR(3) PRIMARY KEY,\n",
    "CUSTOMER_NAME CHAR(35) NOT NULL,\n",
    "STREET CHAR(15),\n",
    "CITY CHAR(15),\n",
    "STATE CHAR(2),\n",
    "ZIP CHAR(5),\n",
    "BALANCE DECIMAL(8,2),\n",
    "CREDIT_LIMIT DECIMAL(8,2),\n",
    "REP_NUM CHAR(2) );"
   ]
  },
  {
   "cell_type": "code",
   "execution_count": 4,
   "id": "7a8cb375",
   "metadata": {},
   "outputs": [
    {
     "name": "stdout",
     "output_type": "stream",
     "text": [
      " * sqlite://\n",
      "10 rows affected.\n"
     ]
    },
    {
     "data": {
      "text/plain": [
       "[]"
      ]
     },
     "execution_count": 4,
     "metadata": {},
     "output_type": "execute_result"
    }
   ],
   "source": [
    "%%sql\n",
    "INSERT INTO CUSTOMER\n",
    "VALUES\n",
    "('148','Al''s Appliance and Sport','2837 Greenway','Fillmore','FL','33336',6550.00,7500.00,'20'),\n",
    "('282','Brookings Direct','3827 Devon','Grove','FL','33321',431.50,10000.00,'35'),\n",
    "('356','Ferguson''s','382 Wildwood','Northfield','FL','33146',5785.00,7500.00,'65'),\n",
    "('408','The Everything Shop','1828 Raven','Crystal','FL','33503',5285.25,5000.00,'35'),\n",
    "('462','Bargains Galore','3829 Central','Grove','FL','33321',3412.00,10000.00,'65'),\n",
    "('524','Kline''s','838 Ridgeland','Fillmore','FL','33336',12762.00,15000.00,'20'),\n",
    "('608','Johnson''s Department Store','372 Oxford','Sheldon','FL','33553',2106.00,10000.00,'65'),\n",
    "('687','Lee''s Sport and Appliance','282 Evergreen','Altonville','FL','32543',2851.00,5000.00,'35'),\n",
    "('725','Deerfield''s Four Seasons','282 Columbia','Sheldon','FL','33553',248.00,7500.00,'35'),\n",
    "('842','All Season','28 Lakeview','Grove','FL','33321',8221.00,7500.00,'20');"
   ]
  },
  {
   "cell_type": "code",
   "execution_count": 5,
   "id": "f008ec5a",
   "metadata": {},
   "outputs": [
    {
     "name": "stdout",
     "output_type": "stream",
     "text": [
      " * sqlite://\n",
      "Done.\n"
     ]
    },
    {
     "data": {
      "text/plain": [
       "[]"
      ]
     },
     "execution_count": 5,
     "metadata": {},
     "output_type": "execute_result"
    }
   ],
   "source": [
    "%%sql\n",
    "CREATE TABLE ORDERS\n",
    "(ORDER_NUM CHAR(5) PRIMARY KEY,\n",
    "ORDER_DATE DATE,\n",
    "CUSTOMER_NUM CHAR(3) );"
   ]
  },
  {
   "cell_type": "code",
   "execution_count": 6,
   "id": "dc17ab43",
   "metadata": {},
   "outputs": [
    {
     "name": "stdout",
     "output_type": "stream",
     "text": [
      " * sqlite://\n",
      "7 rows affected.\n"
     ]
    },
    {
     "data": {
      "text/plain": [
       "[]"
      ]
     },
     "execution_count": 6,
     "metadata": {},
     "output_type": "execute_result"
    }
   ],
   "source": [
    "%%sql\n",
    "INSERT INTO ORDERS\n",
    "VALUES\n",
    "('21608','20-OCT-2010','148'),\n",
    "('21610','20-OCT-2010','356'),\n",
    "('21613','21-OCT-2010','408'),\n",
    "('21614','21-OCT-2010','282'),\n",
    "('21617','23-OCT-2010','608'),\n",
    "('21619','23-OCT-2010','148'),\n",
    "('21623','23-OCT-2010','608');"
   ]
  },
  {
   "cell_type": "code",
   "execution_count": 7,
   "id": "7b5b6398",
   "metadata": {},
   "outputs": [
    {
     "name": "stdout",
     "output_type": "stream",
     "text": [
      " * sqlite://\n",
      "Done.\n"
     ]
    },
    {
     "data": {
      "text/plain": [
       "[]"
      ]
     },
     "execution_count": 7,
     "metadata": {},
     "output_type": "execute_result"
    }
   ],
   "source": [
    "%%sql\n",
    "CREATE TABLE PART\n",
    "(PART_NUM CHAR(4) PRIMARY KEY,\n",
    "DESCRIPTION CHAR(15),\n",
    "ON_HAND DECIMAL(4,0),\n",
    "CLASS CHAR(2),\n",
    "WAREHOUSE CHAR(1),\n",
    "PRICE DECIMAL(6,2) );"
   ]
  },
  {
   "cell_type": "code",
   "execution_count": 8,
   "id": "021d4bf4",
   "metadata": {},
   "outputs": [
    {
     "name": "stdout",
     "output_type": "stream",
     "text": [
      " * sqlite://\n",
      "10 rows affected.\n"
     ]
    },
    {
     "data": {
      "text/plain": [
       "[]"
      ]
     },
     "execution_count": 8,
     "metadata": {},
     "output_type": "execute_result"
    }
   ],
   "source": [
    "%%sql\n",
    "INSERT INTO PART VALUES\n",
    "('AT94','Iron',50,'HW','3',24.95),\n",
    "('BV06','Home Gym',45,'SG','2',794.95),\n",
    "('CD52','Microwave Oven',32,'AP','1',165.00),\n",
    "('DL71','Cordless Drill',21,'HW','3',129.95),\n",
    "('DR93','Gas Range',8,'AP','2',495.00),\n",
    "('DW11','Washer',12,'AP','3',399.99),\n",
    "('FD21','Stand Mixer',22,'HW','3',159.95),\n",
    "('KL62','Dryer',12,'AP','1',349.95),\n",
    "('KT03','Dishwasher',8,'AP','3',595.00),\n",
    "('KV29','Treadmill',9,'SG','2',1390.00);"
   ]
  },
  {
   "cell_type": "code",
   "execution_count": 9,
   "id": "889fad31",
   "metadata": {},
   "outputs": [
    {
     "name": "stdout",
     "output_type": "stream",
     "text": [
      " * sqlite://\n",
      "Done.\n"
     ]
    },
    {
     "data": {
      "text/plain": [
       "[]"
      ]
     },
     "execution_count": 9,
     "metadata": {},
     "output_type": "execute_result"
    }
   ],
   "source": [
    "%%sql\n",
    "CREATE TABLE ORDER_LINE\n",
    "(ORDER_NUM CHAR(5),\n",
    "PART_NUM CHAR(4),\n",
    "NUM_ORDERED DECIMAL(3,0),\n",
    "QUOTED_PRICE DECIMAL(6,2),\n",
    "PRIMARY KEY (ORDER_NUM, PART_NUM) );"
   ]
  },
  {
   "cell_type": "code",
   "execution_count": 10,
   "id": "79275634",
   "metadata": {},
   "outputs": [
    {
     "name": "stdout",
     "output_type": "stream",
     "text": [
      " * sqlite://\n",
      "9 rows affected.\n"
     ]
    },
    {
     "data": {
      "text/plain": [
       "[]"
      ]
     },
     "execution_count": 10,
     "metadata": {},
     "output_type": "execute_result"
    }
   ],
   "source": [
    "%%sql\n",
    "INSERT INTO ORDER_LINE VALUES\n",
    "('21608','AT94',11,21.95),\n",
    "('21610','DR93',1,495.00),\n",
    "('21610','DW11',1,399.99),\n",
    "('21613','KL62',4,329.95),\n",
    "('21614','KT03',2,595.00),\n",
    "('21617','BV06',2,794.95),\n",
    "('21617','CD52',4,150.00),\n",
    "('21619','DR93',1,495.00),\n",
    "('21623','KV29',2,1290.00);"
   ]
  },
  {
   "cell_type": "code",
   "execution_count": 11,
   "id": "d9f42bae",
   "metadata": {},
   "outputs": [
    {
     "name": "stdout",
     "output_type": "stream",
     "text": [
      " * sqlite://\n",
      "Done.\n"
     ]
    },
    {
     "data": {
      "text/plain": [
       "[]"
      ]
     },
     "execution_count": 11,
     "metadata": {},
     "output_type": "execute_result"
    }
   ],
   "source": [
    "%%sql\n",
    "CREATE TABLE rep (\n",
    "rep_num CHAR(2) PRIMARY KEY,\n",
    "last_name CHAR(15) NOT NULL,\n",
    "first_name CHAR(15) NOT NULL,\n",
    "street CHAR(15),\n",
    "city CHAR(15),\n",
    "state CHAR(2),\n",
    "zip CHAR(5),\n",
    "commission DECIMAL(7,2),\n",
    "rate DECIMAL(3,2)\n",
    ");"
   ]
  },
  {
   "cell_type": "code",
   "execution_count": 12,
   "id": "68cf09b1",
   "metadata": {},
   "outputs": [
    {
     "name": "stdout",
     "output_type": "stream",
     "text": [
      " * sqlite://\n",
      "1 rows affected.\n"
     ]
    },
    {
     "data": {
      "text/plain": [
       "[]"
      ]
     },
     "execution_count": 12,
     "metadata": {},
     "output_type": "execute_result"
    }
   ],
   "source": [
    "%sql INSERT INTO rep VALUES('20','Kaiser','Valerie','624 Randall','Grove','FL','33321',20542.50,0.05);"
   ]
  },
  {
   "cell_type": "code",
   "execution_count": 13,
   "id": "07fbe08f",
   "metadata": {},
   "outputs": [
    {
     "name": "stdout",
     "output_type": "stream",
     "text": [
      " * sqlite://\n",
      "2 rows affected.\n"
     ]
    },
    {
     "data": {
      "text/plain": [
       "[]"
      ]
     },
     "execution_count": 13,
     "metadata": {},
     "output_type": "execute_result"
    }
   ],
   "source": [
    "%%sql \n",
    "INSERT INTO rep VALUES\n",
    "('35','Hull','Richard','532 Jackson','Sheldon','FL','33553',39216,0.07),\n",
    "('65','Perez','Juan','1626 Taylor','Fillmore','FL','33336',23487,0.05); "
   ]
  },
  {
   "cell_type": "markdown",
   "id": "9dea0ba3",
   "metadata": {},
   "source": [
    "**A.1. List the names of all customers that have a credit limit of $7,500 or less.**"
   ]
  },
  {
   "cell_type": "code",
   "execution_count": 14,
   "id": "0a9eeea2",
   "metadata": {},
   "outputs": [
    {
     "name": "stdout",
     "output_type": "stream",
     "text": [
      " * sqlite://\n",
      "Done.\n"
     ]
    },
    {
     "data": {
      "text/html": [
       "<table>\n",
       "    <tr>\n",
       "        <th>CUSTOMER_NAME</th>\n",
       "    </tr>\n",
       "    <tr>\n",
       "        <td>Al&#x27;s Appliance and Sport</td>\n",
       "    </tr>\n",
       "    <tr>\n",
       "        <td>Ferguson&#x27;s</td>\n",
       "    </tr>\n",
       "    <tr>\n",
       "        <td>The Everything Shop</td>\n",
       "    </tr>\n",
       "    <tr>\n",
       "        <td>Lee&#x27;s Sport and Appliance</td>\n",
       "    </tr>\n",
       "    <tr>\n",
       "        <td>Deerfield&#x27;s Four Seasons</td>\n",
       "    </tr>\n",
       "    <tr>\n",
       "        <td>All Season</td>\n",
       "    </tr>\n",
       "</table>"
      ],
      "text/plain": [
       "[(\"Al's Appliance and Sport\",),\n",
       " (\"Ferguson's\",),\n",
       " ('The Everything Shop',),\n",
       " (\"Lee's Sport and Appliance\",),\n",
       " (\"Deerfield's Four Seasons\",),\n",
       " ('All Season',)]"
      ]
     },
     "execution_count": 14,
     "metadata": {},
     "output_type": "execute_result"
    }
   ],
   "source": [
    "%%sql\n",
    "SELECT customer_name\n",
    "FROM customer\n",
    "WHERE credit_limit <= 7500;"
   ]
  },
  {
   "cell_type": "markdown",
   "id": "779dc1f2",
   "metadata": {},
   "source": [
    "**A.2. List the order numbers for orders placed by customer number 608 on 10/23/2010.**"
   ]
  },
  {
   "cell_type": "code",
   "execution_count": 15,
   "id": "299880e9",
   "metadata": {},
   "outputs": [
    {
     "name": "stdout",
     "output_type": "stream",
     "text": [
      " * sqlite://\n",
      "Done.\n"
     ]
    },
    {
     "data": {
      "text/html": [
       "<table>\n",
       "    <tr>\n",
       "        <th>ORDER_NUM</th>\n",
       "    </tr>\n",
       "    <tr>\n",
       "        <td>21617</td>\n",
       "    </tr>\n",
       "    <tr>\n",
       "        <td>21623</td>\n",
       "    </tr>\n",
       "</table>"
      ],
      "text/plain": [
       "[('21617',), ('21623',)]"
      ]
     },
     "execution_count": 15,
     "metadata": {},
     "output_type": "execute_result"
    }
   ],
   "source": [
    "%%sql\n",
    "SELECT order_num\n",
    "FROM orders\n",
    "WHERE customer_num = '608'\n",
    "AND order_date = '23-OCT-2010';"
   ]
  },
  {
   "cell_type": "markdown",
   "id": "364a8439",
   "metadata": {},
   "source": [
    "**A.3. List the part number and part description of all parts that are in item class HW.**"
   ]
  },
  {
   "cell_type": "code",
   "execution_count": 16,
   "id": "2767781a",
   "metadata": {},
   "outputs": [
    {
     "name": "stdout",
     "output_type": "stream",
     "text": [
      " * sqlite://\n",
      "Done.\n"
     ]
    },
    {
     "data": {
      "text/html": [
       "<table>\n",
       "    <tr>\n",
       "        <th>PART_NUM</th>\n",
       "        <th>DESCRIPTION</th>\n",
       "    </tr>\n",
       "    <tr>\n",
       "        <td>AT94</td>\n",
       "        <td>Iron</td>\n",
       "    </tr>\n",
       "    <tr>\n",
       "        <td>DL71</td>\n",
       "        <td>Cordless Drill</td>\n",
       "    </tr>\n",
       "    <tr>\n",
       "        <td>FD21</td>\n",
       "        <td>Stand Mixer</td>\n",
       "    </tr>\n",
       "</table>"
      ],
      "text/plain": [
       "[('AT94', 'Iron'), ('DL71', 'Cordless Drill'), ('FD21', 'Stand Mixer')]"
      ]
     },
     "execution_count": 16,
     "metadata": {},
     "output_type": "execute_result"
    }
   ],
   "source": [
    "%%sql\n",
    "SELECT part_num, description\n",
    "FROM part\n",
    "WHERE class = 'HW';"
   ]
  },
  {
   "cell_type": "markdown",
   "id": "af7ee73d",
   "metadata": {},
   "source": [
    "**A.4. List the part number, part description, and on-hand value for each part in item class \n",
    "SG. (Hint: On-hand value is the result of multiplying the number of units on hand by the \n",
    "price.)**"
   ]
  },
  {
   "cell_type": "code",
   "execution_count": 17,
   "id": "57aeba9a",
   "metadata": {},
   "outputs": [
    {
     "name": "stdout",
     "output_type": "stream",
     "text": [
      " * sqlite://\n",
      "Done.\n"
     ]
    },
    {
     "data": {
      "text/html": [
       "<table>\n",
       "    <tr>\n",
       "        <th>PART_NUM</th>\n",
       "        <th>DESCRIPTION</th>\n",
       "        <th>on_hand_value</th>\n",
       "    </tr>\n",
       "    <tr>\n",
       "        <td>BV06</td>\n",
       "        <td>Home Gym</td>\n",
       "        <td>35772.75</td>\n",
       "    </tr>\n",
       "    <tr>\n",
       "        <td>KV29</td>\n",
       "        <td>Treadmill</td>\n",
       "        <td>12510</td>\n",
       "    </tr>\n",
       "</table>"
      ],
      "text/plain": [
       "[('BV06', 'Home Gym', 35772.75), ('KV29', 'Treadmill', 12510)]"
      ]
     },
     "execution_count": 17,
     "metadata": {},
     "output_type": "execute_result"
    }
   ],
   "source": [
    "%%sql\n",
    "SELECT part_num, description, (on_hand * price) AS on_hand_value\n",
    "FROM part\n",
    "WHERE class = 'SG';"
   ]
  },
  {
   "cell_type": "markdown",
   "id": "f21ad155",
   "metadata": {},
   "source": [
    "**A.5. How many customers have a balance that exceeds their credit limit?**"
   ]
  },
  {
   "cell_type": "code",
   "execution_count": 18,
   "id": "f12062b5",
   "metadata": {},
   "outputs": [
    {
     "name": "stdout",
     "output_type": "stream",
     "text": [
      " * sqlite://\n",
      "Done.\n"
     ]
    },
    {
     "data": {
      "text/html": [
       "<table>\n",
       "    <tr>\n",
       "        <th>COUNT(customer_num)</th>\n",
       "    </tr>\n",
       "    <tr>\n",
       "        <td>2</td>\n",
       "    </tr>\n",
       "</table>"
      ],
      "text/plain": [
       "[(2,)]"
      ]
     },
     "execution_count": 18,
     "metadata": {},
     "output_type": "execute_result"
    }
   ],
   "source": [
    "%%sql\n",
    "SELECT COUNT(customer_num)\n",
    "FROM customer\n",
    "WHERE balance > credit_limit;"
   ]
  },
  {
   "cell_type": "markdown",
   "id": "4688c12e",
   "metadata": {},
   "source": [
    "**A.6. What is the part number, description, and price of the least expensive part in the \n",
    "database?**"
   ]
  },
  {
   "cell_type": "code",
   "execution_count": 19,
   "id": "fa28c936",
   "metadata": {},
   "outputs": [
    {
     "name": "stdout",
     "output_type": "stream",
     "text": [
      " * sqlite://\n",
      "Done.\n"
     ]
    },
    {
     "data": {
      "text/html": [
       "<table>\n",
       "    <tr>\n",
       "        <th>PART_NUM</th>\n",
       "        <th>DESCRIPTION</th>\n",
       "        <th>PRICE</th>\n",
       "    </tr>\n",
       "    <tr>\n",
       "        <td>AT94</td>\n",
       "        <td>Iron</td>\n",
       "        <td>24.95</td>\n",
       "    </tr>\n",
       "</table>"
      ],
      "text/plain": [
       "[('AT94', 'Iron', 24.95)]"
      ]
     },
     "execution_count": 19,
     "metadata": {},
     "output_type": "execute_result"
    }
   ],
   "source": [
    "%%sql\n",
    "SELECT part_num, description, price\n",
    "FROM part\n",
    "WHERE price = (SELECT MIN(price) FROM part);"
   ]
  },
  {
   "cell_type": "markdown",
   "id": "d5872461",
   "metadata": {},
   "source": [
    "**A.7. For each order, list the order number, order date, customer number, and customer \n",
    "name.**"
   ]
  },
  {
   "cell_type": "code",
   "execution_count": 20,
   "id": "3206d777",
   "metadata": {},
   "outputs": [
    {
     "name": "stdout",
     "output_type": "stream",
     "text": [
      " * sqlite://\n",
      "Done.\n"
     ]
    },
    {
     "data": {
      "text/html": [
       "<table>\n",
       "    <tr>\n",
       "        <th>ORDER_NUM</th>\n",
       "        <th>ORDER_DATE</th>\n",
       "        <th>CUSTOMER_NUM</th>\n",
       "        <th>CUSTOMER_NAME</th>\n",
       "    </tr>\n",
       "    <tr>\n",
       "        <td>21608</td>\n",
       "        <td>20-OCT-2010</td>\n",
       "        <td>148</td>\n",
       "        <td>Al&#x27;s Appliance and Sport</td>\n",
       "    </tr>\n",
       "    <tr>\n",
       "        <td>21610</td>\n",
       "        <td>20-OCT-2010</td>\n",
       "        <td>356</td>\n",
       "        <td>Ferguson&#x27;s</td>\n",
       "    </tr>\n",
       "    <tr>\n",
       "        <td>21613</td>\n",
       "        <td>21-OCT-2010</td>\n",
       "        <td>408</td>\n",
       "        <td>The Everything Shop</td>\n",
       "    </tr>\n",
       "    <tr>\n",
       "        <td>21614</td>\n",
       "        <td>21-OCT-2010</td>\n",
       "        <td>282</td>\n",
       "        <td>Brookings Direct</td>\n",
       "    </tr>\n",
       "    <tr>\n",
       "        <td>21617</td>\n",
       "        <td>23-OCT-2010</td>\n",
       "        <td>608</td>\n",
       "        <td>Johnson&#x27;s Department Store</td>\n",
       "    </tr>\n",
       "    <tr>\n",
       "        <td>21619</td>\n",
       "        <td>23-OCT-2010</td>\n",
       "        <td>148</td>\n",
       "        <td>Al&#x27;s Appliance and Sport</td>\n",
       "    </tr>\n",
       "    <tr>\n",
       "        <td>21623</td>\n",
       "        <td>23-OCT-2010</td>\n",
       "        <td>608</td>\n",
       "        <td>Johnson&#x27;s Department Store</td>\n",
       "    </tr>\n",
       "</table>"
      ],
      "text/plain": [
       "[('21608', '20-OCT-2010', '148', \"Al's Appliance and Sport\"),\n",
       " ('21610', '20-OCT-2010', '356', \"Ferguson's\"),\n",
       " ('21613', '21-OCT-2010', '408', 'The Everything Shop'),\n",
       " ('21614', '21-OCT-2010', '282', 'Brookings Direct'),\n",
       " ('21617', '23-OCT-2010', '608', \"Johnson's Department Store\"),\n",
       " ('21619', '23-OCT-2010', '148', \"Al's Appliance and Sport\"),\n",
       " ('21623', '23-OCT-2010', '608', \"Johnson's Department Store\")]"
      ]
     },
     "execution_count": 20,
     "metadata": {},
     "output_type": "execute_result"
    }
   ],
   "source": [
    "%%sql\n",
    "SELECT order_num, order_date, customer.customer_num, customer.customer_name\n",
    "FROM orders, customer\n",
    "WHERE orders.customer_num = customer.customer_num;"
   ]
  },
  {
   "cell_type": "markdown",
   "id": "691cbcac",
   "metadata": {},
   "source": [
    "**A.8. For each order placed on October 21, 2010, list the order number, customer number, \n",
    "and customer name.**"
   ]
  },
  {
   "cell_type": "code",
   "execution_count": 21,
   "id": "dea2aea7",
   "metadata": {},
   "outputs": [
    {
     "name": "stdout",
     "output_type": "stream",
     "text": [
      " * sqlite://\n",
      "Done.\n"
     ]
    },
    {
     "data": {
      "text/html": [
       "<table>\n",
       "    <tr>\n",
       "        <th>ORDER_NUM</th>\n",
       "        <th>CUSTOMER_NUM</th>\n",
       "        <th>CUSTOMER_NAME</th>\n",
       "    </tr>\n",
       "    <tr>\n",
       "        <td>21613</td>\n",
       "        <td>408</td>\n",
       "        <td>The Everything Shop</td>\n",
       "    </tr>\n",
       "    <tr>\n",
       "        <td>21614</td>\n",
       "        <td>282</td>\n",
       "        <td>Brookings Direct</td>\n",
       "    </tr>\n",
       "</table>"
      ],
      "text/plain": [
       "[('21613', '408', 'The Everything Shop'), ('21614', '282', 'Brookings Direct')]"
      ]
     },
     "execution_count": 21,
     "metadata": {},
     "output_type": "execute_result"
    }
   ],
   "source": [
    "%%sql\n",
    "SELECT order_num, customer.customer_num, customer.customer_name\n",
    "FROM orders, customer\n",
    "WHERE orders.customer_num = customer.customer_num\n",
    "AND order_date = '21-OCT-2010';"
   ]
  },
  {
   "cell_type": "markdown",
   "id": "096ac6ea",
   "metadata": {},
   "source": [
    "**A.9. For each order placed on October 21, 2010, list the order number, part number, part \n",
    "description, and item class for each part ordered.**"
   ]
  },
  {
   "cell_type": "code",
   "execution_count": 22,
   "id": "63d125a4",
   "metadata": {},
   "outputs": [
    {
     "name": "stdout",
     "output_type": "stream",
     "text": [
      " * sqlite://\n",
      "Done.\n"
     ]
    },
    {
     "data": {
      "text/html": [
       "<table>\n",
       "    <tr>\n",
       "        <th>ORDER_NUM</th>\n",
       "        <th>PART_NUM</th>\n",
       "        <th>DESCRIPTION</th>\n",
       "        <th>CLASS</th>\n",
       "    </tr>\n",
       "    <tr>\n",
       "        <td>21613</td>\n",
       "        <td>KL62</td>\n",
       "        <td>Dryer</td>\n",
       "        <td>AP</td>\n",
       "    </tr>\n",
       "    <tr>\n",
       "        <td>21614</td>\n",
       "        <td>KT03</td>\n",
       "        <td>Dishwasher</td>\n",
       "        <td>AP</td>\n",
       "    </tr>\n",
       "</table>"
      ],
      "text/plain": [
       "[('21613', 'KL62', 'Dryer', 'AP'), ('21614', 'KT03', 'Dishwasher', 'AP')]"
      ]
     },
     "execution_count": 22,
     "metadata": {},
     "output_type": "execute_result"
    }
   ],
   "source": [
    "%%sql\n",
    "SELECT orders.order_num, order_line.part_num, part.description, part.class\n",
    "FROM orders, order_line, part\n",
    "WHERE orders.order_num = order_line.order_num\n",
    "AND order_line.part_num = part.part_num\n",
    "AND order_date = '21-OCT-2010';"
   ]
  },
  {
   "cell_type": "markdown",
   "id": "1f56d5cc",
   "metadata": {},
   "source": [
    "**C.1. List the number and name of each customer represented by sales rep 35 or sales rep \n",
    "65.**"
   ]
  },
  {
   "cell_type": "code",
   "execution_count": 23,
   "id": "0efd6e51",
   "metadata": {},
   "outputs": [
    {
     "name": "stdout",
     "output_type": "stream",
     "text": [
      " * sqlite://\n",
      "Done.\n"
     ]
    },
    {
     "data": {
      "text/html": [
       "<table>\n",
       "    <tr>\n",
       "        <th>CUSTOMER_NUM</th>\n",
       "        <th>CUSTOMER_NAME</th>\n",
       "    </tr>\n",
       "    <tr>\n",
       "        <td>282</td>\n",
       "        <td>Brookings Direct</td>\n",
       "    </tr>\n",
       "    <tr>\n",
       "        <td>356</td>\n",
       "        <td>Ferguson&#x27;s</td>\n",
       "    </tr>\n",
       "    <tr>\n",
       "        <td>408</td>\n",
       "        <td>The Everything Shop</td>\n",
       "    </tr>\n",
       "    <tr>\n",
       "        <td>462</td>\n",
       "        <td>Bargains Galore</td>\n",
       "    </tr>\n",
       "    <tr>\n",
       "        <td>608</td>\n",
       "        <td>Johnson&#x27;s Department Store</td>\n",
       "    </tr>\n",
       "    <tr>\n",
       "        <td>687</td>\n",
       "        <td>Lee&#x27;s Sport and Appliance</td>\n",
       "    </tr>\n",
       "    <tr>\n",
       "        <td>725</td>\n",
       "        <td>Deerfield&#x27;s Four Seasons</td>\n",
       "    </tr>\n",
       "</table>"
      ],
      "text/plain": [
       "[('282', 'Brookings Direct'),\n",
       " ('356', \"Ferguson's\"),\n",
       " ('408', 'The Everything Shop'),\n",
       " ('462', 'Bargains Galore'),\n",
       " ('608', \"Johnson's Department Store\"),\n",
       " ('687', \"Lee's Sport and Appliance\"),\n",
       " ('725', \"Deerfield's Four Seasons\")]"
      ]
     },
     "execution_count": 23,
     "metadata": {},
     "output_type": "execute_result"
    }
   ],
   "source": [
    "%%sql \n",
    "/* c.1 */\n",
    "select customer_num, customer_name\n",
    "from customer\n",
    "where rep_num = 35 or rep_num = 65;\n",
    "\n"
   ]
  },
  {
   "cell_type": "markdown",
   "id": "d806751a",
   "metadata": {},
   "source": [
    "**C.2. List the part number and part description of each part that is not in item class AP.**"
   ]
  },
  {
   "cell_type": "code",
   "execution_count": 24,
   "id": "bd3a54e3",
   "metadata": {},
   "outputs": [
    {
     "name": "stdout",
     "output_type": "stream",
     "text": [
      " * sqlite://\n",
      "Done.\n"
     ]
    },
    {
     "data": {
      "text/html": [
       "<table>\n",
       "    <tr>\n",
       "        <th>PART_NUM</th>\n",
       "        <th>DESCRIPTION</th>\n",
       "    </tr>\n",
       "    <tr>\n",
       "        <td>AT94</td>\n",
       "        <td>Iron</td>\n",
       "    </tr>\n",
       "    <tr>\n",
       "        <td>BV06</td>\n",
       "        <td>Home Gym</td>\n",
       "    </tr>\n",
       "    <tr>\n",
       "        <td>DL71</td>\n",
       "        <td>Cordless Drill</td>\n",
       "    </tr>\n",
       "    <tr>\n",
       "        <td>FD21</td>\n",
       "        <td>Stand Mixer</td>\n",
       "    </tr>\n",
       "    <tr>\n",
       "        <td>KV29</td>\n",
       "        <td>Treadmill</td>\n",
       "    </tr>\n",
       "</table>"
      ],
      "text/plain": [
       "[('AT94', 'Iron'),\n",
       " ('BV06', 'Home Gym'),\n",
       " ('DL71', 'Cordless Drill'),\n",
       " ('FD21', 'Stand Mixer'),\n",
       " ('KV29', 'Treadmill')]"
      ]
     },
     "execution_count": 24,
     "metadata": {},
     "output_type": "execute_result"
    }
   ],
   "source": [
    "%%sql \n",
    "/* c.2 */\n",
    "select part_num, description\n",
    "from part\n",
    "where class != 'AP';\n"
   ]
  },
  {
   "cell_type": "markdown",
   "id": "783b526a",
   "metadata": {},
   "source": [
    "**C.3. List the part number, description, and number of units on hand for each part that has \n",
    "between 10 and 25 units on hand, including both 10 and 25. Do this in different two ways.**"
   ]
  },
  {
   "cell_type": "code",
   "execution_count": 25,
   "id": "c8151151",
   "metadata": {},
   "outputs": [
    {
     "name": "stdout",
     "output_type": "stream",
     "text": [
      " * sqlite://\n",
      "Done.\n"
     ]
    },
    {
     "data": {
      "text/html": [
       "<table>\n",
       "    <tr>\n",
       "        <th>PART_NUM</th>\n",
       "        <th>DESCRIPTION</th>\n",
       "        <th>ON_HAND</th>\n",
       "    </tr>\n",
       "    <tr>\n",
       "        <td>DL71</td>\n",
       "        <td>Cordless Drill</td>\n",
       "        <td>21</td>\n",
       "    </tr>\n",
       "    <tr>\n",
       "        <td>DW11</td>\n",
       "        <td>Washer</td>\n",
       "        <td>12</td>\n",
       "    </tr>\n",
       "    <tr>\n",
       "        <td>FD21</td>\n",
       "        <td>Stand Mixer</td>\n",
       "        <td>22</td>\n",
       "    </tr>\n",
       "    <tr>\n",
       "        <td>KL62</td>\n",
       "        <td>Dryer</td>\n",
       "        <td>12</td>\n",
       "    </tr>\n",
       "</table>"
      ],
      "text/plain": [
       "[('DL71', 'Cordless Drill', 21),\n",
       " ('DW11', 'Washer', 12),\n",
       " ('FD21', 'Stand Mixer', 22),\n",
       " ('KL62', 'Dryer', 12)]"
      ]
     },
     "execution_count": 25,
     "metadata": {},
     "output_type": "execute_result"
    }
   ],
   "source": [
    "%%sql \n",
    "/* c.3a */\n",
    "select part_num, description, on_hand\n",
    "from part\n",
    "where on_hand between 10 and 25;"
   ]
  },
  {
   "cell_type": "code",
   "execution_count": 26,
   "id": "19a0a155",
   "metadata": {},
   "outputs": [
    {
     "name": "stdout",
     "output_type": "stream",
     "text": [
      " * sqlite://\n",
      "Done.\n"
     ]
    },
    {
     "data": {
      "text/html": [
       "<table>\n",
       "    <tr>\n",
       "        <th>PART_NUM</th>\n",
       "        <th>DESCRIPTION</th>\n",
       "        <th>ON_HAND</th>\n",
       "    </tr>\n",
       "    <tr>\n",
       "        <td>DL71</td>\n",
       "        <td>Cordless Drill</td>\n",
       "        <td>21</td>\n",
       "    </tr>\n",
       "    <tr>\n",
       "        <td>DW11</td>\n",
       "        <td>Washer</td>\n",
       "        <td>12</td>\n",
       "    </tr>\n",
       "    <tr>\n",
       "        <td>FD21</td>\n",
       "        <td>Stand Mixer</td>\n",
       "        <td>22</td>\n",
       "    </tr>\n",
       "    <tr>\n",
       "        <td>KL62</td>\n",
       "        <td>Dryer</td>\n",
       "        <td>12</td>\n",
       "    </tr>\n",
       "</table>"
      ],
      "text/plain": [
       "[('DL71', 'Cordless Drill', 21),\n",
       " ('DW11', 'Washer', 12),\n",
       " ('FD21', 'Stand Mixer', 22),\n",
       " ('KL62', 'Dryer', 12)]"
      ]
     },
     "execution_count": 26,
     "metadata": {},
     "output_type": "execute_result"
    }
   ],
   "source": [
    "%%sql \n",
    "/* c.3b */\n",
    "select part_num, description, on_hand\n",
    "from part\n",
    "where on_hand >= 10 and on_hand <= 25;"
   ]
  },
  {
   "cell_type": "markdown",
   "id": "42c691f9",
   "metadata": {},
   "source": [
    "**C.4. Use the IN operator to list the part number and part description of each part in item \n",
    "class AP or SG.** "
   ]
  },
  {
   "cell_type": "code",
   "execution_count": 27,
   "id": "37770171",
   "metadata": {},
   "outputs": [
    {
     "name": "stdout",
     "output_type": "stream",
     "text": [
      " * sqlite://\n",
      "Done.\n"
     ]
    },
    {
     "data": {
      "text/html": [
       "<table>\n",
       "    <tr>\n",
       "        <th>PART_NUM</th>\n",
       "        <th>DESCRIPTION</th>\n",
       "    </tr>\n",
       "    <tr>\n",
       "        <td>BV06</td>\n",
       "        <td>Home Gym</td>\n",
       "    </tr>\n",
       "    <tr>\n",
       "        <td>CD52</td>\n",
       "        <td>Microwave Oven</td>\n",
       "    </tr>\n",
       "    <tr>\n",
       "        <td>DR93</td>\n",
       "        <td>Gas Range</td>\n",
       "    </tr>\n",
       "    <tr>\n",
       "        <td>DW11</td>\n",
       "        <td>Washer</td>\n",
       "    </tr>\n",
       "    <tr>\n",
       "        <td>KL62</td>\n",
       "        <td>Dryer</td>\n",
       "    </tr>\n",
       "    <tr>\n",
       "        <td>KT03</td>\n",
       "        <td>Dishwasher</td>\n",
       "    </tr>\n",
       "    <tr>\n",
       "        <td>KV29</td>\n",
       "        <td>Treadmill</td>\n",
       "    </tr>\n",
       "</table>"
      ],
      "text/plain": [
       "[('BV06', 'Home Gym'),\n",
       " ('CD52', 'Microwave Oven'),\n",
       " ('DR93', 'Gas Range'),\n",
       " ('DW11', 'Washer'),\n",
       " ('KL62', 'Dryer'),\n",
       " ('KT03', 'Dishwasher'),\n",
       " ('KV29', 'Treadmill')]"
      ]
     },
     "execution_count": 27,
     "metadata": {},
     "output_type": "execute_result"
    }
   ],
   "source": [
    "%%sql \n",
    "/* c.4 */\n",
    "select part_num, description\n",
    "from part\n",
    "where class in ('AP', 'SG');"
   ]
  },
  {
   "cell_type": "markdown",
   "id": "0f810c26",
   "metadata": {},
   "source": [
    "**C.5. Find the number and name of each customer whose name begins with the letter “B.”**"
   ]
  },
  {
   "cell_type": "code",
   "execution_count": 28,
   "id": "7c1b4349",
   "metadata": {},
   "outputs": [
    {
     "name": "stdout",
     "output_type": "stream",
     "text": [
      " * sqlite://\n",
      "Done.\n"
     ]
    },
    {
     "data": {
      "text/html": [
       "<table>\n",
       "    <tr>\n",
       "        <th>CUSTOMER_NUM</th>\n",
       "        <th>CUSTOMER_NAME</th>\n",
       "    </tr>\n",
       "    <tr>\n",
       "        <td>282</td>\n",
       "        <td>Brookings Direct</td>\n",
       "    </tr>\n",
       "    <tr>\n",
       "        <td>462</td>\n",
       "        <td>Bargains Galore</td>\n",
       "    </tr>\n",
       "</table>"
      ],
      "text/plain": [
       "[('282', 'Brookings Direct'), ('462', 'Bargains Galore')]"
      ]
     },
     "execution_count": 28,
     "metadata": {},
     "output_type": "execute_result"
    }
   ],
   "source": [
    "%%sql \n",
    "/* c.5 */\n",
    "select customer_num, customer_name\n",
    "from customer\n",
    "where customer_name like 'B%';"
   ]
  },
  {
   "cell_type": "markdown",
   "id": "861d240c",
   "metadata": {},
   "source": [
    "**C.6. List all details about all parts. Order the output by part description.** "
   ]
  },
  {
   "cell_type": "code",
   "execution_count": 29,
   "id": "e11efd4a",
   "metadata": {},
   "outputs": [
    {
     "name": "stdout",
     "output_type": "stream",
     "text": [
      " * sqlite://\n",
      "Done.\n"
     ]
    },
    {
     "data": {
      "text/html": [
       "<table>\n",
       "    <tr>\n",
       "        <th>PART_NUM</th>\n",
       "        <th>DESCRIPTION</th>\n",
       "        <th>ON_HAND</th>\n",
       "        <th>CLASS</th>\n",
       "        <th>WAREHOUSE</th>\n",
       "        <th>PRICE</th>\n",
       "    </tr>\n",
       "    <tr>\n",
       "        <td>DL71</td>\n",
       "        <td>Cordless Drill</td>\n",
       "        <td>21</td>\n",
       "        <td>HW</td>\n",
       "        <td>3</td>\n",
       "        <td>129.95</td>\n",
       "    </tr>\n",
       "    <tr>\n",
       "        <td>KT03</td>\n",
       "        <td>Dishwasher</td>\n",
       "        <td>8</td>\n",
       "        <td>AP</td>\n",
       "        <td>3</td>\n",
       "        <td>595</td>\n",
       "    </tr>\n",
       "    <tr>\n",
       "        <td>KL62</td>\n",
       "        <td>Dryer</td>\n",
       "        <td>12</td>\n",
       "        <td>AP</td>\n",
       "        <td>1</td>\n",
       "        <td>349.95</td>\n",
       "    </tr>\n",
       "    <tr>\n",
       "        <td>DR93</td>\n",
       "        <td>Gas Range</td>\n",
       "        <td>8</td>\n",
       "        <td>AP</td>\n",
       "        <td>2</td>\n",
       "        <td>495</td>\n",
       "    </tr>\n",
       "    <tr>\n",
       "        <td>BV06</td>\n",
       "        <td>Home Gym</td>\n",
       "        <td>45</td>\n",
       "        <td>SG</td>\n",
       "        <td>2</td>\n",
       "        <td>794.95</td>\n",
       "    </tr>\n",
       "    <tr>\n",
       "        <td>AT94</td>\n",
       "        <td>Iron</td>\n",
       "        <td>50</td>\n",
       "        <td>HW</td>\n",
       "        <td>3</td>\n",
       "        <td>24.95</td>\n",
       "    </tr>\n",
       "    <tr>\n",
       "        <td>CD52</td>\n",
       "        <td>Microwave Oven</td>\n",
       "        <td>32</td>\n",
       "        <td>AP</td>\n",
       "        <td>1</td>\n",
       "        <td>165</td>\n",
       "    </tr>\n",
       "    <tr>\n",
       "        <td>FD21</td>\n",
       "        <td>Stand Mixer</td>\n",
       "        <td>22</td>\n",
       "        <td>HW</td>\n",
       "        <td>3</td>\n",
       "        <td>159.95</td>\n",
       "    </tr>\n",
       "    <tr>\n",
       "        <td>KV29</td>\n",
       "        <td>Treadmill</td>\n",
       "        <td>9</td>\n",
       "        <td>SG</td>\n",
       "        <td>2</td>\n",
       "        <td>1390</td>\n",
       "    </tr>\n",
       "    <tr>\n",
       "        <td>DW11</td>\n",
       "        <td>Washer</td>\n",
       "        <td>12</td>\n",
       "        <td>AP</td>\n",
       "        <td>3</td>\n",
       "        <td>399.99</td>\n",
       "    </tr>\n",
       "</table>"
      ],
      "text/plain": [
       "[('DL71', 'Cordless Drill', 21, 'HW', '3', 129.95),\n",
       " ('KT03', 'Dishwasher', 8, 'AP', '3', 595),\n",
       " ('KL62', 'Dryer', 12, 'AP', '1', 349.95),\n",
       " ('DR93', 'Gas Range', 8, 'AP', '2', 495),\n",
       " ('BV06', 'Home Gym', 45, 'SG', '2', 794.95),\n",
       " ('AT94', 'Iron', 50, 'HW', '3', 24.95),\n",
       " ('CD52', 'Microwave Oven', 32, 'AP', '1', 165),\n",
       " ('FD21', 'Stand Mixer', 22, 'HW', '3', 159.95),\n",
       " ('KV29', 'Treadmill', 9, 'SG', '2', 1390),\n",
       " ('DW11', 'Washer', 12, 'AP', '3', 399.99)]"
      ]
     },
     "execution_count": 29,
     "metadata": {},
     "output_type": "execute_result"
    }
   ],
   "source": [
    "%%sql \n",
    "/* c.6 */\n",
    "select * \n",
    "from part\n",
    "order by description;"
   ]
  },
  {
   "cell_type": "markdown",
   "id": "f4c099b1",
   "metadata": {},
   "source": [
    "**C.7. List all details about all parts. Order the output by part number within warehouse. \n",
    "(That is, order the output by warehouse and then by part number.)** "
   ]
  },
  {
   "cell_type": "code",
   "execution_count": 30,
   "id": "30fe56c5",
   "metadata": {},
   "outputs": [
    {
     "name": "stdout",
     "output_type": "stream",
     "text": [
      " * sqlite://\n",
      "Done.\n"
     ]
    },
    {
     "data": {
      "text/html": [
       "<table>\n",
       "    <tr>\n",
       "        <th>PART_NUM</th>\n",
       "        <th>DESCRIPTION</th>\n",
       "        <th>ON_HAND</th>\n",
       "        <th>CLASS</th>\n",
       "        <th>WAREHOUSE</th>\n",
       "        <th>PRICE</th>\n",
       "    </tr>\n",
       "    <tr>\n",
       "        <td>CD52</td>\n",
       "        <td>Microwave Oven</td>\n",
       "        <td>32</td>\n",
       "        <td>AP</td>\n",
       "        <td>1</td>\n",
       "        <td>165</td>\n",
       "    </tr>\n",
       "    <tr>\n",
       "        <td>KL62</td>\n",
       "        <td>Dryer</td>\n",
       "        <td>12</td>\n",
       "        <td>AP</td>\n",
       "        <td>1</td>\n",
       "        <td>349.95</td>\n",
       "    </tr>\n",
       "    <tr>\n",
       "        <td>BV06</td>\n",
       "        <td>Home Gym</td>\n",
       "        <td>45</td>\n",
       "        <td>SG</td>\n",
       "        <td>2</td>\n",
       "        <td>794.95</td>\n",
       "    </tr>\n",
       "    <tr>\n",
       "        <td>DR93</td>\n",
       "        <td>Gas Range</td>\n",
       "        <td>8</td>\n",
       "        <td>AP</td>\n",
       "        <td>2</td>\n",
       "        <td>495</td>\n",
       "    </tr>\n",
       "    <tr>\n",
       "        <td>KV29</td>\n",
       "        <td>Treadmill</td>\n",
       "        <td>9</td>\n",
       "        <td>SG</td>\n",
       "        <td>2</td>\n",
       "        <td>1390</td>\n",
       "    </tr>\n",
       "    <tr>\n",
       "        <td>AT94</td>\n",
       "        <td>Iron</td>\n",
       "        <td>50</td>\n",
       "        <td>HW</td>\n",
       "        <td>3</td>\n",
       "        <td>24.95</td>\n",
       "    </tr>\n",
       "    <tr>\n",
       "        <td>DL71</td>\n",
       "        <td>Cordless Drill</td>\n",
       "        <td>21</td>\n",
       "        <td>HW</td>\n",
       "        <td>3</td>\n",
       "        <td>129.95</td>\n",
       "    </tr>\n",
       "    <tr>\n",
       "        <td>DW11</td>\n",
       "        <td>Washer</td>\n",
       "        <td>12</td>\n",
       "        <td>AP</td>\n",
       "        <td>3</td>\n",
       "        <td>399.99</td>\n",
       "    </tr>\n",
       "    <tr>\n",
       "        <td>FD21</td>\n",
       "        <td>Stand Mixer</td>\n",
       "        <td>22</td>\n",
       "        <td>HW</td>\n",
       "        <td>3</td>\n",
       "        <td>159.95</td>\n",
       "    </tr>\n",
       "    <tr>\n",
       "        <td>KT03</td>\n",
       "        <td>Dishwasher</td>\n",
       "        <td>8</td>\n",
       "        <td>AP</td>\n",
       "        <td>3</td>\n",
       "        <td>595</td>\n",
       "    </tr>\n",
       "</table>"
      ],
      "text/plain": [
       "[('CD52', 'Microwave Oven', 32, 'AP', '1', 165),\n",
       " ('KL62', 'Dryer', 12, 'AP', '1', 349.95),\n",
       " ('BV06', 'Home Gym', 45, 'SG', '2', 794.95),\n",
       " ('DR93', 'Gas Range', 8, 'AP', '2', 495),\n",
       " ('KV29', 'Treadmill', 9, 'SG', '2', 1390),\n",
       " ('AT94', 'Iron', 50, 'HW', '3', 24.95),\n",
       " ('DL71', 'Cordless Drill', 21, 'HW', '3', 129.95),\n",
       " ('DW11', 'Washer', 12, 'AP', '3', 399.99),\n",
       " ('FD21', 'Stand Mixer', 22, 'HW', '3', 159.95),\n",
       " ('KT03', 'Dishwasher', 8, 'AP', '3', 595)]"
      ]
     },
     "execution_count": 30,
     "metadata": {},
     "output_type": "execute_result"
    }
   ],
   "source": [
    "%%sql \n",
    "/* c.7 */\n",
    "select * \n",
    "from part \n",
    "order by warehouse, part_num;"
   ]
  },
  {
   "cell_type": "markdown",
   "id": "61928431",
   "metadata": {},
   "source": [
    "**C.8. List the part number, part description, and on-hand value of each part whose number \n",
    "of units on hand is more than the average number of units on hand for all parts. (Hint: Use \n",
    "a subquery.)** "
   ]
  },
  {
   "cell_type": "code",
   "execution_count": 31,
   "id": "2ce8d3d8",
   "metadata": {},
   "outputs": [
    {
     "name": "stdout",
     "output_type": "stream",
     "text": [
      " * sqlite://\n",
      "Done.\n"
     ]
    },
    {
     "data": {
      "text/html": [
       "<table>\n",
       "    <tr>\n",
       "        <th>PART_NUM</th>\n",
       "        <th>DESCRIPTION</th>\n",
       "        <th>on_hand_value</th>\n",
       "    </tr>\n",
       "    <tr>\n",
       "        <td>AT94</td>\n",
       "        <td>Iron</td>\n",
       "        <td>1247.5</td>\n",
       "    </tr>\n",
       "    <tr>\n",
       "        <td>BV06</td>\n",
       "        <td>Home Gym</td>\n",
       "        <td>35772.75</td>\n",
       "    </tr>\n",
       "    <tr>\n",
       "        <td>CD52</td>\n",
       "        <td>Microwave Oven</td>\n",
       "        <td>5280</td>\n",
       "    </tr>\n",
       "    <tr>\n",
       "        <td>FD21</td>\n",
       "        <td>Stand Mixer</td>\n",
       "        <td>3518.8999999999996</td>\n",
       "    </tr>\n",
       "</table>"
      ],
      "text/plain": [
       "[('AT94', 'Iron', 1247.5),\n",
       " ('BV06', 'Home Gym', 35772.75),\n",
       " ('CD52', 'Microwave Oven', 5280),\n",
       " ('FD21', 'Stand Mixer', 3518.8999999999996)]"
      ]
     },
     "execution_count": 31,
     "metadata": {},
     "output_type": "execute_result"
    }
   ],
   "source": [
    "%%sql \n",
    "/* c.8 */\n",
    "select part_num, description, (on_hand * price) as on_hand_value\n",
    "from part \n",
    "where on_hand > \n",
    "(select avg(on_hand)\n",
    "from part);"
   ]
  },
  {
   "cell_type": "markdown",
   "id": "b088c180",
   "metadata": {},
   "source": [
    "**C.9. List the sum of the balances of all customers for each sales rep. Order and group the \n",
    "results by sales rep number.** "
   ]
  },
  {
   "cell_type": "code",
   "execution_count": 32,
   "id": "503e3cde",
   "metadata": {},
   "outputs": [
    {
     "name": "stdout",
     "output_type": "stream",
     "text": [
      " * sqlite://\n",
      "Done.\n"
     ]
    },
    {
     "data": {
      "text/html": [
       "<table>\n",
       "    <tr>\n",
       "        <th>REP_NUM</th>\n",
       "        <th>sum(balance)</th>\n",
       "    </tr>\n",
       "    <tr>\n",
       "        <td>20</td>\n",
       "        <td>27533</td>\n",
       "    </tr>\n",
       "    <tr>\n",
       "        <td>35</td>\n",
       "        <td>8815.75</td>\n",
       "    </tr>\n",
       "    <tr>\n",
       "        <td>65</td>\n",
       "        <td>11303</td>\n",
       "    </tr>\n",
       "</table>"
      ],
      "text/plain": [
       "[('20', 27533), ('35', 8815.75), ('65', 11303)]"
      ]
     },
     "execution_count": 32,
     "metadata": {},
     "output_type": "execute_result"
    }
   ],
   "source": [
    "%%sql \n",
    "/* c.9 */\n",
    "select rep_num , sum(balance)\n",
    "from customer\n",
    "group by rep_num\n",
    "order by rep_num;"
   ]
  },
  {
   "cell_type": "markdown",
   "id": "e8c44d96",
   "metadata": {},
   "source": [
    "**C.10. List the sum of the balances of all customers for each sales rep, but restrict the output \n",
    "to those sales reps for which the sum is more than $10,000. Order the results by sales rep \n",
    "number.** "
   ]
  },
  {
   "cell_type": "code",
   "execution_count": 33,
   "id": "bfc9c9f7",
   "metadata": {},
   "outputs": [
    {
     "name": "stdout",
     "output_type": "stream",
     "text": [
      " * sqlite://\n",
      "Done.\n"
     ]
    },
    {
     "data": {
      "text/html": [
       "<table>\n",
       "    <tr>\n",
       "        <th>REP_NUM</th>\n",
       "        <th>sum(balance)</th>\n",
       "    </tr>\n",
       "    <tr>\n",
       "        <td>20</td>\n",
       "        <td>27533</td>\n",
       "    </tr>\n",
       "    <tr>\n",
       "        <td>65</td>\n",
       "        <td>11303</td>\n",
       "    </tr>\n",
       "</table>"
      ],
      "text/plain": [
       "[('20', 27533), ('65', 11303)]"
      ]
     },
     "execution_count": 33,
     "metadata": {},
     "output_type": "execute_result"
    }
   ],
   "source": [
    "%%sql \n",
    "/* c.10 */\n",
    "select rep_num, sum(balance)\n",
    "from customer\n",
    "group by rep_num\n",
    "having sum(balance) > 10000\n",
    "order by rep_num;"
   ]
  },
  {
   "cell_type": "markdown",
   "id": "9ac44a8e",
   "metadata": {},
   "source": [
    "**C.11. List the part number of any part with an unknown description.** "
   ]
  },
  {
   "cell_type": "code",
   "execution_count": 34,
   "id": "5b3b8bba",
   "metadata": {},
   "outputs": [
    {
     "name": "stdout",
     "output_type": "stream",
     "text": [
      " * sqlite://\n",
      "Done.\n"
     ]
    },
    {
     "data": {
      "text/html": [
       "<table>\n",
       "    <tr>\n",
       "        <th>PART_NUM</th>\n",
       "    </tr>\n",
       "</table>"
      ],
      "text/plain": [
       "[]"
      ]
     },
     "execution_count": 34,
     "metadata": {},
     "output_type": "execute_result"
    }
   ],
   "source": [
    "%%sql \n",
    "/* c.11 */\n",
    "select part_num\n",
    "from part\n",
    "where description is null;"
   ]
  },
  {
   "cell_type": "markdown",
   "id": "8125c064",
   "metadata": {},
   "source": [
    "**D.1. For each order, list the order number and order date along with the number and name \n",
    "of the customer that placed the order.**"
   ]
  },
  {
   "cell_type": "code",
   "execution_count": 35,
   "id": "319701c9",
   "metadata": {},
   "outputs": [
    {
     "name": "stdout",
     "output_type": "stream",
     "text": [
      " * sqlite://\n",
      "Done.\n"
     ]
    },
    {
     "data": {
      "text/html": [
       "<table>\n",
       "    <tr>\n",
       "        <th>ORDER_NUM</th>\n",
       "        <th>ORDER_DATE</th>\n",
       "        <th>CUSTOMER_NUM</th>\n",
       "        <th>CUSTOMER_NAME</th>\n",
       "    </tr>\n",
       "    <tr>\n",
       "        <td>21608</td>\n",
       "        <td>20-OCT-2010</td>\n",
       "        <td>148</td>\n",
       "        <td>Al&#x27;s Appliance and Sport</td>\n",
       "    </tr>\n",
       "    <tr>\n",
       "        <td>21610</td>\n",
       "        <td>20-OCT-2010</td>\n",
       "        <td>356</td>\n",
       "        <td>Ferguson&#x27;s</td>\n",
       "    </tr>\n",
       "    <tr>\n",
       "        <td>21613</td>\n",
       "        <td>21-OCT-2010</td>\n",
       "        <td>408</td>\n",
       "        <td>The Everything Shop</td>\n",
       "    </tr>\n",
       "    <tr>\n",
       "        <td>21614</td>\n",
       "        <td>21-OCT-2010</td>\n",
       "        <td>282</td>\n",
       "        <td>Brookings Direct</td>\n",
       "    </tr>\n",
       "    <tr>\n",
       "        <td>21617</td>\n",
       "        <td>23-OCT-2010</td>\n",
       "        <td>608</td>\n",
       "        <td>Johnson&#x27;s Department Store</td>\n",
       "    </tr>\n",
       "    <tr>\n",
       "        <td>21619</td>\n",
       "        <td>23-OCT-2010</td>\n",
       "        <td>148</td>\n",
       "        <td>Al&#x27;s Appliance and Sport</td>\n",
       "    </tr>\n",
       "    <tr>\n",
       "        <td>21623</td>\n",
       "        <td>23-OCT-2010</td>\n",
       "        <td>608</td>\n",
       "        <td>Johnson&#x27;s Department Store</td>\n",
       "    </tr>\n",
       "</table>"
      ],
      "text/plain": [
       "[('21608', '20-OCT-2010', '148', \"Al's Appliance and Sport\"),\n",
       " ('21610', '20-OCT-2010', '356', \"Ferguson's\"),\n",
       " ('21613', '21-OCT-2010', '408', 'The Everything Shop'),\n",
       " ('21614', '21-OCT-2010', '282', 'Brookings Direct'),\n",
       " ('21617', '23-OCT-2010', '608', \"Johnson's Department Store\"),\n",
       " ('21619', '23-OCT-2010', '148', \"Al's Appliance and Sport\"),\n",
       " ('21623', '23-OCT-2010', '608', \"Johnson's Department Store\")]"
      ]
     },
     "execution_count": 35,
     "metadata": {},
     "output_type": "execute_result"
    }
   ],
   "source": [
    "%%sql\n",
    "SELECT order_num, order_date, orders.customer_num,customer_name \n",
    "FROM orders, customer \n",
    "WHERE orders.customer_num = customer.customer_num\n"
   ]
  },
  {
   "cell_type": "markdown",
   "id": "badd7eb7",
   "metadata": {},
   "source": [
    "**D.2. For each order placed on October 23, 2010, list the order number along with the \n",
    "number and name of the customer that placed the order.**"
   ]
  },
  {
   "cell_type": "code",
   "execution_count": 36,
   "id": "7fc45704",
   "metadata": {},
   "outputs": [
    {
     "name": "stdout",
     "output_type": "stream",
     "text": [
      " * sqlite://\n",
      "Done.\n"
     ]
    },
    {
     "data": {
      "text/html": [
       "<table>\n",
       "    <tr>\n",
       "        <th>ORDER_NUM</th>\n",
       "        <th>CUSTOMER_NUM</th>\n",
       "        <th>CUSTOMER_NAME</th>\n",
       "    </tr>\n",
       "    <tr>\n",
       "        <td>21617</td>\n",
       "        <td>608</td>\n",
       "        <td>Johnson&#x27;s Department Store</td>\n",
       "    </tr>\n",
       "    <tr>\n",
       "        <td>21619</td>\n",
       "        <td>148</td>\n",
       "        <td>Al&#x27;s Appliance and Sport</td>\n",
       "    </tr>\n",
       "    <tr>\n",
       "        <td>21623</td>\n",
       "        <td>608</td>\n",
       "        <td>Johnson&#x27;s Department Store</td>\n",
       "    </tr>\n",
       "</table>"
      ],
      "text/plain": [
       "[('21617', '608', \"Johnson's Department Store\"),\n",
       " ('21619', '148', \"Al's Appliance and Sport\"),\n",
       " ('21623', '608', \"Johnson's Department Store\")]"
      ]
     },
     "execution_count": 36,
     "metadata": {},
     "output_type": "execute_result"
    }
   ],
   "source": [
    "%%sql \n",
    "SELECT order_num, orders.customer_num, customer_name\n",
    "FROM orders, customer \n",
    "WHERE orders.customer_num = customer.customer_num\n",
    "AND order_date = '23-OCT-2010'"
   ]
  },
  {
   "cell_type": "markdown",
   "id": "06176a31",
   "metadata": {},
   "source": [
    "**D.3. For each order, list the order number, order date, part number, number of units \n",
    "ordered, and quoted price for each order line that makes up the order.**"
   ]
  },
  {
   "cell_type": "code",
   "execution_count": 37,
   "id": "f796b7ea",
   "metadata": {},
   "outputs": [
    {
     "name": "stdout",
     "output_type": "stream",
     "text": [
      " * sqlite://\n",
      "Done.\n"
     ]
    },
    {
     "data": {
      "text/html": [
       "<table>\n",
       "    <tr>\n",
       "        <th>ORDER_NUM</th>\n",
       "        <th>ORDER_DATE</th>\n",
       "        <th>PART_NUM</th>\n",
       "        <th>NUM_ORDERED</th>\n",
       "        <th>QUOTED_PRICE</th>\n",
       "    </tr>\n",
       "    <tr>\n",
       "        <td>21608</td>\n",
       "        <td>20-OCT-2010</td>\n",
       "        <td>AT94</td>\n",
       "        <td>11</td>\n",
       "        <td>21.95</td>\n",
       "    </tr>\n",
       "    <tr>\n",
       "        <td>21610</td>\n",
       "        <td>20-OCT-2010</td>\n",
       "        <td>DR93</td>\n",
       "        <td>1</td>\n",
       "        <td>495</td>\n",
       "    </tr>\n",
       "    <tr>\n",
       "        <td>21610</td>\n",
       "        <td>20-OCT-2010</td>\n",
       "        <td>DW11</td>\n",
       "        <td>1</td>\n",
       "        <td>399.99</td>\n",
       "    </tr>\n",
       "    <tr>\n",
       "        <td>21613</td>\n",
       "        <td>21-OCT-2010</td>\n",
       "        <td>KL62</td>\n",
       "        <td>4</td>\n",
       "        <td>329.95</td>\n",
       "    </tr>\n",
       "    <tr>\n",
       "        <td>21614</td>\n",
       "        <td>21-OCT-2010</td>\n",
       "        <td>KT03</td>\n",
       "        <td>2</td>\n",
       "        <td>595</td>\n",
       "    </tr>\n",
       "    <tr>\n",
       "        <td>21617</td>\n",
       "        <td>23-OCT-2010</td>\n",
       "        <td>BV06</td>\n",
       "        <td>2</td>\n",
       "        <td>794.95</td>\n",
       "    </tr>\n",
       "    <tr>\n",
       "        <td>21617</td>\n",
       "        <td>23-OCT-2010</td>\n",
       "        <td>CD52</td>\n",
       "        <td>4</td>\n",
       "        <td>150</td>\n",
       "    </tr>\n",
       "    <tr>\n",
       "        <td>21619</td>\n",
       "        <td>23-OCT-2010</td>\n",
       "        <td>DR93</td>\n",
       "        <td>1</td>\n",
       "        <td>495</td>\n",
       "    </tr>\n",
       "    <tr>\n",
       "        <td>21623</td>\n",
       "        <td>23-OCT-2010</td>\n",
       "        <td>KV29</td>\n",
       "        <td>2</td>\n",
       "        <td>1290</td>\n",
       "    </tr>\n",
       "</table>"
      ],
      "text/plain": [
       "[('21608', '20-OCT-2010', 'AT94', 11, 21.95),\n",
       " ('21610', '20-OCT-2010', 'DR93', 1, 495),\n",
       " ('21610', '20-OCT-2010', 'DW11', 1, 399.99),\n",
       " ('21613', '21-OCT-2010', 'KL62', 4, 329.95),\n",
       " ('21614', '21-OCT-2010', 'KT03', 2, 595),\n",
       " ('21617', '23-OCT-2010', 'BV06', 2, 794.95),\n",
       " ('21617', '23-OCT-2010', 'CD52', 4, 150),\n",
       " ('21619', '23-OCT-2010', 'DR93', 1, 495),\n",
       " ('21623', '23-OCT-2010', 'KV29', 2, 1290)]"
      ]
     },
     "execution_count": 37,
     "metadata": {},
     "output_type": "execute_result"
    }
   ],
   "source": [
    "%%sql \n",
    "SELECT orders.order_num, orders.order_date, part_num, num_ordered, quoted_price\n",
    "FROM orders, order_line\n",
    "WHERE orders.order_num = order_line.order_num"
   ]
  },
  {
   "cell_type": "markdown",
   "id": "c383dabf",
   "metadata": {},
   "source": [
    "**D.4. Use the IN operator to find the number and name of each customer that placed an \n",
    "order on October 23, 2010.**"
   ]
  },
  {
   "cell_type": "code",
   "execution_count": 38,
   "id": "6cae4e3b",
   "metadata": {},
   "outputs": [
    {
     "name": "stdout",
     "output_type": "stream",
     "text": [
      " * sqlite://\n",
      "Done.\n"
     ]
    },
    {
     "data": {
      "text/html": [
       "<table>\n",
       "    <tr>\n",
       "        <th>CUSTOMER_NUM</th>\n",
       "        <th>CUSTOMER_NAME</th>\n",
       "    </tr>\n",
       "    <tr>\n",
       "        <td>148</td>\n",
       "        <td>Al&#x27;s Appliance and Sport</td>\n",
       "    </tr>\n",
       "    <tr>\n",
       "        <td>608</td>\n",
       "        <td>Johnson&#x27;s Department Store</td>\n",
       "    </tr>\n",
       "</table>"
      ],
      "text/plain": [
       "[('148', \"Al's Appliance and Sport\"), ('608', \"Johnson's Department Store\")]"
      ]
     },
     "execution_count": 38,
     "metadata": {},
     "output_type": "execute_result"
    }
   ],
   "source": [
    "%%sql\n",
    "SELECT customer_num, customer_name\n",
    "FROM customer \n",
    "WHERE customer_num IN(\n",
    "    SELECT customer_num \n",
    "    FROM orders \n",
    "    WHERE order_date = '23-OCT-2010'); "
   ]
  },
  {
   "cell_type": "markdown",
   "id": "65a1c787",
   "metadata": {},
   "source": [
    "**D.5. Repeat Exercise 4, but this time use the EXISTS operator in your answer.**"
   ]
  },
  {
   "cell_type": "code",
   "execution_count": 39,
   "id": "b5b1c356",
   "metadata": {},
   "outputs": [
    {
     "name": "stdout",
     "output_type": "stream",
     "text": [
      " * sqlite://\n",
      "Done.\n"
     ]
    },
    {
     "data": {
      "text/html": [
       "<table>\n",
       "    <tr>\n",
       "        <th>CUSTOMER_NUM</th>\n",
       "        <th>CUSTOMER_NAME</th>\n",
       "    </tr>\n",
       "    <tr>\n",
       "        <td>148</td>\n",
       "        <td>Al&#x27;s Appliance and Sport</td>\n",
       "    </tr>\n",
       "    <tr>\n",
       "        <td>608</td>\n",
       "        <td>Johnson&#x27;s Department Store</td>\n",
       "    </tr>\n",
       "</table>"
      ],
      "text/plain": [
       "[('148', \"Al's Appliance and Sport\"), ('608', \"Johnson's Department Store\")]"
      ]
     },
     "execution_count": 39,
     "metadata": {},
     "output_type": "execute_result"
    }
   ],
   "source": [
    "%%sql\n",
    "SELECT customer_num, customer_name\n",
    "FROM customer \n",
    "WHERE EXISTS \n",
    "(SELECT *\n",
    " FROM orders\n",
    " WHERE orders.customer_num = customer.customer_num \n",
    " AND order_date = '23-OCT-2010'); "
   ]
  },
  {
   "cell_type": "markdown",
   "id": "5f47beca",
   "metadata": {},
   "source": [
    "**D.6. Find the number and name of each customer that did not place an order on October \n",
    "23, 2010.**"
   ]
  },
  {
   "cell_type": "code",
   "execution_count": 40,
   "id": "4377ff1d",
   "metadata": {},
   "outputs": [
    {
     "name": "stdout",
     "output_type": "stream",
     "text": [
      " * sqlite://\n",
      "Done.\n"
     ]
    },
    {
     "data": {
      "text/html": [
       "<table>\n",
       "    <tr>\n",
       "        <th>CUSTOMER_NUM</th>\n",
       "        <th>CUSTOMER_NAME</th>\n",
       "    </tr>\n",
       "    <tr>\n",
       "        <td>282</td>\n",
       "        <td>Brookings Direct</td>\n",
       "    </tr>\n",
       "    <tr>\n",
       "        <td>356</td>\n",
       "        <td>Ferguson&#x27;s</td>\n",
       "    </tr>\n",
       "    <tr>\n",
       "        <td>408</td>\n",
       "        <td>The Everything Shop</td>\n",
       "    </tr>\n",
       "    <tr>\n",
       "        <td>462</td>\n",
       "        <td>Bargains Galore</td>\n",
       "    </tr>\n",
       "    <tr>\n",
       "        <td>524</td>\n",
       "        <td>Kline&#x27;s</td>\n",
       "    </tr>\n",
       "    <tr>\n",
       "        <td>687</td>\n",
       "        <td>Lee&#x27;s Sport and Appliance</td>\n",
       "    </tr>\n",
       "    <tr>\n",
       "        <td>725</td>\n",
       "        <td>Deerfield&#x27;s Four Seasons</td>\n",
       "    </tr>\n",
       "    <tr>\n",
       "        <td>842</td>\n",
       "        <td>All Season</td>\n",
       "    </tr>\n",
       "</table>"
      ],
      "text/plain": [
       "[('282', 'Brookings Direct'),\n",
       " ('356', \"Ferguson's\"),\n",
       " ('408', 'The Everything Shop'),\n",
       " ('462', 'Bargains Galore'),\n",
       " ('524', \"Kline's\"),\n",
       " ('687', \"Lee's Sport and Appliance\"),\n",
       " ('725', \"Deerfield's Four Seasons\"),\n",
       " ('842', 'All Season')]"
      ]
     },
     "execution_count": 40,
     "metadata": {},
     "output_type": "execute_result"
    }
   ],
   "source": [
    "%%sql\n",
    "SELECT customer_num, customer_name\n",
    "FROM customer \n",
    "WHERE NOT customer_num IN(\n",
    "    SELECT customer_num \n",
    "    FROM orders \n",
    "    WHERE order_date = '23-OCT-2010'); "
   ]
  },
  {
   "cell_type": "markdown",
   "id": "ecd2c20d",
   "metadata": {},
   "source": [
    "**D.7. For each order, list the order number, order date, part number, part description, and \n",
    "item class for each part that makes up the order.**"
   ]
  },
  {
   "cell_type": "code",
   "execution_count": 41,
   "id": "462b3be9",
   "metadata": {},
   "outputs": [
    {
     "name": "stdout",
     "output_type": "stream",
     "text": [
      " * sqlite://\n",
      "Done.\n"
     ]
    },
    {
     "data": {
      "text/html": [
       "<table>\n",
       "    <tr>\n",
       "        <th>ORDER_NUM</th>\n",
       "        <th>PART_NUM</th>\n",
       "        <th>ORDER_DATE</th>\n",
       "        <th>DESCRIPTION</th>\n",
       "        <th>CLASS</th>\n",
       "    </tr>\n",
       "    <tr>\n",
       "        <td>21608</td>\n",
       "        <td>AT94</td>\n",
       "        <td>20-OCT-2010</td>\n",
       "        <td>Iron</td>\n",
       "        <td>HW</td>\n",
       "    </tr>\n",
       "    <tr>\n",
       "        <td>21610</td>\n",
       "        <td>DR93</td>\n",
       "        <td>20-OCT-2010</td>\n",
       "        <td>Gas Range</td>\n",
       "        <td>AP</td>\n",
       "    </tr>\n",
       "    <tr>\n",
       "        <td>21610</td>\n",
       "        <td>DW11</td>\n",
       "        <td>20-OCT-2010</td>\n",
       "        <td>Washer</td>\n",
       "        <td>AP</td>\n",
       "    </tr>\n",
       "    <tr>\n",
       "        <td>21613</td>\n",
       "        <td>KL62</td>\n",
       "        <td>21-OCT-2010</td>\n",
       "        <td>Dryer</td>\n",
       "        <td>AP</td>\n",
       "    </tr>\n",
       "    <tr>\n",
       "        <td>21614</td>\n",
       "        <td>KT03</td>\n",
       "        <td>21-OCT-2010</td>\n",
       "        <td>Dishwasher</td>\n",
       "        <td>AP</td>\n",
       "    </tr>\n",
       "    <tr>\n",
       "        <td>21617</td>\n",
       "        <td>BV06</td>\n",
       "        <td>23-OCT-2010</td>\n",
       "        <td>Home Gym</td>\n",
       "        <td>SG</td>\n",
       "    </tr>\n",
       "    <tr>\n",
       "        <td>21617</td>\n",
       "        <td>CD52</td>\n",
       "        <td>23-OCT-2010</td>\n",
       "        <td>Microwave Oven</td>\n",
       "        <td>AP</td>\n",
       "    </tr>\n",
       "    <tr>\n",
       "        <td>21619</td>\n",
       "        <td>DR93</td>\n",
       "        <td>23-OCT-2010</td>\n",
       "        <td>Gas Range</td>\n",
       "        <td>AP</td>\n",
       "    </tr>\n",
       "    <tr>\n",
       "        <td>21623</td>\n",
       "        <td>KV29</td>\n",
       "        <td>23-OCT-2010</td>\n",
       "        <td>Treadmill</td>\n",
       "        <td>SG</td>\n",
       "    </tr>\n",
       "</table>"
      ],
      "text/plain": [
       "[('21608', 'AT94', '20-OCT-2010', 'Iron', 'HW'),\n",
       " ('21610', 'DR93', '20-OCT-2010', 'Gas Range', 'AP'),\n",
       " ('21610', 'DW11', '20-OCT-2010', 'Washer', 'AP'),\n",
       " ('21613', 'KL62', '21-OCT-2010', 'Dryer', 'AP'),\n",
       " ('21614', 'KT03', '21-OCT-2010', 'Dishwasher', 'AP'),\n",
       " ('21617', 'BV06', '23-OCT-2010', 'Home Gym', 'SG'),\n",
       " ('21617', 'CD52', '23-OCT-2010', 'Microwave Oven', 'AP'),\n",
       " ('21619', 'DR93', '23-OCT-2010', 'Gas Range', 'AP'),\n",
       " ('21623', 'KV29', '23-OCT-2010', 'Treadmill', 'SG')]"
      ]
     },
     "execution_count": 41,
     "metadata": {},
     "output_type": "execute_result"
    }
   ],
   "source": [
    "%%sql \n",
    "SELECT order_line.order_num, order_line.part_num, orders.order_date, part.description, part.class\n",
    "FROM order_line, orders, part\n",
    "WHERE order_line.part_num = part.part_num\n",
    "AND order_line.order_num = orders.order_num; "
   ]
  },
  {
   "cell_type": "markdown",
   "id": "aa9f0b58",
   "metadata": {},
   "source": [
    "**D.8. Repeat Exercise 7, but this time order the rows by item class and then by order \n",
    "number**"
   ]
  },
  {
   "cell_type": "code",
   "execution_count": 42,
   "id": "57998fec",
   "metadata": {},
   "outputs": [
    {
     "name": "stdout",
     "output_type": "stream",
     "text": [
      " * sqlite://\n",
      "Done.\n"
     ]
    },
    {
     "data": {
      "text/html": [
       "<table>\n",
       "    <tr>\n",
       "        <th>ORDER_NUM</th>\n",
       "        <th>PART_NUM</th>\n",
       "        <th>ORDER_DATE</th>\n",
       "        <th>DESCRIPTION</th>\n",
       "        <th>CLASS</th>\n",
       "    </tr>\n",
       "    <tr>\n",
       "        <td>21610</td>\n",
       "        <td>DR93</td>\n",
       "        <td>20-OCT-2010</td>\n",
       "        <td>Gas Range</td>\n",
       "        <td>AP</td>\n",
       "    </tr>\n",
       "    <tr>\n",
       "        <td>21610</td>\n",
       "        <td>DW11</td>\n",
       "        <td>20-OCT-2010</td>\n",
       "        <td>Washer</td>\n",
       "        <td>AP</td>\n",
       "    </tr>\n",
       "    <tr>\n",
       "        <td>21613</td>\n",
       "        <td>KL62</td>\n",
       "        <td>21-OCT-2010</td>\n",
       "        <td>Dryer</td>\n",
       "        <td>AP</td>\n",
       "    </tr>\n",
       "    <tr>\n",
       "        <td>21614</td>\n",
       "        <td>KT03</td>\n",
       "        <td>21-OCT-2010</td>\n",
       "        <td>Dishwasher</td>\n",
       "        <td>AP</td>\n",
       "    </tr>\n",
       "    <tr>\n",
       "        <td>21617</td>\n",
       "        <td>CD52</td>\n",
       "        <td>23-OCT-2010</td>\n",
       "        <td>Microwave Oven</td>\n",
       "        <td>AP</td>\n",
       "    </tr>\n",
       "    <tr>\n",
       "        <td>21619</td>\n",
       "        <td>DR93</td>\n",
       "        <td>23-OCT-2010</td>\n",
       "        <td>Gas Range</td>\n",
       "        <td>AP</td>\n",
       "    </tr>\n",
       "    <tr>\n",
       "        <td>21608</td>\n",
       "        <td>AT94</td>\n",
       "        <td>20-OCT-2010</td>\n",
       "        <td>Iron</td>\n",
       "        <td>HW</td>\n",
       "    </tr>\n",
       "    <tr>\n",
       "        <td>21617</td>\n",
       "        <td>BV06</td>\n",
       "        <td>23-OCT-2010</td>\n",
       "        <td>Home Gym</td>\n",
       "        <td>SG</td>\n",
       "    </tr>\n",
       "    <tr>\n",
       "        <td>21623</td>\n",
       "        <td>KV29</td>\n",
       "        <td>23-OCT-2010</td>\n",
       "        <td>Treadmill</td>\n",
       "        <td>SG</td>\n",
       "    </tr>\n",
       "</table>"
      ],
      "text/plain": [
       "[('21610', 'DR93', '20-OCT-2010', 'Gas Range', 'AP'),\n",
       " ('21610', 'DW11', '20-OCT-2010', 'Washer', 'AP'),\n",
       " ('21613', 'KL62', '21-OCT-2010', 'Dryer', 'AP'),\n",
       " ('21614', 'KT03', '21-OCT-2010', 'Dishwasher', 'AP'),\n",
       " ('21617', 'CD52', '23-OCT-2010', 'Microwave Oven', 'AP'),\n",
       " ('21619', 'DR93', '23-OCT-2010', 'Gas Range', 'AP'),\n",
       " ('21608', 'AT94', '20-OCT-2010', 'Iron', 'HW'),\n",
       " ('21617', 'BV06', '23-OCT-2010', 'Home Gym', 'SG'),\n",
       " ('21623', 'KV29', '23-OCT-2010', 'Treadmill', 'SG')]"
      ]
     },
     "execution_count": 42,
     "metadata": {},
     "output_type": "execute_result"
    }
   ],
   "source": [
    "%%sql \n",
    "SELECT order_line.order_num, order_line.part_num, orders.order_date, part.description, part.class\n",
    "FROM order_line, orders, part\n",
    "WHERE order_line.part_num = part.part_num\n",
    "AND order_line.order_num = orders.order_num\n",
    "ORDER BY part.class, order_line.order_num;"
   ]
  },
  {
   "cell_type": "markdown",
   "id": "995e8d7e",
   "metadata": {},
   "source": [
    "**D.9. Use a subquery to find the rep number, last name, and first name of each sales rep \n",
    "who represents at least one customer with a credit limit of $10,000. List each sales rep only \n",
    "once in the results.**"
   ]
  },
  {
   "cell_type": "code",
   "execution_count": 43,
   "id": "a501cc58",
   "metadata": {},
   "outputs": [
    {
     "name": "stdout",
     "output_type": "stream",
     "text": [
      " * sqlite://\n",
      "Done.\n"
     ]
    },
    {
     "data": {
      "text/html": [
       "<table>\n",
       "    <tr>\n",
       "        <th>rep_num</th>\n",
       "        <th>last_name</th>\n",
       "        <th>first_name</th>\n",
       "    </tr>\n",
       "    <tr>\n",
       "        <td>35</td>\n",
       "        <td>Hull</td>\n",
       "        <td>Richard</td>\n",
       "    </tr>\n",
       "    <tr>\n",
       "        <td>65</td>\n",
       "        <td>Perez</td>\n",
       "        <td>Juan</td>\n",
       "    </tr>\n",
       "</table>"
      ],
      "text/plain": [
       "[('35', 'Hull', 'Richard'), ('65', 'Perez', 'Juan')]"
      ]
     },
     "execution_count": 43,
     "metadata": {},
     "output_type": "execute_result"
    }
   ],
   "source": [
    "%%sql \n",
    "SELECT DISTINCT rep_num, last_name, first_name\n",
    "FROM rep \n",
    "WHERE rep_num IN(\n",
    "SELECT rep_num\n",
    "FROM customer \n",
    "WHERE credit_limit = 10000);"
   ]
  },
  {
   "cell_type": "markdown",
   "id": "98e00a9e",
   "metadata": {},
   "source": [
    "**D.10. Repeat Exercise 9, but this time do not use a subquery.** "
   ]
  },
  {
   "cell_type": "code",
   "execution_count": 44,
   "id": "d9c2cd52",
   "metadata": {},
   "outputs": [
    {
     "name": "stdout",
     "output_type": "stream",
     "text": [
      " * sqlite://\n",
      "Done.\n"
     ]
    },
    {
     "data": {
      "text/html": [
       "<table>\n",
       "    <tr>\n",
       "        <th>rep_num</th>\n",
       "        <th>last_name</th>\n",
       "        <th>first_name</th>\n",
       "    </tr>\n",
       "    <tr>\n",
       "        <td>35</td>\n",
       "        <td>Hull</td>\n",
       "        <td>Richard</td>\n",
       "    </tr>\n",
       "    <tr>\n",
       "        <td>65</td>\n",
       "        <td>Perez</td>\n",
       "        <td>Juan</td>\n",
       "    </tr>\n",
       "</table>"
      ],
      "text/plain": [
       "[('35', 'Hull', 'Richard'), ('65', 'Perez', 'Juan')]"
      ]
     },
     "execution_count": 44,
     "metadata": {},
     "output_type": "execute_result"
    }
   ],
   "source": [
    "%%sql \n",
    "SELECT DISTINCT rep.rep_num, last_name, first_name\n",
    "FROM rep, customer \n",
    "WHERE rep.rep_num = customer.rep_num \n",
    "AND credit_limit = 10000; "
   ]
  },
  {
   "cell_type": "markdown",
   "id": "156d3cda",
   "metadata": {},
   "source": [
    "**D.11. Find the number and name of each customer that currently has an order on file for a \n",
    "Gas Range.**"
   ]
  },
  {
   "cell_type": "code",
   "execution_count": 45,
   "id": "eb1a49e4",
   "metadata": {},
   "outputs": [
    {
     "name": "stdout",
     "output_type": "stream",
     "text": [
      " * sqlite://\n",
      "Done.\n"
     ]
    },
    {
     "data": {
      "text/html": [
       "<table>\n",
       "    <tr>\n",
       "        <th>CUSTOMER_NUM</th>\n",
       "        <th>CUSTOMER_NAME</th>\n",
       "    </tr>\n",
       "    <tr>\n",
       "        <td>148</td>\n",
       "        <td>Al&#x27;s Appliance and Sport</td>\n",
       "    </tr>\n",
       "    <tr>\n",
       "        <td>356</td>\n",
       "        <td>Ferguson&#x27;s</td>\n",
       "    </tr>\n",
       "</table>"
      ],
      "text/plain": [
       "[('148', \"Al's Appliance and Sport\"), ('356', \"Ferguson's\")]"
      ]
     },
     "execution_count": 45,
     "metadata": {},
     "output_type": "execute_result"
    }
   ],
   "source": [
    "%%sql \n",
    "SELECT customer_num, customer_name\n",
    "FROM customer\n",
    "WHERE customer_num IN (\n",
    "SELECT orders.customer_num \n",
    "FROM orders, order_line\n",
    "WHERE orders.order_num = order_line.order_num \n",
    "AND order_line.part_num = 'DR93');"
   ]
  },
  {
   "cell_type": "markdown",
   "id": "c183d8c8",
   "metadata": {},
   "source": [
    "**D.12. List the part number, part description, and item class for each pair of parts that are in \n",
    "the same item class. (For example, one such pair would be part AT94 and part FD21, \n",
    "because the item class for both parts is HW.)**"
   ]
  },
  {
   "cell_type": "code",
   "execution_count": 46,
   "id": "f9d1aa4f",
   "metadata": {},
   "outputs": [
    {
     "name": "stdout",
     "output_type": "stream",
     "text": [
      " * sqlite://\n",
      "Done.\n"
     ]
    },
    {
     "data": {
      "text/html": [
       "<table>\n",
       "    <tr>\n",
       "        <th>PART_NUM</th>\n",
       "        <th>DESCRIPTION</th>\n",
       "        <th>CLASS</th>\n",
       "    </tr>\n",
       "    <tr>\n",
       "        <td>CD52</td>\n",
       "        <td>Microwave Oven</td>\n",
       "        <td>AP</td>\n",
       "    </tr>\n",
       "    <tr>\n",
       "        <td>DR93</td>\n",
       "        <td>Gas Range</td>\n",
       "        <td>AP</td>\n",
       "    </tr>\n",
       "    <tr>\n",
       "        <td>DW11</td>\n",
       "        <td>Washer</td>\n",
       "        <td>AP</td>\n",
       "    </tr>\n",
       "    <tr>\n",
       "        <td>KL62</td>\n",
       "        <td>Dryer</td>\n",
       "        <td>AP</td>\n",
       "    </tr>\n",
       "    <tr>\n",
       "        <td>KT03</td>\n",
       "        <td>Dishwasher</td>\n",
       "        <td>AP</td>\n",
       "    </tr>\n",
       "    <tr>\n",
       "        <td>AT94</td>\n",
       "        <td>Iron</td>\n",
       "        <td>HW</td>\n",
       "    </tr>\n",
       "    <tr>\n",
       "        <td>DL71</td>\n",
       "        <td>Cordless Drill</td>\n",
       "        <td>HW</td>\n",
       "    </tr>\n",
       "    <tr>\n",
       "        <td>FD21</td>\n",
       "        <td>Stand Mixer</td>\n",
       "        <td>HW</td>\n",
       "    </tr>\n",
       "    <tr>\n",
       "        <td>BV06</td>\n",
       "        <td>Home Gym</td>\n",
       "        <td>SG</td>\n",
       "    </tr>\n",
       "    <tr>\n",
       "        <td>KV29</td>\n",
       "        <td>Treadmill</td>\n",
       "        <td>SG</td>\n",
       "    </tr>\n",
       "</table>"
      ],
      "text/plain": [
       "[('CD52', 'Microwave Oven', 'AP'),\n",
       " ('DR93', 'Gas Range', 'AP'),\n",
       " ('DW11', 'Washer', 'AP'),\n",
       " ('KL62', 'Dryer', 'AP'),\n",
       " ('KT03', 'Dishwasher', 'AP'),\n",
       " ('AT94', 'Iron', 'HW'),\n",
       " ('DL71', 'Cordless Drill', 'HW'),\n",
       " ('FD21', 'Stand Mixer', 'HW'),\n",
       " ('BV06', 'Home Gym', 'SG'),\n",
       " ('KV29', 'Treadmill', 'SG')]"
      ]
     },
     "execution_count": 46,
     "metadata": {},
     "output_type": "execute_result"
    }
   ],
   "source": [
    "%%sql\n",
    "SELECT part_num, description, class\n",
    "FROM part\n",
    "ORDER BY class;"
   ]
  },
  {
   "cell_type": "markdown",
   "id": "a76f9a1b",
   "metadata": {},
   "source": [
    "**D.13. List the order number and order date for each order placed by the customer named \n",
    "Johnson’s Department Store. (Hint: To enter an apostrophe (single quotation mark) within a \n",
    "string of characters, type two single quotation marks.)**"
   ]
  },
  {
   "cell_type": "code",
   "execution_count": 47,
   "id": "99946904",
   "metadata": {},
   "outputs": [
    {
     "name": "stdout",
     "output_type": "stream",
     "text": [
      " * sqlite://\n",
      "Done.\n"
     ]
    },
    {
     "data": {
      "text/html": [
       "<table>\n",
       "    <tr>\n",
       "        <th>ORDER_NUM</th>\n",
       "        <th>ORDER_DATE</th>\n",
       "    </tr>\n",
       "    <tr>\n",
       "        <td>21617</td>\n",
       "        <td>23-OCT-2010</td>\n",
       "    </tr>\n",
       "    <tr>\n",
       "        <td>21623</td>\n",
       "        <td>23-OCT-2010</td>\n",
       "    </tr>\n",
       "</table>"
      ],
      "text/plain": [
       "[('21617', '23-OCT-2010'), ('21623', '23-OCT-2010')]"
      ]
     },
     "execution_count": 47,
     "metadata": {},
     "output_type": "execute_result"
    }
   ],
   "source": [
    "%%sql \n",
    "SELECT order_num, order_date \n",
    "FROM orders\n",
    "WHERE customer_num IN ( \n",
    "    SELECT customer_num \n",
    "    FROM customer \n",
    "    WHERE customer_name = \"Johnson's Department Store\");"
   ]
  },
  {
   "cell_type": "markdown",
   "id": "a0de7c50",
   "metadata": {},
   "source": [
    "**D.14. List the order number and order date for each order that contains an order line for an \n",
    "Iron.**"
   ]
  },
  {
   "cell_type": "code",
   "execution_count": 48,
   "id": "b6ff901b",
   "metadata": {},
   "outputs": [
    {
     "name": "stdout",
     "output_type": "stream",
     "text": [
      " * sqlite://\n",
      "Done.\n"
     ]
    },
    {
     "data": {
      "text/html": [
       "<table>\n",
       "    <tr>\n",
       "        <th>ORDER_NUM</th>\n",
       "        <th>ORDER_DATE</th>\n",
       "    </tr>\n",
       "    <tr>\n",
       "        <td>21608</td>\n",
       "        <td>20-OCT-2010</td>\n",
       "    </tr>\n",
       "</table>"
      ],
      "text/plain": [
       "[('21608', '20-OCT-2010')]"
      ]
     },
     "execution_count": 48,
     "metadata": {},
     "output_type": "execute_result"
    }
   ],
   "source": [
    "%%sql \n",
    "SELECT order_num, order_date \n",
    "FROM orders\n",
    "WHERE order_num IN ( \n",
    "    SELECT order_num  \n",
    "    FROM order_line, part \n",
    "    WHERE order_line.part_num = part.part_num\n",
    "    AND description = \"Iron\");"
   ]
  },
  {
   "cell_type": "markdown",
   "id": "b789d8ae",
   "metadata": {},
   "source": [
    "**D.15. List the order number and order date for each order that either was placed by \n",
    "Johnson’s Department Store or that contains an order line for a Gas Range** "
   ]
  },
  {
   "cell_type": "code",
   "execution_count": 49,
   "id": "6e716121",
   "metadata": {},
   "outputs": [
    {
     "name": "stdout",
     "output_type": "stream",
     "text": [
      " * sqlite://\n",
      "Done.\n"
     ]
    },
    {
     "data": {
      "text/html": [
       "<table>\n",
       "    <tr>\n",
       "        <th>ORDER_NUM</th>\n",
       "        <th>ORDER_DATE</th>\n",
       "    </tr>\n",
       "    <tr>\n",
       "        <td>21610</td>\n",
       "        <td>20-OCT-2010</td>\n",
       "    </tr>\n",
       "    <tr>\n",
       "        <td>21617</td>\n",
       "        <td>23-OCT-2010</td>\n",
       "    </tr>\n",
       "    <tr>\n",
       "        <td>21619</td>\n",
       "        <td>23-OCT-2010</td>\n",
       "    </tr>\n",
       "    <tr>\n",
       "        <td>21623</td>\n",
       "        <td>23-OCT-2010</td>\n",
       "    </tr>\n",
       "</table>"
      ],
      "text/plain": [
       "[('21610', '20-OCT-2010'),\n",
       " ('21617', '23-OCT-2010'),\n",
       " ('21619', '23-OCT-2010'),\n",
       " ('21623', '23-OCT-2010')]"
      ]
     },
     "execution_count": 49,
     "metadata": {},
     "output_type": "execute_result"
    }
   ],
   "source": [
    "%%sql \n",
    "SELECT order_num, order_date\n",
    "FROM orders\n",
    "WHERE order_num IN (\n",
    "    SELECT order_num \n",
    "    FROM order_line, part\n",
    "    WHERE part.part_num = order_line.part_num AND description = \"Gas Range\") \n",
    "OR customer_num IN(\n",
    "    SELECT customer_num\n",
    "    FROM customer\n",
    "    WHERE customer_name = \"Johnson's Department Store\");"
   ]
  },
  {
   "cell_type": "markdown",
   "id": "30d69216",
   "metadata": {},
   "source": [
    "**List the order number and order date for each order that was placed by Johnson’s \n",
    "Department Store and that contains an order line for a Gas Range.**"
   ]
  },
  {
   "cell_type": "code",
   "execution_count": 50,
   "id": "0987a4f2",
   "metadata": {},
   "outputs": [
    {
     "name": "stdout",
     "output_type": "stream",
     "text": [
      " * sqlite://\n",
      "Done.\n"
     ]
    },
    {
     "data": {
      "text/html": [
       "<table>\n",
       "    <tr>\n",
       "        <th>ORDER_NUM</th>\n",
       "        <th>ORDER_DATE</th>\n",
       "    </tr>\n",
       "</table>"
      ],
      "text/plain": [
       "[]"
      ]
     },
     "execution_count": 50,
     "metadata": {},
     "output_type": "execute_result"
    }
   ],
   "source": [
    "%%sql \n",
    "SELECT order_num, order_date\n",
    "FROM orders\n",
    "WHERE order_num IN (\n",
    "    SELECT order_num \n",
    "    FROM order_line, part\n",
    "    WHERE part.part_num = order_line.part_num AND description = \"Gas Range\") \n",
    "AND customer_num IN(\n",
    "    SELECT customer_num\n",
    "    FROM customer\n",
    "    WHERE customer_name = \"Johnson's Department Store\");"
   ]
  },
  {
   "cell_type": "markdown",
   "id": "ef239a43",
   "metadata": {},
   "source": [
    "**D.17. List the order number and order date for each order that was placed by Johnson’s \n",
    "Department Store but that does not contain an order line for a Gas Range.**"
   ]
  },
  {
   "cell_type": "code",
   "execution_count": 51,
   "id": "ce6e1c45",
   "metadata": {},
   "outputs": [
    {
     "name": "stdout",
     "output_type": "stream",
     "text": [
      " * sqlite://\n",
      "Done.\n"
     ]
    },
    {
     "data": {
      "text/html": [
       "<table>\n",
       "    <tr>\n",
       "        <th>ORDER_NUM</th>\n",
       "        <th>ORDER_DATE</th>\n",
       "    </tr>\n",
       "    <tr>\n",
       "        <td>21617</td>\n",
       "        <td>23-OCT-2010</td>\n",
       "    </tr>\n",
       "    <tr>\n",
       "        <td>21623</td>\n",
       "        <td>23-OCT-2010</td>\n",
       "    </tr>\n",
       "</table>"
      ],
      "text/plain": [
       "[('21617', '23-OCT-2010'), ('21623', '23-OCT-2010')]"
      ]
     },
     "execution_count": 51,
     "metadata": {},
     "output_type": "execute_result"
    }
   ],
   "source": [
    "%%sql \n",
    "SELECT order_num, order_date\n",
    "FROM orders\n",
    "WHERE NOT order_num IN (\n",
    "    SELECT order_num \n",
    "    FROM order_line, part\n",
    "    WHERE part.part_num = order_line.part_num AND description = \"Gas Range\") \n",
    "AND customer_num IN(\n",
    "    SELECT customer_num\n",
    "    FROM customer\n",
    "    WHERE customer_name = \"Johnson's Department Store\");"
   ]
  },
  {
   "cell_type": "markdown",
   "id": "8235081a",
   "metadata": {},
   "source": [
    "**D.18. For each part, list the part number, description, units on hand, order number, and \n",
    "number of units ordered. All parts should be included in the results. For those parts that are \n",
    "currently not on order, the order number and number of units ordered should be left blank \n",
    "(None/NULL/NA). Order the results by part number.**"
   ]
  },
  {
   "cell_type": "code",
   "execution_count": 52,
   "id": "e367c4c8",
   "metadata": {},
   "outputs": [
    {
     "name": "stdout",
     "output_type": "stream",
     "text": [
      " * sqlite://\n",
      "Done.\n"
     ]
    },
    {
     "data": {
      "text/html": [
       "<table>\n",
       "    <tr>\n",
       "        <th>PART_NUM</th>\n",
       "        <th>DESCRIPTION</th>\n",
       "        <th>ON_HAND</th>\n",
       "        <th>ORDER_NUM</th>\n",
       "        <th>NUM_ORDERED</th>\n",
       "    </tr>\n",
       "    <tr>\n",
       "        <td>AT94</td>\n",
       "        <td>Iron</td>\n",
       "        <td>50</td>\n",
       "        <td>21608</td>\n",
       "        <td>11</td>\n",
       "    </tr>\n",
       "    <tr>\n",
       "        <td>BV06</td>\n",
       "        <td>Home Gym</td>\n",
       "        <td>45</td>\n",
       "        <td>21617</td>\n",
       "        <td>2</td>\n",
       "    </tr>\n",
       "    <tr>\n",
       "        <td>CD52</td>\n",
       "        <td>Microwave Oven</td>\n",
       "        <td>32</td>\n",
       "        <td>21617</td>\n",
       "        <td>4</td>\n",
       "    </tr>\n",
       "    <tr>\n",
       "        <td>DL71</td>\n",
       "        <td>Cordless Drill</td>\n",
       "        <td>21</td>\n",
       "        <td>None</td>\n",
       "        <td>None</td>\n",
       "    </tr>\n",
       "    <tr>\n",
       "        <td>DR93</td>\n",
       "        <td>Gas Range</td>\n",
       "        <td>8</td>\n",
       "        <td>21610</td>\n",
       "        <td>1</td>\n",
       "    </tr>\n",
       "    <tr>\n",
       "        <td>DR93</td>\n",
       "        <td>Gas Range</td>\n",
       "        <td>8</td>\n",
       "        <td>21619</td>\n",
       "        <td>1</td>\n",
       "    </tr>\n",
       "    <tr>\n",
       "        <td>DW11</td>\n",
       "        <td>Washer</td>\n",
       "        <td>12</td>\n",
       "        <td>21610</td>\n",
       "        <td>1</td>\n",
       "    </tr>\n",
       "    <tr>\n",
       "        <td>FD21</td>\n",
       "        <td>Stand Mixer</td>\n",
       "        <td>22</td>\n",
       "        <td>None</td>\n",
       "        <td>None</td>\n",
       "    </tr>\n",
       "    <tr>\n",
       "        <td>KL62</td>\n",
       "        <td>Dryer</td>\n",
       "        <td>12</td>\n",
       "        <td>21613</td>\n",
       "        <td>4</td>\n",
       "    </tr>\n",
       "    <tr>\n",
       "        <td>KT03</td>\n",
       "        <td>Dishwasher</td>\n",
       "        <td>8</td>\n",
       "        <td>21614</td>\n",
       "        <td>2</td>\n",
       "    </tr>\n",
       "    <tr>\n",
       "        <td>KV29</td>\n",
       "        <td>Treadmill</td>\n",
       "        <td>9</td>\n",
       "        <td>21623</td>\n",
       "        <td>2</td>\n",
       "    </tr>\n",
       "</table>"
      ],
      "text/plain": [
       "[('AT94', 'Iron', 50, '21608', 11),\n",
       " ('BV06', 'Home Gym', 45, '21617', 2),\n",
       " ('CD52', 'Microwave Oven', 32, '21617', 4),\n",
       " ('DL71', 'Cordless Drill', 21, None, None),\n",
       " ('DR93', 'Gas Range', 8, '21610', 1),\n",
       " ('DR93', 'Gas Range', 8, '21619', 1),\n",
       " ('DW11', 'Washer', 12, '21610', 1),\n",
       " ('FD21', 'Stand Mixer', 22, None, None),\n",
       " ('KL62', 'Dryer', 12, '21613', 4),\n",
       " ('KT03', 'Dishwasher', 8, '21614', 2),\n",
       " ('KV29', 'Treadmill', 9, '21623', 2)]"
      ]
     },
     "execution_count": 52,
     "metadata": {},
     "output_type": "execute_result"
    }
   ],
   "source": [
    "%%sql \n",
    "SELECT part.part_num, description, on_hand, order_num, num_ordered \n",
    "FROM part\n",
    "LEFT JOIN order_line\n",
    "on part.part_num = order_line.part_num;"
   ]
  }
 ],
 "metadata": {
  "kernelspec": {
   "display_name": "Python 3 (ipykernel)",
   "language": "python",
   "name": "python3"
  },
  "language_info": {
   "codemirror_mode": {
    "name": "ipython",
    "version": 3
   },
   "file_extension": ".py",
   "mimetype": "text/x-python",
   "name": "python",
   "nbconvert_exporter": "python",
   "pygments_lexer": "ipython3",
   "version": "3.9.7"
  }
 },
 "nbformat": 4,
 "nbformat_minor": 5
}
