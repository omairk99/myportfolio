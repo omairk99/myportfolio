{
 "cells": [
  {
   "cell_type": "code",
   "execution_count": 1,
   "metadata": {},
   "outputs": [
    {
     "name": "stdout",
     "output_type": "stream",
     "text": [
      "Collecting ipython-sql\n",
      "  Using cached ipython_sql-0.4.0-py3-none-any.whl (19 kB)\n",
      "Requirement already satisfied: six in c:\\users\\gerha\\anaconda3\\lib\\site-packages (from ipython-sql) (1.15.0)\n",
      "Requirement already satisfied: ipython>=1.0 in c:\\users\\gerha\\anaconda3\\lib\\site-packages (from ipython-sql) (7.19.0)\n",
      "Requirement already satisfied: ipython-genutils>=0.1.0 in c:\\users\\gerha\\anaconda3\\lib\\site-packages (from ipython-sql) (0.2.0)\n",
      "Collecting sqlparse\n",
      "  Using cached sqlparse-0.4.1-py3-none-any.whl (42 kB)\n",
      "Requirement already satisfied: sqlalchemy>=0.6.7 in c:\\users\\gerha\\anaconda3\\lib\\site-packages (from ipython-sql) (1.3.20)\n",
      "Processing c:\\users\\gerha\\appdata\\local\\pip\\cache\\wheels\\46\\60\\6c\\bb25d05df22906786206e901e9354bb3061061191116768bee\\prettytable-0.7.2-py3-none-any.whl\n",
      "Requirement already satisfied: pickleshare in c:\\users\\gerha\\anaconda3\\lib\\site-packages (from ipython>=1.0->ipython-sql) (0.7.5)\n",
      "Requirement already satisfied: setuptools>=18.5 in c:\\users\\gerha\\anaconda3\\lib\\site-packages (from ipython>=1.0->ipython-sql) (50.3.1.post20201107)\n",
      "Requirement already satisfied: colorama; sys_platform == \"win32\" in c:\\users\\gerha\\anaconda3\\lib\\site-packages (from ipython>=1.0->ipython-sql) (0.4.4)\n",
      "Requirement already satisfied: jedi>=0.10 in c:\\users\\gerha\\anaconda3\\lib\\site-packages (from ipython>=1.0->ipython-sql) (0.17.1)\n",
      "Requirement already satisfied: backcall in c:\\users\\gerha\\anaconda3\\lib\\site-packages (from ipython>=1.0->ipython-sql) (0.2.0)\n",
      "Requirement already satisfied: pygments in c:\\users\\gerha\\anaconda3\\lib\\site-packages (from ipython>=1.0->ipython-sql) (2.7.2)\n",
      "Requirement already satisfied: decorator in c:\\users\\gerha\\anaconda3\\lib\\site-packages (from ipython>=1.0->ipython-sql) (4.4.2)\n",
      "Requirement already satisfied: prompt-toolkit!=3.0.0,!=3.0.1,<3.1.0,>=2.0.0 in c:\\users\\gerha\\anaconda3\\lib\\site-packages (from ipython>=1.0->ipython-sql) (3.0.8)\n",
      "Requirement already satisfied: traitlets>=4.2 in c:\\users\\gerha\\anaconda3\\lib\\site-packages (from ipython>=1.0->ipython-sql) (5.0.5)\n",
      "Requirement already satisfied: parso<0.8.0,>=0.7.0 in c:\\users\\gerha\\anaconda3\\lib\\site-packages (from jedi>=0.10->ipython>=1.0->ipython-sql) (0.7.0)\n",
      "Requirement already satisfied: wcwidth in c:\\users\\gerha\\anaconda3\\lib\\site-packages (from prompt-toolkit!=3.0.0,!=3.0.1,<3.1.0,>=2.0.0->ipython>=1.0->ipython-sql) (0.2.5)\n",
      "Installing collected packages: sqlparse, prettytable, ipython-sql\n",
      "Successfully installed ipython-sql-0.4.0 prettytable-0.7.2 sqlparse-0.4.1\n"
     ]
    }
   ],
   "source": [
    "!pip install ipython-sql"
   ]
  },
  {
   "cell_type": "code",
   "execution_count": 2,
   "metadata": {},
   "outputs": [],
   "source": [
    "%load_ext sql"
   ]
  },
  {
   "cell_type": "code",
   "execution_count": 3,
   "metadata": {},
   "outputs": [],
   "source": [
    "%sql sqlite://"
   ]
  },
  {
   "cell_type": "markdown",
   "metadata": {},
   "source": [
    "%sql sqlite:///premier.sqlite would link to the file premier.sqlite on the hard disk"
   ]
  },
  {
   "cell_type": "code",
   "execution_count": 4,
   "metadata": {},
   "outputs": [
    {
     "name": "stdout",
     "output_type": "stream",
     "text": [
      " * sqlite://\n",
      "Done.\n"
     ]
    },
    {
     "data": {
      "text/plain": [
       "[]"
      ]
     },
     "execution_count": 4,
     "metadata": {},
     "output_type": "execute_result"
    }
   ],
   "source": [
    "%%sql\n",
    "CREATE TABLE rep (\n",
    "    rep_num CHAR(3) PRIMARY KEY,\n",
    "    last_name CHAR(15),\n",
    "    first_name CHAR(15),\n",
    "    street CHAR(15),\n",
    "    city CHAR(15),\n",
    "    state CHAR(2),\n",
    "    zip CHAR(5),\n",
    "    commission DECIMAL(7,2),\n",
    "    rate DECIMAL(3,2)\n",
    ");"
   ]
  },
  {
   "cell_type": "code",
   "execution_count": 5,
   "metadata": {},
   "outputs": [
    {
     "name": "stdout",
     "output_type": "stream",
     "text": [
      " * sqlite://\n",
      "Done.\n"
     ]
    },
    {
     "data": {
      "text/plain": [
       "[]"
      ]
     },
     "execution_count": 5,
     "metadata": {},
     "output_type": "execute_result"
    }
   ],
   "source": [
    "%sql DROP TABLE rep;"
   ]
  },
  {
   "cell_type": "code",
   "execution_count": 6,
   "metadata": {},
   "outputs": [
    {
     "name": "stdout",
     "output_type": "stream",
     "text": [
      " * sqlite://\n",
      "Done.\n"
     ]
    },
    {
     "data": {
      "text/plain": [
       "[]"
      ]
     },
     "execution_count": 6,
     "metadata": {},
     "output_type": "execute_result"
    }
   ],
   "source": [
    "%%sql\n",
    "CREATE TABLE rep (\n",
    "    rep_num CHAR(3) PRIMARY KEY,\n",
    "    last_name CHAR(15),\n",
    "    first_name CHAR(15),\n",
    "    street CHAR(15),\n",
    "    city CHAR(15),\n",
    "    state CHAR(2),\n",
    "    zip CHAR(5),\n",
    "    commission DECIMAL(7,2),\n",
    "    rate DECIMAL(3,2)\n",
    ");"
   ]
  },
  {
   "cell_type": "code",
   "execution_count": 7,
   "metadata": {},
   "outputs": [
    {
     "name": "stdout",
     "output_type": "stream",
     "text": [
      " * sqlite://\n",
      "Done.\n"
     ]
    },
    {
     "data": {
      "text/html": [
       "<table>\n",
       "    <tr>\n",
       "        <th>rep_num</th>\n",
       "        <th>last_name</th>\n",
       "        <th>first_name</th>\n",
       "        <th>street</th>\n",
       "        <th>city</th>\n",
       "        <th>state</th>\n",
       "        <th>zip</th>\n",
       "        <th>commission</th>\n",
       "        <th>rate</th>\n",
       "    </tr>\n",
       "</table>"
      ],
      "text/plain": [
       "[]"
      ]
     },
     "execution_count": 7,
     "metadata": {},
     "output_type": "execute_result"
    }
   ],
   "source": [
    "%sql SELECT * FROM rep;"
   ]
  },
  {
   "cell_type": "code",
   "execution_count": 8,
   "metadata": {},
   "outputs": [
    {
     "name": "stdout",
     "output_type": "stream",
     "text": [
      " * sqlite://\n",
      "Done.\n"
     ]
    },
    {
     "data": {
      "text/plain": [
       "[]"
      ]
     },
     "execution_count": 8,
     "metadata": {},
     "output_type": "execute_result"
    }
   ],
   "source": [
    "%%sql\n",
    "CREATE TABLE CUSTOMER\n",
    "(CUSTOMER_NUM CHAR(3) PRIMARY KEY,\n",
    "CUSTOMER_NAME CHAR(35) NOT NULL,\n",
    "STREET CHAR(15),\n",
    "CITY CHAR(15),\n",
    "STATE CHAR(2),\n",
    "ZIP CHAR(5),\n",
    "BALANCE DECIMAL(8,2),\n",
    "CREDIT_LIMIT DECIMAL(8,2),\n",
    "REP_NUM CHAR(2) );"
   ]
  },
  {
   "cell_type": "code",
   "execution_count": 9,
   "metadata": {},
   "outputs": [
    {
     "name": "stdout",
     "output_type": "stream",
     "text": [
      " * sqlite://\n",
      "1 rows affected.\n"
     ]
    },
    {
     "data": {
      "text/plain": [
       "[]"
      ]
     },
     "execution_count": 9,
     "metadata": {},
     "output_type": "execute_result"
    }
   ],
   "source": [
    "%sql INSERT INTO rep VALUES('20','Kaiser','Valerie','624 Randall','Grove','FL','33321',20542.50,0.05);"
   ]
  },
  {
   "cell_type": "code",
   "execution_count": 10,
   "metadata": {},
   "outputs": [
    {
     "name": "stdout",
     "output_type": "stream",
     "text": [
      " * sqlite://\n",
      "Done.\n"
     ]
    },
    {
     "data": {
      "text/html": [
       "<table>\n",
       "    <tr>\n",
       "        <th>rep_num</th>\n",
       "        <th>last_name</th>\n",
       "        <th>first_name</th>\n",
       "        <th>street</th>\n",
       "        <th>city</th>\n",
       "        <th>state</th>\n",
       "        <th>zip</th>\n",
       "        <th>commission</th>\n",
       "        <th>rate</th>\n",
       "    </tr>\n",
       "    <tr>\n",
       "        <td>20</td>\n",
       "        <td>Kaiser</td>\n",
       "        <td>Valerie</td>\n",
       "        <td>624 Randall</td>\n",
       "        <td>Grove</td>\n",
       "        <td>FL</td>\n",
       "        <td>33321</td>\n",
       "        <td>20542.5</td>\n",
       "        <td>0.05</td>\n",
       "    </tr>\n",
       "</table>"
      ],
      "text/plain": [
       "[('20', 'Kaiser', 'Valerie', '624 Randall', 'Grove', 'FL', '33321', 20542.5, 0.05)]"
      ]
     },
     "execution_count": 10,
     "metadata": {},
     "output_type": "execute_result"
    }
   ],
   "source": [
    "%sql SELECT * FROM rep;"
   ]
  },
  {
   "cell_type": "code",
   "execution_count": 11,
   "metadata": {},
   "outputs": [
    {
     "name": "stdout",
     "output_type": "stream",
     "text": [
      " * sqlite://\n",
      "1 rows affected.\n"
     ]
    },
    {
     "data": {
      "text/plain": [
       "[]"
      ]
     },
     "execution_count": 11,
     "metadata": {},
     "output_type": "execute_result"
    }
   ],
   "source": [
    "%sql INSERT INTO rep (rep_num, last_name, first_name) VALUES ('85','Webb','Tina');"
   ]
  },
  {
   "cell_type": "code",
   "execution_count": 12,
   "metadata": {},
   "outputs": [
    {
     "name": "stdout",
     "output_type": "stream",
     "text": [
      " * sqlite://\n",
      "1 rows affected.\n"
     ]
    },
    {
     "data": {
      "text/plain": [
       "[]"
      ]
     },
     "execution_count": 12,
     "metadata": {},
     "output_type": "execute_result"
    }
   ],
   "source": [
    "%sql INSERT INTO rep (rep_num, first_name, last_name) VALUES ('485','Gerhard','Trippen');"
   ]
  },
  {
   "cell_type": "code",
   "execution_count": 13,
   "metadata": {},
   "outputs": [
    {
     "name": "stdout",
     "output_type": "stream",
     "text": [
      " * sqlite://\n",
      "1 rows affected.\n"
     ]
    },
    {
     "data": {
      "text/plain": [
       "[]"
      ]
     },
     "execution_count": 13,
     "metadata": {},
     "output_type": "execute_result"
    }
   ],
   "source": [
    "%%sql\n",
    "UPDATE rep\n",
    "SET last_name = 'Perry'\n",
    "WHERE rep_num = '85'"
   ]
  },
  {
   "cell_type": "code",
   "execution_count": 14,
   "metadata": {},
   "outputs": [
    {
     "name": "stdout",
     "output_type": "stream",
     "text": [
      " * sqlite://\n",
      "1 rows affected.\n"
     ]
    },
    {
     "data": {
      "text/plain": [
       "[]"
      ]
     },
     "execution_count": 14,
     "metadata": {},
     "output_type": "execute_result"
    }
   ],
   "source": [
    "%sql DELETE FROM rep WHERE rep_num = 85;"
   ]
  },
  {
   "cell_type": "code",
   "execution_count": 15,
   "metadata": {},
   "outputs": [
    {
     "name": "stdout",
     "output_type": "stream",
     "text": [
      " * sqlite://\n",
      "1 rows affected.\n"
     ]
    },
    {
     "data": {
      "text/plain": [
       "[]"
      ]
     },
     "execution_count": 15,
     "metadata": {},
     "output_type": "execute_result"
    }
   ],
   "source": [
    "%sql INSERT INTO rep VALUES('35','Hull','Richard','532 Jackson','Sheldon','FL','33553',39216.00,0.07);"
   ]
  },
  {
   "cell_type": "code",
   "execution_count": 16,
   "metadata": {},
   "outputs": [
    {
     "name": "stdout",
     "output_type": "stream",
     "text": [
      " * sqlite://\n",
      "1 rows affected.\n"
     ]
    },
    {
     "data": {
      "text/plain": [
       "[]"
      ]
     },
     "execution_count": 16,
     "metadata": {},
     "output_type": "execute_result"
    }
   ],
   "source": [
    "%sql INSERT INTO rep VALUES('65','Perez','Juan','1626 Taylor','Fillmore','FL','33336',23487.00,0.05)"
   ]
  },
  {
   "cell_type": "code",
   "execution_count": 17,
   "metadata": {},
   "outputs": [
    {
     "name": "stdout",
     "output_type": "stream",
     "text": [
      " * sqlite://\n",
      "Done.\n"
     ]
    },
    {
     "data": {
      "text/html": [
       "<table>\n",
       "    <tr>\n",
       "        <th>AVG(commission)</th>\n",
       "        <th>MAX(commission)</th>\n",
       "    </tr>\n",
       "    <tr>\n",
       "        <td>27748.5</td>\n",
       "        <td>39216</td>\n",
       "    </tr>\n",
       "</table>"
      ],
      "text/plain": [
       "[(27748.5, 39216)]"
      ]
     },
     "execution_count": 17,
     "metadata": {},
     "output_type": "execute_result"
    }
   ],
   "source": [
    "# extra\n",
    "%sql SELECT AVG(commission), MAX(commission) FROM rep;"
   ]
  },
  {
   "cell_type": "markdown",
   "metadata": {},
   "source": [
    "extra:"
   ]
  },
  {
   "cell_type": "code",
   "execution_count": 18,
   "metadata": {},
   "outputs": [
    {
     "name": "stdout",
     "output_type": "stream",
     "text": [
      " * sqlite://\n",
      "1 rows affected.\n"
     ]
    },
    {
     "data": {
      "text/plain": [
       "[]"
      ]
     },
     "execution_count": 18,
     "metadata": {},
     "output_type": "execute_result"
    }
   ],
   "source": [
    "%%sql\n",
    "UPDATE rep\n",
    "SET commission = 39216.00\n",
    "WHERE rep_num = '35';"
   ]
  },
  {
   "cell_type": "code",
   "execution_count": 19,
   "metadata": {},
   "outputs": [
    {
     "name": "stdout",
     "output_type": "stream",
     "text": [
      " * sqlite://\n",
      "Done.\n"
     ]
    },
    {
     "data": {
      "text/html": [
       "<table>\n",
       "    <tr>\n",
       "        <th>AVG(commission)</th>\n",
       "        <th>MAX(commission)</th>\n",
       "    </tr>\n",
       "    <tr>\n",
       "        <td>27748.5</td>\n",
       "        <td>39216</td>\n",
       "    </tr>\n",
       "</table>"
      ],
      "text/plain": [
       "[(27748.5, 39216)]"
      ]
     },
     "execution_count": 19,
     "metadata": {},
     "output_type": "execute_result"
    }
   ],
   "source": [
    "# extra\n",
    "%sql SELECT AVG(commission), MAX(commission) FROM rep;"
   ]
  },
  {
   "cell_type": "code",
   "execution_count": 20,
   "metadata": {},
   "outputs": [
    {
     "name": "stdout",
     "output_type": "stream",
     "text": [
      " * sqlite://\n",
      "10 rows affected.\n"
     ]
    },
    {
     "data": {
      "text/plain": [
       "[]"
      ]
     },
     "execution_count": 20,
     "metadata": {},
     "output_type": "execute_result"
    }
   ],
   "source": [
    "%%sql\n",
    "INSERT INTO CUSTOMER\n",
    "VALUES\n",
    "('148','Al''s Appliance and Sport','2837 Greenway','Fillmore','FL','33336',6550.00,7500.00,'20'),\n",
    "('282','Brookings Direct','3827 Devon','Grove','FL','33321',431.50,10000.00,'35'),\n",
    "('356','Ferguson''s','382 Wildwood','Northfield','FL','33146',5785.00,7500.00,'65'),\n",
    "('408','The Everything Shop','1828 Raven','Crystal','FL','33503',5285.25,5000.00,'35'),\n",
    "('462','Bargains Galore','3829 Central','Grove','FL','33321',3412.00,10000.00,'65'),\n",
    "('524','Kline''s','838 Ridgeland','Fillmore','FL','33336',12762.00,15000.00,'20'),\n",
    "('608','Johnson''s Department Store','372 Oxford','Sheldon','FL','33553',2106.00,10000.00,'65'),\n",
    "('687','Lee''s Sport and Appliance','282 Evergreen','Altonville','FL','32543',2851.00,5000.00,'35'),\n",
    "('725','Deerfield''s Four Seasons','282 Columbia','Sheldon','FL','33553',248.00,7500.00,'35'),\n",
    "('842','All Season','28 Lakeview','Grove','FL','33321',8221.00,7500.00,'20');\n"
   ]
  },
  {
   "cell_type": "code",
   "execution_count": 21,
   "metadata": {},
   "outputs": [
    {
     "name": "stdout",
     "output_type": "stream",
     "text": [
      " * sqlite://\n",
      "Done.\n"
     ]
    },
    {
     "data": {
      "text/plain": [
       "[]"
      ]
     },
     "execution_count": 21,
     "metadata": {},
     "output_type": "execute_result"
    }
   ],
   "source": [
    "%%sql\n",
    "CREATE TABLE ORDERS\n",
    "(ORDER_NUM CHAR(5) PRIMARY KEY,\n",
    "ORDER_DATE DATE,\n",
    "CUSTOMER_NUM CHAR(3) );"
   ]
  },
  {
   "cell_type": "code",
   "execution_count": 22,
   "metadata": {},
   "outputs": [
    {
     "name": "stdout",
     "output_type": "stream",
     "text": [
      " * sqlite://\n",
      "7 rows affected.\n"
     ]
    },
    {
     "data": {
      "text/plain": [
       "[]"
      ]
     },
     "execution_count": 22,
     "metadata": {},
     "output_type": "execute_result"
    }
   ],
   "source": [
    "%%sql\n",
    "INSERT INTO ORDERS\n",
    "VALUES\n",
    "('21608','20-OCT-2010','148'),\n",
    "('21610','20-OCT-2010','356'),\n",
    "('21613','21-OCT-2010','408'),\n",
    "('21614','21-OCT-2010','282'),\n",
    "('21617','23-OCT-2010','608'),\n",
    "('21619','23-OCT-2010','148'),\n",
    "('21623','23-OCT-2010','608');"
   ]
  },
  {
   "cell_type": "code",
   "execution_count": 23,
   "metadata": {},
   "outputs": [
    {
     "name": "stdout",
     "output_type": "stream",
     "text": [
      " * sqlite://\n",
      "Done.\n"
     ]
    },
    {
     "data": {
      "text/plain": [
       "[]"
      ]
     },
     "execution_count": 23,
     "metadata": {},
     "output_type": "execute_result"
    }
   ],
   "source": [
    "%%sql\n",
    "CREATE TABLE PART\n",
    "(PART_NUM CHAR(4) PRIMARY KEY,\n",
    "DESCRIPTION CHAR(15),\n",
    "ON_HAND DECIMAL(4,0),\n",
    "CLASS CHAR(2),\n",
    "WAREHOUSE CHAR(1),\n",
    "PRICE DECIMAL(6,2) );"
   ]
  },
  {
   "cell_type": "code",
   "execution_count": 24,
   "metadata": {},
   "outputs": [
    {
     "name": "stdout",
     "output_type": "stream",
     "text": [
      " * sqlite://\n",
      "10 rows affected.\n"
     ]
    },
    {
     "data": {
      "text/plain": [
       "[]"
      ]
     },
     "execution_count": 24,
     "metadata": {},
     "output_type": "execute_result"
    }
   ],
   "source": [
    "%%sql\n",
    "INSERT INTO PART VALUES\n",
    "('AT94','Iron',50,'HW','3',24.95),\n",
    "('BV06','Home Gym',45,'SG','2',794.95),\n",
    "('CD52','Microwave Oven',32,'AP','1',165.00),\n",
    "('DL71','Cordless Drill',21,'HW','3',129.95),\n",
    "('DR93','Gas Range',8,'AP','2',495.00),\n",
    "('DW11','Washer',12,'AP','3',399.99),\n",
    "('FD21','Stand Mixer',22,'HW','3',159.95),\n",
    "('KL62','Dryer',12,'AP','1',349.95),\n",
    "('KT03','Dishwasher',8,'AP','3',595.00),\n",
    "('KV29','Treadmill',9,'SG','2',1390.00);"
   ]
  },
  {
   "cell_type": "code",
   "execution_count": 25,
   "metadata": {},
   "outputs": [
    {
     "name": "stdout",
     "output_type": "stream",
     "text": [
      " * sqlite://\n",
      "Done.\n"
     ]
    },
    {
     "data": {
      "text/plain": [
       "[]"
      ]
     },
     "execution_count": 25,
     "metadata": {},
     "output_type": "execute_result"
    }
   ],
   "source": [
    "%%sql\n",
    "CREATE TABLE ORDER_LINE\n",
    "(ORDER_NUM CHAR(5),\n",
    "PART_NUM CHAR(4),\n",
    "NUM_ORDERED DECIMAL(3,0),\n",
    "QUOTED_PRICE DECIMAL(6,2),\n",
    "PRIMARY KEY (ORDER_NUM, PART_NUM) );"
   ]
  },
  {
   "cell_type": "code",
   "execution_count": 26,
   "metadata": {},
   "outputs": [
    {
     "name": "stdout",
     "output_type": "stream",
     "text": [
      " * sqlite://\n",
      "9 rows affected.\n"
     ]
    },
    {
     "data": {
      "text/plain": [
       "[]"
      ]
     },
     "execution_count": 26,
     "metadata": {},
     "output_type": "execute_result"
    }
   ],
   "source": [
    "%%sql\n",
    "INSERT INTO ORDER_LINE VALUES\n",
    "('21608','AT94',11,21.95),\n",
    "('21610','DR93',1,495.00),\n",
    "('21610','DW11',1,399.99),\n",
    "('21613','KL62',4,329.95),\n",
    "('21614','KT03',2,595.00),\n",
    "('21617','BV06',2,794.95),\n",
    "('21617','CD52',4,150.00),\n",
    "('21619','DR93',1,495.00),\n",
    "('21623','KV29',2,1290.00);"
   ]
  },
  {
   "cell_type": "code",
   "execution_count": 27,
   "metadata": {},
   "outputs": [
    {
     "name": "stdout",
     "output_type": "stream",
     "text": [
      " * sqlite://\n",
      "Done.\n"
     ]
    },
    {
     "data": {
      "text/html": [
       "<table>\n",
       "    <tr>\n",
       "        <th>CUSTOMER_NUM</th>\n",
       "        <th>CUSTOMER_NAME</th>\n",
       "        <th>BALANCE</th>\n",
       "    </tr>\n",
       "    <tr>\n",
       "        <td>148</td>\n",
       "        <td>Al&#x27;s Appliance and Sport</td>\n",
       "        <td>6550</td>\n",
       "    </tr>\n",
       "    <tr>\n",
       "        <td>282</td>\n",
       "        <td>Brookings Direct</td>\n",
       "        <td>431.5</td>\n",
       "    </tr>\n",
       "    <tr>\n",
       "        <td>356</td>\n",
       "        <td>Ferguson&#x27;s</td>\n",
       "        <td>5785</td>\n",
       "    </tr>\n",
       "    <tr>\n",
       "        <td>408</td>\n",
       "        <td>The Everything Shop</td>\n",
       "        <td>5285.25</td>\n",
       "    </tr>\n",
       "    <tr>\n",
       "        <td>462</td>\n",
       "        <td>Bargains Galore</td>\n",
       "        <td>3412</td>\n",
       "    </tr>\n",
       "    <tr>\n",
       "        <td>524</td>\n",
       "        <td>Kline&#x27;s</td>\n",
       "        <td>12762</td>\n",
       "    </tr>\n",
       "    <tr>\n",
       "        <td>608</td>\n",
       "        <td>Johnson&#x27;s Department Store</td>\n",
       "        <td>2106</td>\n",
       "    </tr>\n",
       "    <tr>\n",
       "        <td>687</td>\n",
       "        <td>Lee&#x27;s Sport and Appliance</td>\n",
       "        <td>2851</td>\n",
       "    </tr>\n",
       "    <tr>\n",
       "        <td>725</td>\n",
       "        <td>Deerfield&#x27;s Four Seasons</td>\n",
       "        <td>248</td>\n",
       "    </tr>\n",
       "    <tr>\n",
       "        <td>842</td>\n",
       "        <td>All Season</td>\n",
       "        <td>8221</td>\n",
       "    </tr>\n",
       "</table>"
      ],
      "text/plain": [
       "[('148', \"Al's Appliance and Sport\", 6550),\n",
       " ('282', 'Brookings Direct', 431.5),\n",
       " ('356', \"Ferguson's\", 5785),\n",
       " ('408', 'The Everything Shop', 5285.25),\n",
       " ('462', 'Bargains Galore', 3412),\n",
       " ('524', \"Kline's\", 12762),\n",
       " ('608', \"Johnson's Department Store\", 2106),\n",
       " ('687', \"Lee's Sport and Appliance\", 2851),\n",
       " ('725', \"Deerfield's Four Seasons\", 248),\n",
       " ('842', 'All Season', 8221)]"
      ]
     },
     "execution_count": 27,
     "metadata": {},
     "output_type": "execute_result"
    }
   ],
   "source": [
    "%%sql\n",
    "SELECT customer_num, customer_name, balance\n",
    "FROM customer;"
   ]
  },
  {
   "cell_type": "code",
   "execution_count": 28,
   "metadata": {},
   "outputs": [
    {
     "name": "stdout",
     "output_type": "stream",
     "text": [
      " * sqlite://\n",
      "Done.\n"
     ]
    },
    {
     "data": {
      "text/html": [
       "<table>\n",
       "    <tr>\n",
       "        <th>PART_NUM</th>\n",
       "        <th>DESCRIPTION</th>\n",
       "        <th>ON_HAND</th>\n",
       "        <th>CLASS</th>\n",
       "        <th>WAREHOUSE</th>\n",
       "        <th>PRICE</th>\n",
       "    </tr>\n",
       "    <tr>\n",
       "        <td>AT94</td>\n",
       "        <td>Iron</td>\n",
       "        <td>50</td>\n",
       "        <td>HW</td>\n",
       "        <td>3</td>\n",
       "        <td>24.95</td>\n",
       "    </tr>\n",
       "    <tr>\n",
       "        <td>BV06</td>\n",
       "        <td>Home Gym</td>\n",
       "        <td>45</td>\n",
       "        <td>SG</td>\n",
       "        <td>2</td>\n",
       "        <td>794.95</td>\n",
       "    </tr>\n",
       "    <tr>\n",
       "        <td>CD52</td>\n",
       "        <td>Microwave Oven</td>\n",
       "        <td>32</td>\n",
       "        <td>AP</td>\n",
       "        <td>1</td>\n",
       "        <td>165</td>\n",
       "    </tr>\n",
       "    <tr>\n",
       "        <td>DL71</td>\n",
       "        <td>Cordless Drill</td>\n",
       "        <td>21</td>\n",
       "        <td>HW</td>\n",
       "        <td>3</td>\n",
       "        <td>129.95</td>\n",
       "    </tr>\n",
       "    <tr>\n",
       "        <td>DR93</td>\n",
       "        <td>Gas Range</td>\n",
       "        <td>8</td>\n",
       "        <td>AP</td>\n",
       "        <td>2</td>\n",
       "        <td>495</td>\n",
       "    </tr>\n",
       "    <tr>\n",
       "        <td>DW11</td>\n",
       "        <td>Washer</td>\n",
       "        <td>12</td>\n",
       "        <td>AP</td>\n",
       "        <td>3</td>\n",
       "        <td>399.99</td>\n",
       "    </tr>\n",
       "    <tr>\n",
       "        <td>FD21</td>\n",
       "        <td>Stand Mixer</td>\n",
       "        <td>22</td>\n",
       "        <td>HW</td>\n",
       "        <td>3</td>\n",
       "        <td>159.95</td>\n",
       "    </tr>\n",
       "    <tr>\n",
       "        <td>KL62</td>\n",
       "        <td>Dryer</td>\n",
       "        <td>12</td>\n",
       "        <td>AP</td>\n",
       "        <td>1</td>\n",
       "        <td>349.95</td>\n",
       "    </tr>\n",
       "    <tr>\n",
       "        <td>KT03</td>\n",
       "        <td>Dishwasher</td>\n",
       "        <td>8</td>\n",
       "        <td>AP</td>\n",
       "        <td>3</td>\n",
       "        <td>595</td>\n",
       "    </tr>\n",
       "    <tr>\n",
       "        <td>KV29</td>\n",
       "        <td>Treadmill</td>\n",
       "        <td>9</td>\n",
       "        <td>SG</td>\n",
       "        <td>2</td>\n",
       "        <td>1390</td>\n",
       "    </tr>\n",
       "</table>"
      ],
      "text/plain": [
       "[('AT94', 'Iron', 50, 'HW', '3', 24.95),\n",
       " ('BV06', 'Home Gym', 45, 'SG', '2', 794.95),\n",
       " ('CD52', 'Microwave Oven', 32, 'AP', '1', 165),\n",
       " ('DL71', 'Cordless Drill', 21, 'HW', '3', 129.95),\n",
       " ('DR93', 'Gas Range', 8, 'AP', '2', 495),\n",
       " ('DW11', 'Washer', 12, 'AP', '3', 399.99),\n",
       " ('FD21', 'Stand Mixer', 22, 'HW', '3', 159.95),\n",
       " ('KL62', 'Dryer', 12, 'AP', '1', 349.95),\n",
       " ('KT03', 'Dishwasher', 8, 'AP', '3', 595),\n",
       " ('KV29', 'Treadmill', 9, 'SG', '2', 1390)]"
      ]
     },
     "execution_count": 28,
     "metadata": {},
     "output_type": "execute_result"
    }
   ],
   "source": [
    "%sql SELECT * FROM part;"
   ]
  },
  {
   "cell_type": "code",
   "execution_count": 29,
   "metadata": {},
   "outputs": [
    {
     "name": "stdout",
     "output_type": "stream",
     "text": [
      " * sqlite://\n",
      "Done.\n"
     ]
    },
    {
     "data": {
      "text/html": [
       "<table>\n",
       "    <tr>\n",
       "        <th>CUSTOMER_NUM</th>\n",
       "        <th>CUSTOMER_NAME</th>\n",
       "        <th>STREET</th>\n",
       "        <th>CITY</th>\n",
       "        <th>STATE</th>\n",
       "        <th>ZIP</th>\n",
       "        <th>BALANCE</th>\n",
       "        <th>CREDIT_LIMIT</th>\n",
       "        <th>REP_NUM</th>\n",
       "    </tr>\n",
       "    <tr>\n",
       "        <td>148</td>\n",
       "        <td>Al&#x27;s Appliance and Sport</td>\n",
       "        <td>2837 Greenway</td>\n",
       "        <td>Fillmore</td>\n",
       "        <td>FL</td>\n",
       "        <td>33336</td>\n",
       "        <td>6550</td>\n",
       "        <td>7500</td>\n",
       "        <td>20</td>\n",
       "    </tr>\n",
       "    <tr>\n",
       "        <td>282</td>\n",
       "        <td>Brookings Direct</td>\n",
       "        <td>3827 Devon</td>\n",
       "        <td>Grove</td>\n",
       "        <td>FL</td>\n",
       "        <td>33321</td>\n",
       "        <td>431.5</td>\n",
       "        <td>10000</td>\n",
       "        <td>35</td>\n",
       "    </tr>\n",
       "    <tr>\n",
       "        <td>356</td>\n",
       "        <td>Ferguson&#x27;s</td>\n",
       "        <td>382 Wildwood</td>\n",
       "        <td>Northfield</td>\n",
       "        <td>FL</td>\n",
       "        <td>33146</td>\n",
       "        <td>5785</td>\n",
       "        <td>7500</td>\n",
       "        <td>65</td>\n",
       "    </tr>\n",
       "    <tr>\n",
       "        <td>408</td>\n",
       "        <td>The Everything Shop</td>\n",
       "        <td>1828 Raven</td>\n",
       "        <td>Crystal</td>\n",
       "        <td>FL</td>\n",
       "        <td>33503</td>\n",
       "        <td>5285.25</td>\n",
       "        <td>5000</td>\n",
       "        <td>35</td>\n",
       "    </tr>\n",
       "    <tr>\n",
       "        <td>462</td>\n",
       "        <td>Bargains Galore</td>\n",
       "        <td>3829 Central</td>\n",
       "        <td>Grove</td>\n",
       "        <td>FL</td>\n",
       "        <td>33321</td>\n",
       "        <td>3412</td>\n",
       "        <td>10000</td>\n",
       "        <td>65</td>\n",
       "    </tr>\n",
       "    <tr>\n",
       "        <td>524</td>\n",
       "        <td>Kline&#x27;s</td>\n",
       "        <td>838 Ridgeland</td>\n",
       "        <td>Fillmore</td>\n",
       "        <td>FL</td>\n",
       "        <td>33336</td>\n",
       "        <td>12762</td>\n",
       "        <td>15000</td>\n",
       "        <td>20</td>\n",
       "    </tr>\n",
       "    <tr>\n",
       "        <td>608</td>\n",
       "        <td>Johnson&#x27;s Department Store</td>\n",
       "        <td>372 Oxford</td>\n",
       "        <td>Sheldon</td>\n",
       "        <td>FL</td>\n",
       "        <td>33553</td>\n",
       "        <td>2106</td>\n",
       "        <td>10000</td>\n",
       "        <td>65</td>\n",
       "    </tr>\n",
       "    <tr>\n",
       "        <td>687</td>\n",
       "        <td>Lee&#x27;s Sport and Appliance</td>\n",
       "        <td>282 Evergreen</td>\n",
       "        <td>Altonville</td>\n",
       "        <td>FL</td>\n",
       "        <td>32543</td>\n",
       "        <td>2851</td>\n",
       "        <td>5000</td>\n",
       "        <td>35</td>\n",
       "    </tr>\n",
       "    <tr>\n",
       "        <td>725</td>\n",
       "        <td>Deerfield&#x27;s Four Seasons</td>\n",
       "        <td>282 Columbia</td>\n",
       "        <td>Sheldon</td>\n",
       "        <td>FL</td>\n",
       "        <td>33553</td>\n",
       "        <td>248</td>\n",
       "        <td>7500</td>\n",
       "        <td>35</td>\n",
       "    </tr>\n",
       "    <tr>\n",
       "        <td>842</td>\n",
       "        <td>All Season</td>\n",
       "        <td>28 Lakeview</td>\n",
       "        <td>Grove</td>\n",
       "        <td>FL</td>\n",
       "        <td>33321</td>\n",
       "        <td>8221</td>\n",
       "        <td>7500</td>\n",
       "        <td>20</td>\n",
       "    </tr>\n",
       "</table>"
      ],
      "text/plain": [
       "[('148', \"Al's Appliance and Sport\", '2837 Greenway', 'Fillmore', 'FL', '33336', 6550, 7500, '20'),\n",
       " ('282', 'Brookings Direct', '3827 Devon', 'Grove', 'FL', '33321', 431.5, 10000, '35'),\n",
       " ('356', \"Ferguson's\", '382 Wildwood', 'Northfield', 'FL', '33146', 5785, 7500, '65'),\n",
       " ('408', 'The Everything Shop', '1828 Raven', 'Crystal', 'FL', '33503', 5285.25, 5000, '35'),\n",
       " ('462', 'Bargains Galore', '3829 Central', 'Grove', 'FL', '33321', 3412, 10000, '65'),\n",
       " ('524', \"Kline's\", '838 Ridgeland', 'Fillmore', 'FL', '33336', 12762, 15000, '20'),\n",
       " ('608', \"Johnson's Department Store\", '372 Oxford', 'Sheldon', 'FL', '33553', 2106, 10000, '65'),\n",
       " ('687', \"Lee's Sport and Appliance\", '282 Evergreen', 'Altonville', 'FL', '32543', 2851, 5000, '35'),\n",
       " ('725', \"Deerfield's Four Seasons\", '282 Columbia', 'Sheldon', 'FL', '33553', 248, 7500, '35'),\n",
       " ('842', 'All Season', '28 Lakeview', 'Grove', 'FL', '33321', 8221, 7500, '20')]"
      ]
     },
     "execution_count": 29,
     "metadata": {},
     "output_type": "execute_result"
    }
   ],
   "source": [
    "%sql SELECT * FROM customer;"
   ]
  },
  {
   "cell_type": "code",
   "execution_count": 30,
   "metadata": {},
   "outputs": [
    {
     "name": "stdout",
     "output_type": "stream",
     "text": [
      " * sqlite://\n",
      "Done.\n"
     ]
    },
    {
     "data": {
      "text/html": [
       "<table>\n",
       "    <tr>\n",
       "        <th>CUSTOMER_NAME</th>\n",
       "    </tr>\n",
       "    <tr>\n",
       "        <td>Al&#x27;s Appliance and Sport</td>\n",
       "    </tr>\n",
       "</table>"
      ],
      "text/plain": [
       "[(\"Al's Appliance and Sport\",)]"
      ]
     },
     "execution_count": 30,
     "metadata": {},
     "output_type": "execute_result"
    }
   ],
   "source": [
    "%%sql\n",
    "SELECT customer_name\n",
    "FROM customer\n",
    "WHERE customer_num = '148';"
   ]
  },
  {
   "cell_type": "code",
   "execution_count": 31,
   "metadata": {},
   "outputs": [
    {
     "name": "stdout",
     "output_type": "stream",
     "text": [
      " * sqlite://\n",
      "Done.\n"
     ]
    },
    {
     "data": {
      "text/html": [
       "<table>\n",
       "    <tr>\n",
       "        <th>CUSTOMER_NUM</th>\n",
       "        <th>CUSTOMER_NAME</th>\n",
       "        <th>BALANCE</th>\n",
       "        <th>CREDIT_LIMIT</th>\n",
       "    </tr>\n",
       "    <tr>\n",
       "        <td>408</td>\n",
       "        <td>The Everything Shop</td>\n",
       "        <td>5285.25</td>\n",
       "        <td>5000</td>\n",
       "    </tr>\n",
       "    <tr>\n",
       "        <td>842</td>\n",
       "        <td>All Season</td>\n",
       "        <td>8221</td>\n",
       "        <td>7500</td>\n",
       "    </tr>\n",
       "</table>"
      ],
      "text/plain": [
       "[('408', 'The Everything Shop', 5285.25, 5000),\n",
       " ('842', 'All Season', 8221, 7500)]"
      ]
     },
     "execution_count": 31,
     "metadata": {},
     "output_type": "execute_result"
    }
   ],
   "source": [
    "%%sql\n",
    "SELECT customer_num, customer_name, balance, credit_limit\n",
    "FROM customer\n",
    "WHERE balance > credit_limit;"
   ]
  },
  {
   "cell_type": "code",
   "execution_count": 32,
   "metadata": {},
   "outputs": [
    {
     "name": "stdout",
     "output_type": "stream",
     "text": [
      " * sqlite://\n",
      "Done.\n"
     ]
    },
    {
     "data": {
      "text/html": [
       "<table>\n",
       "    <tr>\n",
       "        <th>DESCRIPTION</th>\n",
       "    </tr>\n",
       "    <tr>\n",
       "        <td>Iron</td>\n",
       "    </tr>\n",
       "</table>"
      ],
      "text/plain": [
       "[('Iron',)]"
      ]
     },
     "execution_count": 32,
     "metadata": {},
     "output_type": "execute_result"
    }
   ],
   "source": [
    "%%sql\n",
    "SELECT description\n",
    "FROM part\n",
    "WHERE warehouse = '3'\n",
    "AND on_hand > 25;"
   ]
  },
  {
   "cell_type": "code",
   "execution_count": 33,
   "metadata": {},
   "outputs": [
    {
     "name": "stdout",
     "output_type": "stream",
     "text": [
      " * sqlite://\n",
      "Done.\n"
     ]
    },
    {
     "data": {
      "text/html": [
       "<table>\n",
       "    <tr>\n",
       "        <th>DESCRIPTION</th>\n",
       "    </tr>\n",
       "    <tr>\n",
       "        <td>Iron</td>\n",
       "    </tr>\n",
       "    <tr>\n",
       "        <td>Home Gym</td>\n",
       "    </tr>\n",
       "    <tr>\n",
       "        <td>Microwave Oven</td>\n",
       "    </tr>\n",
       "    <tr>\n",
       "        <td>Cordless Drill</td>\n",
       "    </tr>\n",
       "    <tr>\n",
       "        <td>Washer</td>\n",
       "    </tr>\n",
       "    <tr>\n",
       "        <td>Stand Mixer</td>\n",
       "    </tr>\n",
       "    <tr>\n",
       "        <td>Dishwasher</td>\n",
       "    </tr>\n",
       "</table>"
      ],
      "text/plain": [
       "[('Iron',),\n",
       " ('Home Gym',),\n",
       " ('Microwave Oven',),\n",
       " ('Cordless Drill',),\n",
       " ('Washer',),\n",
       " ('Stand Mixer',),\n",
       " ('Dishwasher',)]"
      ]
     },
     "execution_count": 33,
     "metadata": {},
     "output_type": "execute_result"
    }
   ],
   "source": [
    "%%sql\n",
    "SELECT description\n",
    "FROM part\n",
    "WHERE warehouse = '3'\n",
    "OR on_hand > 25;"
   ]
  },
  {
   "cell_type": "code",
   "execution_count": 34,
   "metadata": {},
   "outputs": [
    {
     "name": "stdout",
     "output_type": "stream",
     "text": [
      " * sqlite://\n",
      "Done.\n"
     ]
    },
    {
     "data": {
      "text/html": [
       "<table>\n",
       "    <tr>\n",
       "        <th>DESCRIPTION</th>\n",
       "    </tr>\n",
       "    <tr>\n",
       "        <td>Home Gym</td>\n",
       "    </tr>\n",
       "    <tr>\n",
       "        <td>Microwave Oven</td>\n",
       "    </tr>\n",
       "    <tr>\n",
       "        <td>Gas Range</td>\n",
       "    </tr>\n",
       "    <tr>\n",
       "        <td>Dryer</td>\n",
       "    </tr>\n",
       "    <tr>\n",
       "        <td>Treadmill</td>\n",
       "    </tr>\n",
       "</table>"
      ],
      "text/plain": [
       "[('Home Gym',),\n",
       " ('Microwave Oven',),\n",
       " ('Gas Range',),\n",
       " ('Dryer',),\n",
       " ('Treadmill',)]"
      ]
     },
     "execution_count": 34,
     "metadata": {},
     "output_type": "execute_result"
    }
   ],
   "source": [
    "%%sql\n",
    "SELECT description\n",
    "FROM part\n",
    "WHERE NOT (warehouse = '3');"
   ]
  },
  {
   "cell_type": "code",
   "execution_count": 35,
   "metadata": {},
   "outputs": [
    {
     "name": "stdout",
     "output_type": "stream",
     "text": [
      " * sqlite://\n",
      "Done.\n"
     ]
    },
    {
     "data": {
      "text/html": [
       "<table>\n",
       "    <tr>\n",
       "        <th>CUSTOMER_NUM</th>\n",
       "        <th>CUSTOMER_NAME</th>\n",
       "        <th>BALANCE</th>\n",
       "    </tr>\n",
       "    <tr>\n",
       "        <td>462</td>\n",
       "        <td>Bargains Galore</td>\n",
       "        <td>3412</td>\n",
       "    </tr>\n",
       "    <tr>\n",
       "        <td>608</td>\n",
       "        <td>Johnson&#x27;s Department Store</td>\n",
       "        <td>2106</td>\n",
       "    </tr>\n",
       "    <tr>\n",
       "        <td>687</td>\n",
       "        <td>Lee&#x27;s Sport and Appliance</td>\n",
       "        <td>2851</td>\n",
       "    </tr>\n",
       "</table>"
      ],
      "text/plain": [
       "[('462', 'Bargains Galore', 3412),\n",
       " ('608', \"Johnson's Department Store\", 2106),\n",
       " ('687', \"Lee's Sport and Appliance\", 2851)]"
      ]
     },
     "execution_count": 35,
     "metadata": {},
     "output_type": "execute_result"
    }
   ],
   "source": [
    "%%sql\n",
    "SELECT customer_num, customer_name, balance\n",
    "FROM customer\n",
    "WHERE balance BETWEEN 2000 AND 5000;"
   ]
  },
  {
   "cell_type": "markdown",
   "metadata": {},
   "source": [
    "## Group Assignment 1"
   ]
  },
  {
   "cell_type": "markdown",
   "metadata": {},
   "source": [
    "A.1. List the names of all customers that have a credit limit of $7,500 or less."
   ]
  },
  {
   "cell_type": "code",
   "execution_count": 36,
   "metadata": {},
   "outputs": [
    {
     "name": "stdout",
     "output_type": "stream",
     "text": [
      " * sqlite://\n",
      "Done.\n"
     ]
    },
    {
     "data": {
      "text/html": [
       "<table>\n",
       "    <tr>\n",
       "        <th>CUSTOMER_NAME</th>\n",
       "    </tr>\n",
       "    <tr>\n",
       "        <td>Al&#x27;s Appliance and Sport</td>\n",
       "    </tr>\n",
       "    <tr>\n",
       "        <td>Ferguson&#x27;s</td>\n",
       "    </tr>\n",
       "    <tr>\n",
       "        <td>The Everything Shop</td>\n",
       "    </tr>\n",
       "    <tr>\n",
       "        <td>Lee&#x27;s Sport and Appliance</td>\n",
       "    </tr>\n",
       "    <tr>\n",
       "        <td>Deerfield&#x27;s Four Seasons</td>\n",
       "    </tr>\n",
       "    <tr>\n",
       "        <td>All Season</td>\n",
       "    </tr>\n",
       "</table>"
      ],
      "text/plain": [
       "[(\"Al's Appliance and Sport\",),\n",
       " (\"Ferguson's\",),\n",
       " ('The Everything Shop',),\n",
       " (\"Lee's Sport and Appliance\",),\n",
       " (\"Deerfield's Four Seasons\",),\n",
       " ('All Season',)]"
      ]
     },
     "execution_count": 36,
     "metadata": {},
     "output_type": "execute_result"
    }
   ],
   "source": [
    "%%sql \n",
    "SELECT customer_name\n",
    "FROM customer\n",
    "WHERE credit_limit <= 7500;"
   ]
  },
  {
   "cell_type": "markdown",
   "metadata": {},
   "source": [
    "A.2. List the order numbers for orders placed by customer number 608 on 10/23/2010."
   ]
  },
  {
   "cell_type": "code",
   "execution_count": 37,
   "metadata": {},
   "outputs": [
    {
     "name": "stdout",
     "output_type": "stream",
     "text": [
      " * sqlite://\n",
      "Done.\n"
     ]
    },
    {
     "data": {
      "text/html": [
       "<table>\n",
       "    <tr>\n",
       "        <th>ORDER_NUM</th>\n",
       "    </tr>\n",
       "    <tr>\n",
       "        <td>21617</td>\n",
       "    </tr>\n",
       "    <tr>\n",
       "        <td>21623</td>\n",
       "    </tr>\n",
       "</table>"
      ],
      "text/plain": [
       "[('21617',), ('21623',)]"
      ]
     },
     "execution_count": 37,
     "metadata": {},
     "output_type": "execute_result"
    }
   ],
   "source": [
    "%%sql\n",
    "SELECT order_num\n",
    "FROM orders\n",
    "WHERE customer_num = '608'\n",
    "AND order_date = '23-OCT-2010';"
   ]
  },
  {
   "cell_type": "code",
   "execution_count": 38,
   "metadata": {},
   "outputs": [
    {
     "name": "stdout",
     "output_type": "stream",
     "text": [
      " * sqlite://\n",
      "Done.\n"
     ]
    },
    {
     "data": {
      "text/html": [
       "<table>\n",
       "    <tr>\n",
       "        <th>ORDER_NUM</th>\n",
       "        <th>ORDER_DATE</th>\n",
       "        <th>CUSTOMER_NUM</th>\n",
       "    </tr>\n",
       "    <tr>\n",
       "        <td>21608</td>\n",
       "        <td>20-OCT-2010</td>\n",
       "        <td>148</td>\n",
       "    </tr>\n",
       "    <tr>\n",
       "        <td>21610</td>\n",
       "        <td>20-OCT-2010</td>\n",
       "        <td>356</td>\n",
       "    </tr>\n",
       "    <tr>\n",
       "        <td>21613</td>\n",
       "        <td>21-OCT-2010</td>\n",
       "        <td>408</td>\n",
       "    </tr>\n",
       "    <tr>\n",
       "        <td>21614</td>\n",
       "        <td>21-OCT-2010</td>\n",
       "        <td>282</td>\n",
       "    </tr>\n",
       "    <tr>\n",
       "        <td>21617</td>\n",
       "        <td>23-OCT-2010</td>\n",
       "        <td>608</td>\n",
       "    </tr>\n",
       "    <tr>\n",
       "        <td>21619</td>\n",
       "        <td>23-OCT-2010</td>\n",
       "        <td>148</td>\n",
       "    </tr>\n",
       "    <tr>\n",
       "        <td>21623</td>\n",
       "        <td>23-OCT-2010</td>\n",
       "        <td>608</td>\n",
       "    </tr>\n",
       "</table>"
      ],
      "text/plain": [
       "[('21608', '20-OCT-2010', '148'),\n",
       " ('21610', '20-OCT-2010', '356'),\n",
       " ('21613', '21-OCT-2010', '408'),\n",
       " ('21614', '21-OCT-2010', '282'),\n",
       " ('21617', '23-OCT-2010', '608'),\n",
       " ('21619', '23-OCT-2010', '148'),\n",
       " ('21623', '23-OCT-2010', '608')]"
      ]
     },
     "execution_count": 38,
     "metadata": {},
     "output_type": "execute_result"
    }
   ],
   "source": [
    "%sql SELECT * FROM orders;"
   ]
  },
  {
   "cell_type": "markdown",
   "metadata": {},
   "source": [
    "A.3. List the part number and part description of all parts that are in item class HW."
   ]
  },
  {
   "cell_type": "code",
   "execution_count": 39,
   "metadata": {},
   "outputs": [
    {
     "name": "stdout",
     "output_type": "stream",
     "text": [
      " * sqlite://\n",
      "Done.\n"
     ]
    },
    {
     "data": {
      "text/html": [
       "<table>\n",
       "    <tr>\n",
       "        <th>PART_NUM</th>\n",
       "        <th>DESCRIPTION</th>\n",
       "    </tr>\n",
       "    <tr>\n",
       "        <td>AT94</td>\n",
       "        <td>Iron</td>\n",
       "    </tr>\n",
       "    <tr>\n",
       "        <td>DL71</td>\n",
       "        <td>Cordless Drill</td>\n",
       "    </tr>\n",
       "    <tr>\n",
       "        <td>FD21</td>\n",
       "        <td>Stand Mixer</td>\n",
       "    </tr>\n",
       "</table>"
      ],
      "text/plain": [
       "[('AT94', 'Iron'), ('DL71', 'Cordless Drill'), ('FD21', 'Stand Mixer')]"
      ]
     },
     "execution_count": 39,
     "metadata": {},
     "output_type": "execute_result"
    }
   ],
   "source": [
    "%%sql\n",
    "SELECT part_num, description\n",
    "FROM part\n",
    "WHERE class = 'HW';"
   ]
  },
  {
   "cell_type": "markdown",
   "metadata": {},
   "source": [
    "A.4. List the part number, part description, and on-hand value for each part in item class SG. (Hint: On-hand value is the result of multiplying the number of units on hand by the price.)"
   ]
  },
  {
   "cell_type": "code",
   "execution_count": 40,
   "metadata": {},
   "outputs": [
    {
     "name": "stdout",
     "output_type": "stream",
     "text": [
      " * sqlite://\n",
      "Done.\n"
     ]
    },
    {
     "data": {
      "text/html": [
       "<table>\n",
       "    <tr>\n",
       "        <th>PART_NUM</th>\n",
       "        <th>DESCRIPTION</th>\n",
       "        <th>on_hand_value</th>\n",
       "    </tr>\n",
       "    <tr>\n",
       "        <td>BV06</td>\n",
       "        <td>Home Gym</td>\n",
       "        <td>35772.75</td>\n",
       "    </tr>\n",
       "    <tr>\n",
       "        <td>KV29</td>\n",
       "        <td>Treadmill</td>\n",
       "        <td>12510</td>\n",
       "    </tr>\n",
       "</table>"
      ],
      "text/plain": [
       "[('BV06', 'Home Gym', 35772.75), ('KV29', 'Treadmill', 12510)]"
      ]
     },
     "execution_count": 40,
     "metadata": {},
     "output_type": "execute_result"
    }
   ],
   "source": [
    "%%sql\n",
    "SELECT part_num, description, on_hand * price as on_hand_value\n",
    "FROM part\n",
    "WHERE class = 'SG';"
   ]
  },
  {
   "cell_type": "markdown",
   "metadata": {},
   "source": [
    "A.5. How many customers have a balance that exceeds their credit limit?"
   ]
  },
  {
   "cell_type": "code",
   "execution_count": 41,
   "metadata": {},
   "outputs": [
    {
     "name": "stdout",
     "output_type": "stream",
     "text": [
      " * sqlite://\n",
      "Done.\n"
     ]
    },
    {
     "data": {
      "text/html": [
       "<table>\n",
       "    <tr>\n",
       "        <th>COUNT(*)</th>\n",
       "    </tr>\n",
       "    <tr>\n",
       "        <td>2</td>\n",
       "    </tr>\n",
       "</table>"
      ],
      "text/plain": [
       "[(2,)]"
      ]
     },
     "execution_count": 41,
     "metadata": {},
     "output_type": "execute_result"
    }
   ],
   "source": [
    "%%sql\n",
    "SELECT COUNT(*)\n",
    "FROM customer\n",
    "WHERE balance > credit_limit;"
   ]
  },
  {
   "cell_type": "markdown",
   "metadata": {},
   "source": [
    "A.6. What is the part number, description, and price of the least expensive part in the database?"
   ]
  },
  {
   "cell_type": "code",
   "execution_count": 42,
   "metadata": {},
   "outputs": [
    {
     "name": "stdout",
     "output_type": "stream",
     "text": [
      " * sqlite://\n",
      "Done.\n"
     ]
    },
    {
     "data": {
      "text/html": [
       "<table>\n",
       "    <tr>\n",
       "        <th>PART_NUM</th>\n",
       "        <th>DESCRIPTION</th>\n",
       "        <th>PRICE</th>\n",
       "    </tr>\n",
       "    <tr>\n",
       "        <td>AT94</td>\n",
       "        <td>Iron</td>\n",
       "        <td>24.95</td>\n",
       "    </tr>\n",
       "</table>"
      ],
      "text/plain": [
       "[('AT94', 'Iron', 24.95)]"
      ]
     },
     "execution_count": 42,
     "metadata": {},
     "output_type": "execute_result"
    }
   ],
   "source": [
    "%%sql\n",
    "SELECT part_num, description, price\n",
    "FROM part\n",
    "WHERE price = (SELECT MIN(price) FROM part);"
   ]
  },
  {
   "cell_type": "markdown",
   "metadata": {},
   "source": [
    "A.7. For each order, list the order number, order date, customer number, and customer name."
   ]
  },
  {
   "cell_type": "code",
   "execution_count": 43,
   "metadata": {},
   "outputs": [
    {
     "name": "stdout",
     "output_type": "stream",
     "text": [
      " * sqlite://\n",
      "Done.\n"
     ]
    },
    {
     "data": {
      "text/html": [
       "<table>\n",
       "    <tr>\n",
       "        <th>ORDER_NUM</th>\n",
       "        <th>ORDER_DATE</th>\n",
       "        <th>CUSTOMER_NUM</th>\n",
       "        <th>CUSTOMER_NAME</th>\n",
       "    </tr>\n",
       "    <tr>\n",
       "        <td>21608</td>\n",
       "        <td>20-OCT-2010</td>\n",
       "        <td>148</td>\n",
       "        <td>Al&#x27;s Appliance and Sport</td>\n",
       "    </tr>\n",
       "    <tr>\n",
       "        <td>21610</td>\n",
       "        <td>20-OCT-2010</td>\n",
       "        <td>356</td>\n",
       "        <td>Ferguson&#x27;s</td>\n",
       "    </tr>\n",
       "    <tr>\n",
       "        <td>21613</td>\n",
       "        <td>21-OCT-2010</td>\n",
       "        <td>408</td>\n",
       "        <td>The Everything Shop</td>\n",
       "    </tr>\n",
       "    <tr>\n",
       "        <td>21614</td>\n",
       "        <td>21-OCT-2010</td>\n",
       "        <td>282</td>\n",
       "        <td>Brookings Direct</td>\n",
       "    </tr>\n",
       "    <tr>\n",
       "        <td>21617</td>\n",
       "        <td>23-OCT-2010</td>\n",
       "        <td>608</td>\n",
       "        <td>Johnson&#x27;s Department Store</td>\n",
       "    </tr>\n",
       "    <tr>\n",
       "        <td>21619</td>\n",
       "        <td>23-OCT-2010</td>\n",
       "        <td>148</td>\n",
       "        <td>Al&#x27;s Appliance and Sport</td>\n",
       "    </tr>\n",
       "    <tr>\n",
       "        <td>21623</td>\n",
       "        <td>23-OCT-2010</td>\n",
       "        <td>608</td>\n",
       "        <td>Johnson&#x27;s Department Store</td>\n",
       "    </tr>\n",
       "</table>"
      ],
      "text/plain": [
       "[('21608', '20-OCT-2010', '148', \"Al's Appliance and Sport\"),\n",
       " ('21610', '20-OCT-2010', '356', \"Ferguson's\"),\n",
       " ('21613', '21-OCT-2010', '408', 'The Everything Shop'),\n",
       " ('21614', '21-OCT-2010', '282', 'Brookings Direct'),\n",
       " ('21617', '23-OCT-2010', '608', \"Johnson's Department Store\"),\n",
       " ('21619', '23-OCT-2010', '148', \"Al's Appliance and Sport\"),\n",
       " ('21623', '23-OCT-2010', '608', \"Johnson's Department Store\")]"
      ]
     },
     "execution_count": 43,
     "metadata": {},
     "output_type": "execute_result"
    }
   ],
   "source": [
    "%%sql\n",
    "SELECT order_num, order_date, orders.customer_num, customer_name\n",
    "FROM orders, customer\n",
    "WHERE orders.customer_num = customer.customer_num;"
   ]
  },
  {
   "cell_type": "markdown",
   "metadata": {},
   "source": [
    "A.8. For each order placed on October 21, 2010, list the order number, customer number, and customer name."
   ]
  },
  {
   "cell_type": "code",
   "execution_count": 44,
   "metadata": {},
   "outputs": [
    {
     "name": "stdout",
     "output_type": "stream",
     "text": [
      " * sqlite://\n",
      "Done.\n"
     ]
    },
    {
     "data": {
      "text/html": [
       "<table>\n",
       "    <tr>\n",
       "        <th>ORDER_NUM</th>\n",
       "        <th>CUSTOMER_NUM</th>\n",
       "        <th>CUSTOMER_NAME</th>\n",
       "    </tr>\n",
       "    <tr>\n",
       "        <td>21613</td>\n",
       "        <td>408</td>\n",
       "        <td>The Everything Shop</td>\n",
       "    </tr>\n",
       "    <tr>\n",
       "        <td>21614</td>\n",
       "        <td>282</td>\n",
       "        <td>Brookings Direct</td>\n",
       "    </tr>\n",
       "</table>"
      ],
      "text/plain": [
       "[('21613', '408', 'The Everything Shop'), ('21614', '282', 'Brookings Direct')]"
      ]
     },
     "execution_count": 44,
     "metadata": {},
     "output_type": "execute_result"
    }
   ],
   "source": [
    "%%sql\n",
    "SELECT order_num, orders.customer_num, customer_name\n",
    "FROM orders, customer\n",
    "WHERE orders.customer_num = customer.customer_num\n",
    "AND order_date = '21-OCT-2010';"
   ]
  },
  {
   "cell_type": "markdown",
   "metadata": {},
   "source": [
    "A.9. For each order placed on October 21, 2010, list the order number, part number, part description, and item class for each part ordered."
   ]
  },
  {
   "cell_type": "code",
   "execution_count": 45,
   "metadata": {},
   "outputs": [
    {
     "name": "stdout",
     "output_type": "stream",
     "text": [
      " * sqlite://\n",
      "Done.\n"
     ]
    },
    {
     "data": {
      "text/html": [
       "<table>\n",
       "    <tr>\n",
       "        <th>ORDER_NUM</th>\n",
       "        <th>PART_NUM</th>\n",
       "        <th>DESCRIPTION</th>\n",
       "        <th>CLASS</th>\n",
       "    </tr>\n",
       "    <tr>\n",
       "        <td>21613</td>\n",
       "        <td>KL62</td>\n",
       "        <td>Dryer</td>\n",
       "        <td>AP</td>\n",
       "    </tr>\n",
       "    <tr>\n",
       "        <td>21614</td>\n",
       "        <td>KT03</td>\n",
       "        <td>Dishwasher</td>\n",
       "        <td>AP</td>\n",
       "    </tr>\n",
       "</table>"
      ],
      "text/plain": [
       "[('21613', 'KL62', 'Dryer', 'AP'), ('21614', 'KT03', 'Dishwasher', 'AP')]"
      ]
     },
     "execution_count": 45,
     "metadata": {},
     "output_type": "execute_result"
    }
   ],
   "source": [
    "%%sql\n",
    "SELECT order_line.order_num, order_line.part_num, description, class\n",
    "FROM orders, part, order_line\n",
    "WHERE order_line.part_num = part.part_num\n",
    "AND orders.order_num = order_line.order_num \n",
    "AND order_date = '21-OCT-2010';"
   ]
  },
  {
   "cell_type": "markdown",
   "metadata": {},
   "source": [
    "B.1. A customer is not necessarily represented by a single sales rep, but can be represented by several sales reps. When a customer places an order, the sales rep who gets the commission on the order must be in the collection of sales reps who represent the customer. Draw an E-R diagram for the new design."
   ]
  },
  {
   "cell_type": "markdown",
   "metadata": {},
   "source": [
    "*Primary keys in* **bold**<br>\n",
    "REP (**REP_NUM**, LAST_NAME, FIRST_NAME, STREET,\n",
    "\tCITY, STATE, ZIP, COMMISSION, RATE)<br>\n",
    "CUSTOMER (**CUSTOMER_NUM**, CUSTOMER_NAME, STREET,\n",
    "\tCITY, STATE, ZIP, BALANCE, CREDIT_LIMIT)<br>\n",
    "CUSTOMER_REP (**CUSTOMER_NUM, REP_NUM**)<br>\n",
    "ORDERS (**ORDER_NUM**, ORDER_DATE, CUSTOMER_NUM, REP_NUM)<br><br>\n",
    "Students were required to write the SQL commands that create these tables. Omitted here."
   ]
  },
  {
   "cell_type": "markdown",
   "metadata": {},
   "source": [
    "Entity-Relationship diagram: <img src=\"ER-CR_B1.png\">"
   ]
  },
  {
   "cell_type": "markdown",
   "metadata": {},
   "source": [
    "B.2. There is no relationship between customers and sales reps. When a customer places an order, any sales rep can process the order. On the order, you need to identify both the customer placing the order and the sales rep responsible for the order. Draw an E-R diagram for the new design."
   ]
  },
  {
   "cell_type": "markdown",
   "metadata": {},
   "source": [
    "REP (**REP_NUM**, LAST_NAME, FIRST_NAME, STREET, CITY, STATE, ZIP,\n",
    "\tCOMMISSION, RATE)<br>\n",
    "CUSTOMER (**CUSTOMER_NUM**, CUSTOMER_NAME, STREET, CITY, STATE, \n",
    "\tZIP, BALANCE, CREDIT_LIMIT)<br>\n",
    "ORDERS (**ORDER_NUM**, ORDER_DATE, CUSTOMER_NUM, REP_NUM)"
   ]
  },
  {
   "cell_type": "markdown",
   "metadata": {},
   "source": [
    "Entity-Relationship diagram: <img src=\"ER-CR_B2.png\">"
   ]
  },
  {
   "cell_type": "markdown",
   "metadata": {},
   "source": [
    "B.3. Using your knowledge of Premiere Products, determine the functional dependencies that exist in the following table. After determining the functional dependencies, convert this table to an equivalent collection of tables that are in third normal form.\n",
    "PART (PART_NUM, DESCRIPTION, ON_HAND, CLASS, WAREHOUSE, PRICE, (ORDER_NUM, ORDER_DATE, CUSTOMER_NUM, CUSTOMER_NAME, NUM_ORDERED, QUOTED_PRICE) )\n",
    "PART_NUM is the primary key of this table. The highlighted text indicates repeating groups, i.e., each part occurs in “many” orders for which we record the order number, date, customer number and so forth. State the SQL commands that create the collection of tables in 3NF."
   ]
  },
  {
   "cell_type": "markdown",
   "metadata": {},
   "source": [
    "PART_NUM -> DESCRIPTION, ON_HAND, CLASS, WAREHOUSE, PRICE<br>\n",
    "ORDER_NUM -> ORDER_DATE, CUSTOMER_NUM <br>\n",
    "CUSTOMER_NUM -> CUSTOMER_NAME<br>\n",
    "PART_NUM, ORDER_NUM -> NUM_ORDERED, QUOTED_PRICE<br>\n",
    "<br>\n",
    "\tRelations:<br>\n",
    "    *Primary keys in* **bold**<br> \n",
    "PART (**PART_NUM**, DESCRIPTION, ON_HAND, CLASS, WAREHOUSE, PRICE)<br>\n",
    "ORDERS (**ORDER_NUM**, ORDER_DATE, CUSTOMER_NUM) <br>\n",
    "CUSTOMER (**CUSTOMER_NUM**, CUSTOMER_NAME)<br>\n",
    "ORDER_LINE (**PART_NUM**, **ORDER_NUM**, NUM_ORDERED, QUOTED_PRICE) <br>"
   ]
  },
  {
   "cell_type": "markdown",
   "metadata": {},
   "source": [
    "C.1. List the number and name of each customer represented by sales rep 35 or sales rep 65."
   ]
  },
  {
   "cell_type": "code",
   "execution_count": 46,
   "metadata": {},
   "outputs": [
    {
     "name": "stdout",
     "output_type": "stream",
     "text": [
      " * sqlite://\n",
      "Done.\n"
     ]
    },
    {
     "data": {
      "text/html": [
       "<table>\n",
       "    <tr>\n",
       "        <th>CUSTOMER_NUM</th>\n",
       "        <th>CUSTOMER_NAME</th>\n",
       "    </tr>\n",
       "    <tr>\n",
       "        <td>282</td>\n",
       "        <td>Brookings Direct</td>\n",
       "    </tr>\n",
       "    <tr>\n",
       "        <td>356</td>\n",
       "        <td>Ferguson&#x27;s</td>\n",
       "    </tr>\n",
       "    <tr>\n",
       "        <td>408</td>\n",
       "        <td>The Everything Shop</td>\n",
       "    </tr>\n",
       "    <tr>\n",
       "        <td>462</td>\n",
       "        <td>Bargains Galore</td>\n",
       "    </tr>\n",
       "    <tr>\n",
       "        <td>608</td>\n",
       "        <td>Johnson&#x27;s Department Store</td>\n",
       "    </tr>\n",
       "    <tr>\n",
       "        <td>687</td>\n",
       "        <td>Lee&#x27;s Sport and Appliance</td>\n",
       "    </tr>\n",
       "    <tr>\n",
       "        <td>725</td>\n",
       "        <td>Deerfield&#x27;s Four Seasons</td>\n",
       "    </tr>\n",
       "</table>"
      ],
      "text/plain": [
       "[('282', 'Brookings Direct'),\n",
       " ('356', \"Ferguson's\"),\n",
       " ('408', 'The Everything Shop'),\n",
       " ('462', 'Bargains Galore'),\n",
       " ('608', \"Johnson's Department Store\"),\n",
       " ('687', \"Lee's Sport and Appliance\"),\n",
       " ('725', \"Deerfield's Four Seasons\")]"
      ]
     },
     "execution_count": 46,
     "metadata": {},
     "output_type": "execute_result"
    }
   ],
   "source": [
    "%%sql\n",
    "SELECT CUSTOMER_NUM, CUSTOMER_NAME\n",
    "FROM CUSTOMER \n",
    "WHERE REP_NUM = '35'\n",
    "OR REP_NUM = '65';"
   ]
  },
  {
   "cell_type": "markdown",
   "metadata": {},
   "source": [
    "C.2. List the part number and part description of each part that is not in item class AP."
   ]
  },
  {
   "cell_type": "code",
   "execution_count": 47,
   "metadata": {},
   "outputs": [
    {
     "name": "stdout",
     "output_type": "stream",
     "text": [
      " * sqlite://\n",
      "Done.\n"
     ]
    },
    {
     "data": {
      "text/html": [
       "<table>\n",
       "    <tr>\n",
       "        <th>PART_NUM</th>\n",
       "        <th>DESCRIPTION</th>\n",
       "    </tr>\n",
       "    <tr>\n",
       "        <td>AT94</td>\n",
       "        <td>Iron</td>\n",
       "    </tr>\n",
       "    <tr>\n",
       "        <td>BV06</td>\n",
       "        <td>Home Gym</td>\n",
       "    </tr>\n",
       "    <tr>\n",
       "        <td>DL71</td>\n",
       "        <td>Cordless Drill</td>\n",
       "    </tr>\n",
       "    <tr>\n",
       "        <td>FD21</td>\n",
       "        <td>Stand Mixer</td>\n",
       "    </tr>\n",
       "    <tr>\n",
       "        <td>KV29</td>\n",
       "        <td>Treadmill</td>\n",
       "    </tr>\n",
       "</table>"
      ],
      "text/plain": [
       "[('AT94', 'Iron'),\n",
       " ('BV06', 'Home Gym'),\n",
       " ('DL71', 'Cordless Drill'),\n",
       " ('FD21', 'Stand Mixer'),\n",
       " ('KV29', 'Treadmill')]"
      ]
     },
     "execution_count": 47,
     "metadata": {},
     "output_type": "execute_result"
    }
   ],
   "source": [
    "%%sql\n",
    "SELECT PART_NUM, DESCRIPTION\n",
    "FROM PART\n",
    "WHERE NOT (CLASS = 'AP');"
   ]
  },
  {
   "cell_type": "markdown",
   "metadata": {},
   "source": [
    "C.3. List the part number, description, and number of units on hand for each part that has\n",
    "between 10 and 25 units on hand, including both 10 and 25. Do this in two different ways."
   ]
  },
  {
   "cell_type": "code",
   "execution_count": 48,
   "metadata": {},
   "outputs": [
    {
     "name": "stdout",
     "output_type": "stream",
     "text": [
      " * sqlite://\n",
      "Done.\n"
     ]
    },
    {
     "data": {
      "text/html": [
       "<table>\n",
       "    <tr>\n",
       "        <th>PART_NUM</th>\n",
       "        <th>DESCRIPTION</th>\n",
       "        <th>ON_HAND</th>\n",
       "    </tr>\n",
       "    <tr>\n",
       "        <td>DL71</td>\n",
       "        <td>Cordless Drill</td>\n",
       "        <td>21</td>\n",
       "    </tr>\n",
       "    <tr>\n",
       "        <td>DW11</td>\n",
       "        <td>Washer</td>\n",
       "        <td>12</td>\n",
       "    </tr>\n",
       "    <tr>\n",
       "        <td>FD21</td>\n",
       "        <td>Stand Mixer</td>\n",
       "        <td>22</td>\n",
       "    </tr>\n",
       "    <tr>\n",
       "        <td>KL62</td>\n",
       "        <td>Dryer</td>\n",
       "        <td>12</td>\n",
       "    </tr>\n",
       "</table>"
      ],
      "text/plain": [
       "[('DL71', 'Cordless Drill', 21),\n",
       " ('DW11', 'Washer', 12),\n",
       " ('FD21', 'Stand Mixer', 22),\n",
       " ('KL62', 'Dryer', 12)]"
      ]
     },
     "execution_count": 48,
     "metadata": {},
     "output_type": "execute_result"
    }
   ],
   "source": [
    "%%sql\n",
    "SELECT PART_NUM, DESCRIPTION, ON_HAND\n",
    "FROM PART\n",
    "WHERE ON_HAND >= 10\n",
    "AND ON_HAND <= 25;"
   ]
  },
  {
   "cell_type": "code",
   "execution_count": 49,
   "metadata": {},
   "outputs": [
    {
     "name": "stdout",
     "output_type": "stream",
     "text": [
      " * sqlite://\n",
      "Done.\n"
     ]
    },
    {
     "data": {
      "text/html": [
       "<table>\n",
       "    <tr>\n",
       "        <th>PART_NUM</th>\n",
       "        <th>DESCRIPTION</th>\n",
       "        <th>ON_HAND</th>\n",
       "    </tr>\n",
       "    <tr>\n",
       "        <td>DL71</td>\n",
       "        <td>Cordless Drill</td>\n",
       "        <td>21</td>\n",
       "    </tr>\n",
       "    <tr>\n",
       "        <td>DW11</td>\n",
       "        <td>Washer</td>\n",
       "        <td>12</td>\n",
       "    </tr>\n",
       "    <tr>\n",
       "        <td>FD21</td>\n",
       "        <td>Stand Mixer</td>\n",
       "        <td>22</td>\n",
       "    </tr>\n",
       "    <tr>\n",
       "        <td>KL62</td>\n",
       "        <td>Dryer</td>\n",
       "        <td>12</td>\n",
       "    </tr>\n",
       "</table>"
      ],
      "text/plain": [
       "[('DL71', 'Cordless Drill', 21),\n",
       " ('DW11', 'Washer', 12),\n",
       " ('FD21', 'Stand Mixer', 22),\n",
       " ('KL62', 'Dryer', 12)]"
      ]
     },
     "execution_count": 49,
     "metadata": {},
     "output_type": "execute_result"
    }
   ],
   "source": [
    "%%sql\n",
    "SELECT PART_NUM, DESCRIPTION, ON_HAND\n",
    "FROM PART\n",
    "WHERE ON_HAND BETWEEN 10 AND 25;"
   ]
  },
  {
   "cell_type": "markdown",
   "metadata": {},
   "source": [
    "C.4. Use the IN operator to list the part number and part description of each part in item class AP or SG."
   ]
  },
  {
   "cell_type": "code",
   "execution_count": 50,
   "metadata": {},
   "outputs": [
    {
     "name": "stdout",
     "output_type": "stream",
     "text": [
      " * sqlite://\n",
      "Done.\n"
     ]
    },
    {
     "data": {
      "text/html": [
       "<table>\n",
       "    <tr>\n",
       "        <th>PART_NUM</th>\n",
       "        <th>DESCRIPTION</th>\n",
       "    </tr>\n",
       "    <tr>\n",
       "        <td>BV06</td>\n",
       "        <td>Home Gym</td>\n",
       "    </tr>\n",
       "    <tr>\n",
       "        <td>CD52</td>\n",
       "        <td>Microwave Oven</td>\n",
       "    </tr>\n",
       "    <tr>\n",
       "        <td>DR93</td>\n",
       "        <td>Gas Range</td>\n",
       "    </tr>\n",
       "    <tr>\n",
       "        <td>DW11</td>\n",
       "        <td>Washer</td>\n",
       "    </tr>\n",
       "    <tr>\n",
       "        <td>KL62</td>\n",
       "        <td>Dryer</td>\n",
       "    </tr>\n",
       "    <tr>\n",
       "        <td>KT03</td>\n",
       "        <td>Dishwasher</td>\n",
       "    </tr>\n",
       "    <tr>\n",
       "        <td>KV29</td>\n",
       "        <td>Treadmill</td>\n",
       "    </tr>\n",
       "</table>"
      ],
      "text/plain": [
       "[('BV06', 'Home Gym'),\n",
       " ('CD52', 'Microwave Oven'),\n",
       " ('DR93', 'Gas Range'),\n",
       " ('DW11', 'Washer'),\n",
       " ('KL62', 'Dryer'),\n",
       " ('KT03', 'Dishwasher'),\n",
       " ('KV29', 'Treadmill')]"
      ]
     },
     "execution_count": 50,
     "metadata": {},
     "output_type": "execute_result"
    }
   ],
   "source": [
    "%%sql\n",
    "SELECT PART_NUM, DESCRIPTION\n",
    "FROM PART\n",
    "WHERE CLASS IN ('AP', 'SG');"
   ]
  },
  {
   "cell_type": "markdown",
   "metadata": {},
   "source": [
    "C.5. Find the number and name of each customer whose name begins with the letter “B.”"
   ]
  },
  {
   "cell_type": "code",
   "execution_count": 51,
   "metadata": {},
   "outputs": [
    {
     "name": "stdout",
     "output_type": "stream",
     "text": [
      " * sqlite://\n",
      "Done.\n"
     ]
    },
    {
     "data": {
      "text/html": [
       "<table>\n",
       "    <tr>\n",
       "        <th>CUSTOMER_NUM</th>\n",
       "        <th>CUSTOMER_NAME</th>\n",
       "    </tr>\n",
       "    <tr>\n",
       "        <td>282</td>\n",
       "        <td>Brookings Direct</td>\n",
       "    </tr>\n",
       "    <tr>\n",
       "        <td>462</td>\n",
       "        <td>Bargains Galore</td>\n",
       "    </tr>\n",
       "</table>"
      ],
      "text/plain": [
       "[('282', 'Brookings Direct'), ('462', 'Bargains Galore')]"
      ]
     },
     "execution_count": 51,
     "metadata": {},
     "output_type": "execute_result"
    }
   ],
   "source": [
    "%%sql\n",
    "SELECT CUSTOMER_NUM, CUSTOMER_NAME\n",
    "FROM CUSTOMER\n",
    "WHERE CUSTOMER_NAME LIKE 'B%';"
   ]
  },
  {
   "cell_type": "markdown",
   "metadata": {},
   "source": [
    "C.6. List all details about all parts. Order the output by part description."
   ]
  },
  {
   "cell_type": "code",
   "execution_count": 52,
   "metadata": {},
   "outputs": [
    {
     "name": "stdout",
     "output_type": "stream",
     "text": [
      " * sqlite://\n",
      "Done.\n"
     ]
    },
    {
     "data": {
      "text/html": [
       "<table>\n",
       "    <tr>\n",
       "        <th>PART_NUM</th>\n",
       "        <th>DESCRIPTION</th>\n",
       "        <th>ON_HAND</th>\n",
       "        <th>CLASS</th>\n",
       "        <th>WAREHOUSE</th>\n",
       "        <th>PRICE</th>\n",
       "    </tr>\n",
       "    <tr>\n",
       "        <td>DL71</td>\n",
       "        <td>Cordless Drill</td>\n",
       "        <td>21</td>\n",
       "        <td>HW</td>\n",
       "        <td>3</td>\n",
       "        <td>129.95</td>\n",
       "    </tr>\n",
       "    <tr>\n",
       "        <td>KT03</td>\n",
       "        <td>Dishwasher</td>\n",
       "        <td>8</td>\n",
       "        <td>AP</td>\n",
       "        <td>3</td>\n",
       "        <td>595</td>\n",
       "    </tr>\n",
       "    <tr>\n",
       "        <td>KL62</td>\n",
       "        <td>Dryer</td>\n",
       "        <td>12</td>\n",
       "        <td>AP</td>\n",
       "        <td>1</td>\n",
       "        <td>349.95</td>\n",
       "    </tr>\n",
       "    <tr>\n",
       "        <td>DR93</td>\n",
       "        <td>Gas Range</td>\n",
       "        <td>8</td>\n",
       "        <td>AP</td>\n",
       "        <td>2</td>\n",
       "        <td>495</td>\n",
       "    </tr>\n",
       "    <tr>\n",
       "        <td>BV06</td>\n",
       "        <td>Home Gym</td>\n",
       "        <td>45</td>\n",
       "        <td>SG</td>\n",
       "        <td>2</td>\n",
       "        <td>794.95</td>\n",
       "    </tr>\n",
       "    <tr>\n",
       "        <td>AT94</td>\n",
       "        <td>Iron</td>\n",
       "        <td>50</td>\n",
       "        <td>HW</td>\n",
       "        <td>3</td>\n",
       "        <td>24.95</td>\n",
       "    </tr>\n",
       "    <tr>\n",
       "        <td>CD52</td>\n",
       "        <td>Microwave Oven</td>\n",
       "        <td>32</td>\n",
       "        <td>AP</td>\n",
       "        <td>1</td>\n",
       "        <td>165</td>\n",
       "    </tr>\n",
       "    <tr>\n",
       "        <td>FD21</td>\n",
       "        <td>Stand Mixer</td>\n",
       "        <td>22</td>\n",
       "        <td>HW</td>\n",
       "        <td>3</td>\n",
       "        <td>159.95</td>\n",
       "    </tr>\n",
       "    <tr>\n",
       "        <td>KV29</td>\n",
       "        <td>Treadmill</td>\n",
       "        <td>9</td>\n",
       "        <td>SG</td>\n",
       "        <td>2</td>\n",
       "        <td>1390</td>\n",
       "    </tr>\n",
       "    <tr>\n",
       "        <td>DW11</td>\n",
       "        <td>Washer</td>\n",
       "        <td>12</td>\n",
       "        <td>AP</td>\n",
       "        <td>3</td>\n",
       "        <td>399.99</td>\n",
       "    </tr>\n",
       "</table>"
      ],
      "text/plain": [
       "[('DL71', 'Cordless Drill', 21, 'HW', '3', 129.95),\n",
       " ('KT03', 'Dishwasher', 8, 'AP', '3', 595),\n",
       " ('KL62', 'Dryer', 12, 'AP', '1', 349.95),\n",
       " ('DR93', 'Gas Range', 8, 'AP', '2', 495),\n",
       " ('BV06', 'Home Gym', 45, 'SG', '2', 794.95),\n",
       " ('AT94', 'Iron', 50, 'HW', '3', 24.95),\n",
       " ('CD52', 'Microwave Oven', 32, 'AP', '1', 165),\n",
       " ('FD21', 'Stand Mixer', 22, 'HW', '3', 159.95),\n",
       " ('KV29', 'Treadmill', 9, 'SG', '2', 1390),\n",
       " ('DW11', 'Washer', 12, 'AP', '3', 399.99)]"
      ]
     },
     "execution_count": 52,
     "metadata": {},
     "output_type": "execute_result"
    }
   ],
   "source": [
    "%%sql\n",
    "SELECT *\n",
    "FROM PART\n",
    "ORDER BY DESCRIPTION;"
   ]
  },
  {
   "cell_type": "markdown",
   "metadata": {},
   "source": [
    "C.7. List all details about all parts. Order the output by part number within warehouse. (That is, order the output by warehouse and then by part number.)"
   ]
  },
  {
   "cell_type": "code",
   "execution_count": 53,
   "metadata": {},
   "outputs": [
    {
     "name": "stdout",
     "output_type": "stream",
     "text": [
      " * sqlite://\n",
      "Done.\n"
     ]
    },
    {
     "data": {
      "text/html": [
       "<table>\n",
       "    <tr>\n",
       "        <th>PART_NUM</th>\n",
       "        <th>DESCRIPTION</th>\n",
       "        <th>ON_HAND</th>\n",
       "        <th>CLASS</th>\n",
       "        <th>WAREHOUSE</th>\n",
       "        <th>PRICE</th>\n",
       "    </tr>\n",
       "    <tr>\n",
       "        <td>CD52</td>\n",
       "        <td>Microwave Oven</td>\n",
       "        <td>32</td>\n",
       "        <td>AP</td>\n",
       "        <td>1</td>\n",
       "        <td>165</td>\n",
       "    </tr>\n",
       "    <tr>\n",
       "        <td>KL62</td>\n",
       "        <td>Dryer</td>\n",
       "        <td>12</td>\n",
       "        <td>AP</td>\n",
       "        <td>1</td>\n",
       "        <td>349.95</td>\n",
       "    </tr>\n",
       "    <tr>\n",
       "        <td>BV06</td>\n",
       "        <td>Home Gym</td>\n",
       "        <td>45</td>\n",
       "        <td>SG</td>\n",
       "        <td>2</td>\n",
       "        <td>794.95</td>\n",
       "    </tr>\n",
       "    <tr>\n",
       "        <td>DR93</td>\n",
       "        <td>Gas Range</td>\n",
       "        <td>8</td>\n",
       "        <td>AP</td>\n",
       "        <td>2</td>\n",
       "        <td>495</td>\n",
       "    </tr>\n",
       "    <tr>\n",
       "        <td>KV29</td>\n",
       "        <td>Treadmill</td>\n",
       "        <td>9</td>\n",
       "        <td>SG</td>\n",
       "        <td>2</td>\n",
       "        <td>1390</td>\n",
       "    </tr>\n",
       "    <tr>\n",
       "        <td>AT94</td>\n",
       "        <td>Iron</td>\n",
       "        <td>50</td>\n",
       "        <td>HW</td>\n",
       "        <td>3</td>\n",
       "        <td>24.95</td>\n",
       "    </tr>\n",
       "    <tr>\n",
       "        <td>DL71</td>\n",
       "        <td>Cordless Drill</td>\n",
       "        <td>21</td>\n",
       "        <td>HW</td>\n",
       "        <td>3</td>\n",
       "        <td>129.95</td>\n",
       "    </tr>\n",
       "    <tr>\n",
       "        <td>DW11</td>\n",
       "        <td>Washer</td>\n",
       "        <td>12</td>\n",
       "        <td>AP</td>\n",
       "        <td>3</td>\n",
       "        <td>399.99</td>\n",
       "    </tr>\n",
       "    <tr>\n",
       "        <td>FD21</td>\n",
       "        <td>Stand Mixer</td>\n",
       "        <td>22</td>\n",
       "        <td>HW</td>\n",
       "        <td>3</td>\n",
       "        <td>159.95</td>\n",
       "    </tr>\n",
       "    <tr>\n",
       "        <td>KT03</td>\n",
       "        <td>Dishwasher</td>\n",
       "        <td>8</td>\n",
       "        <td>AP</td>\n",
       "        <td>3</td>\n",
       "        <td>595</td>\n",
       "    </tr>\n",
       "</table>"
      ],
      "text/plain": [
       "[('CD52', 'Microwave Oven', 32, 'AP', '1', 165),\n",
       " ('KL62', 'Dryer', 12, 'AP', '1', 349.95),\n",
       " ('BV06', 'Home Gym', 45, 'SG', '2', 794.95),\n",
       " ('DR93', 'Gas Range', 8, 'AP', '2', 495),\n",
       " ('KV29', 'Treadmill', 9, 'SG', '2', 1390),\n",
       " ('AT94', 'Iron', 50, 'HW', '3', 24.95),\n",
       " ('DL71', 'Cordless Drill', 21, 'HW', '3', 129.95),\n",
       " ('DW11', 'Washer', 12, 'AP', '3', 399.99),\n",
       " ('FD21', 'Stand Mixer', 22, 'HW', '3', 159.95),\n",
       " ('KT03', 'Dishwasher', 8, 'AP', '3', 595)]"
      ]
     },
     "execution_count": 53,
     "metadata": {},
     "output_type": "execute_result"
    }
   ],
   "source": [
    "%%sql\n",
    "SELECT *\n",
    "FROM PART\n",
    "ORDER BY WAREHOUSE, PART_NUM;"
   ]
  },
  {
   "cell_type": "markdown",
   "metadata": {},
   "source": [
    "C.8. List the part number, part description, and on-hand value of each part whose number of units on hand is more than the average number of units on hand for all parts. (Hint: Use a subquery.)"
   ]
  },
  {
   "cell_type": "code",
   "execution_count": 54,
   "metadata": {},
   "outputs": [
    {
     "name": "stdout",
     "output_type": "stream",
     "text": [
      " * sqlite://\n",
      "Done.\n"
     ]
    },
    {
     "data": {
      "text/html": [
       "<table>\n",
       "    <tr>\n",
       "        <th>PART_NUM</th>\n",
       "        <th>DESCRIPTION</th>\n",
       "        <th>ON_HAND</th>\n",
       "    </tr>\n",
       "    <tr>\n",
       "        <td>AT94</td>\n",
       "        <td>Iron</td>\n",
       "        <td>50</td>\n",
       "    </tr>\n",
       "    <tr>\n",
       "        <td>BV06</td>\n",
       "        <td>Home Gym</td>\n",
       "        <td>45</td>\n",
       "    </tr>\n",
       "    <tr>\n",
       "        <td>CD52</td>\n",
       "        <td>Microwave Oven</td>\n",
       "        <td>32</td>\n",
       "    </tr>\n",
       "    <tr>\n",
       "        <td>FD21</td>\n",
       "        <td>Stand Mixer</td>\n",
       "        <td>22</td>\n",
       "    </tr>\n",
       "</table>"
      ],
      "text/plain": [
       "[('AT94', 'Iron', 50),\n",
       " ('BV06', 'Home Gym', 45),\n",
       " ('CD52', 'Microwave Oven', 32),\n",
       " ('FD21', 'Stand Mixer', 22)]"
      ]
     },
     "execution_count": 54,
     "metadata": {},
     "output_type": "execute_result"
    }
   ],
   "source": [
    "%%sql\n",
    "SELECT PART_NUM, DESCRIPTION, ON_HAND\n",
    "FROM PART\n",
    "WHERE ON_HAND >\n",
    "(SELECT AVG(ON_HAND)\n",
    "FROM PART);"
   ]
  },
  {
   "cell_type": "markdown",
   "metadata": {},
   "source": [
    "C.9. List the sum of the balances of all customers for each sales rep. Order and group the results by sales rep number."
   ]
  },
  {
   "cell_type": "code",
   "execution_count": 55,
   "metadata": {},
   "outputs": [
    {
     "name": "stdout",
     "output_type": "stream",
     "text": [
      " * sqlite://\n",
      "Done.\n"
     ]
    },
    {
     "data": {
      "text/html": [
       "<table>\n",
       "    <tr>\n",
       "        <th>REP_NUM</th>\n",
       "        <th>SUM(BALANCE)</th>\n",
       "    </tr>\n",
       "    <tr>\n",
       "        <td>20</td>\n",
       "        <td>27533</td>\n",
       "    </tr>\n",
       "    <tr>\n",
       "        <td>35</td>\n",
       "        <td>8815.75</td>\n",
       "    </tr>\n",
       "    <tr>\n",
       "        <td>65</td>\n",
       "        <td>11303</td>\n",
       "    </tr>\n",
       "</table>"
      ],
      "text/plain": [
       "[('20', 27533), ('35', 8815.75), ('65', 11303)]"
      ]
     },
     "execution_count": 55,
     "metadata": {},
     "output_type": "execute_result"
    }
   ],
   "source": [
    "%%sql\n",
    "SELECT REP_NUM, SUM(BALANCE)\n",
    "FROM CUSTOMER \n",
    "GROUP BY REP_NUM\n",
    "ORDER BY REP_NUM;"
   ]
  },
  {
   "cell_type": "markdown",
   "metadata": {},
   "source": [
    "C.10. List the sum of the balances of all customers for each sales rep, but restrict the output to those sales reps for which the sum is more than $10,000. Order the results by sales rep number."
   ]
  },
  {
   "cell_type": "code",
   "execution_count": 56,
   "metadata": {},
   "outputs": [
    {
     "name": "stdout",
     "output_type": "stream",
     "text": [
      " * sqlite://\n",
      "Done.\n"
     ]
    },
    {
     "data": {
      "text/html": [
       "<table>\n",
       "    <tr>\n",
       "        <th>REP_NUM</th>\n",
       "        <th>SUM(BALANCE)</th>\n",
       "    </tr>\n",
       "    <tr>\n",
       "        <td>20</td>\n",
       "        <td>27533</td>\n",
       "    </tr>\n",
       "    <tr>\n",
       "        <td>65</td>\n",
       "        <td>11303</td>\n",
       "    </tr>\n",
       "</table>"
      ],
      "text/plain": [
       "[('20', 27533), ('65', 11303)]"
      ]
     },
     "execution_count": 56,
     "metadata": {},
     "output_type": "execute_result"
    }
   ],
   "source": [
    "%%sql\n",
    "SELECT REP_NUM, SUM(BALANCE)\n",
    "FROM CUSTOMER\n",
    "GROUP BY REP_NUM\n",
    "HAVING SUM(BALANCE) > 10000\n",
    "ORDER BY REP_NUM;"
   ]
  },
  {
   "cell_type": "markdown",
   "metadata": {},
   "source": [
    "C.11. List the part number of any part with an unknown description."
   ]
  },
  {
   "cell_type": "code",
   "execution_count": 57,
   "metadata": {},
   "outputs": [
    {
     "name": "stdout",
     "output_type": "stream",
     "text": [
      " * sqlite://\n",
      "Done.\n"
     ]
    },
    {
     "data": {
      "text/html": [
       "<table>\n",
       "    <tr>\n",
       "        <th>PART_NUM</th>\n",
       "    </tr>\n",
       "</table>"
      ],
      "text/plain": [
       "[]"
      ]
     },
     "execution_count": 57,
     "metadata": {},
     "output_type": "execute_result"
    }
   ],
   "source": [
    "%%sql\n",
    "SELECT PART_NUM\n",
    "FROM PART\n",
    "WHERE DESCRIPTION IS NULL;"
   ]
  },
  {
   "cell_type": "markdown",
   "metadata": {},
   "source": [
    "D.1. For each order, list the order number and order date along with the number and name of the customer that placed the order."
   ]
  },
  {
   "cell_type": "code",
   "execution_count": 58,
   "metadata": {},
   "outputs": [
    {
     "name": "stdout",
     "output_type": "stream",
     "text": [
      " * sqlite://\n",
      "Done.\n"
     ]
    },
    {
     "data": {
      "text/html": [
       "<table>\n",
       "    <tr>\n",
       "        <th>ORDER_NUM</th>\n",
       "        <th>ORDER_DATE</th>\n",
       "        <th>CUSTOMER_NUM</th>\n",
       "        <th>CUSTOMER_NAME</th>\n",
       "    </tr>\n",
       "    <tr>\n",
       "        <td>21608</td>\n",
       "        <td>20-OCT-2010</td>\n",
       "        <td>148</td>\n",
       "        <td>Al&#x27;s Appliance and Sport</td>\n",
       "    </tr>\n",
       "    <tr>\n",
       "        <td>21610</td>\n",
       "        <td>20-OCT-2010</td>\n",
       "        <td>356</td>\n",
       "        <td>Ferguson&#x27;s</td>\n",
       "    </tr>\n",
       "    <tr>\n",
       "        <td>21613</td>\n",
       "        <td>21-OCT-2010</td>\n",
       "        <td>408</td>\n",
       "        <td>The Everything Shop</td>\n",
       "    </tr>\n",
       "    <tr>\n",
       "        <td>21614</td>\n",
       "        <td>21-OCT-2010</td>\n",
       "        <td>282</td>\n",
       "        <td>Brookings Direct</td>\n",
       "    </tr>\n",
       "    <tr>\n",
       "        <td>21617</td>\n",
       "        <td>23-OCT-2010</td>\n",
       "        <td>608</td>\n",
       "        <td>Johnson&#x27;s Department Store</td>\n",
       "    </tr>\n",
       "    <tr>\n",
       "        <td>21619</td>\n",
       "        <td>23-OCT-2010</td>\n",
       "        <td>148</td>\n",
       "        <td>Al&#x27;s Appliance and Sport</td>\n",
       "    </tr>\n",
       "    <tr>\n",
       "        <td>21623</td>\n",
       "        <td>23-OCT-2010</td>\n",
       "        <td>608</td>\n",
       "        <td>Johnson&#x27;s Department Store</td>\n",
       "    </tr>\n",
       "</table>"
      ],
      "text/plain": [
       "[('21608', '20-OCT-2010', '148', \"Al's Appliance and Sport\"),\n",
       " ('21610', '20-OCT-2010', '356', \"Ferguson's\"),\n",
       " ('21613', '21-OCT-2010', '408', 'The Everything Shop'),\n",
       " ('21614', '21-OCT-2010', '282', 'Brookings Direct'),\n",
       " ('21617', '23-OCT-2010', '608', \"Johnson's Department Store\"),\n",
       " ('21619', '23-OCT-2010', '148', \"Al's Appliance and Sport\"),\n",
       " ('21623', '23-OCT-2010', '608', \"Johnson's Department Store\")]"
      ]
     },
     "execution_count": 58,
     "metadata": {},
     "output_type": "execute_result"
    }
   ],
   "source": [
    "%%sql\n",
    "SELECT ORDER_NUM, ORDER_DATE, ORDERS.CUSTOMER_NUM, CUSTOMER_NAME\n",
    "FROM ORDERS, CUSTOMER\n",
    "WHERE ORDERS.CUSTOMER_NUM = CUSTOMER.CUSTOMER_NUM;"
   ]
  },
  {
   "cell_type": "markdown",
   "metadata": {},
   "source": [
    "D.2. For each order placed on October 23, 2010, list the order number along with the number and name of the customer that placed the order."
   ]
  },
  {
   "cell_type": "code",
   "execution_count": 59,
   "metadata": {},
   "outputs": [
    {
     "name": "stdout",
     "output_type": "stream",
     "text": [
      " * sqlite://\n",
      "Done.\n"
     ]
    },
    {
     "data": {
      "text/html": [
       "<table>\n",
       "    <tr>\n",
       "        <th>ORDER_NUM</th>\n",
       "        <th>CUSTOMER_NUM</th>\n",
       "        <th>CUSTOMER_NAME</th>\n",
       "    </tr>\n",
       "    <tr>\n",
       "        <td>21617</td>\n",
       "        <td>608</td>\n",
       "        <td>Johnson&#x27;s Department Store</td>\n",
       "    </tr>\n",
       "    <tr>\n",
       "        <td>21619</td>\n",
       "        <td>148</td>\n",
       "        <td>Al&#x27;s Appliance and Sport</td>\n",
       "    </tr>\n",
       "    <tr>\n",
       "        <td>21623</td>\n",
       "        <td>608</td>\n",
       "        <td>Johnson&#x27;s Department Store</td>\n",
       "    </tr>\n",
       "</table>"
      ],
      "text/plain": [
       "[('21617', '608', \"Johnson's Department Store\"),\n",
       " ('21619', '148', \"Al's Appliance and Sport\"),\n",
       " ('21623', '608', \"Johnson's Department Store\")]"
      ]
     },
     "execution_count": 59,
     "metadata": {},
     "output_type": "execute_result"
    }
   ],
   "source": [
    "%%sql\n",
    "SELECT ORDER_NUM, ORDERS.CUSTOMER_NUM, CUSTOMER_NAME\n",
    "FROM ORDERS, CUSTOMER\n",
    "WHERE ORDERS.CUSTOMER_NUM = CUSTOMER.CUSTOMER_NUM\n",
    "AND ORDER_DATE = '23-OCT-2010';"
   ]
  },
  {
   "cell_type": "markdown",
   "metadata": {},
   "source": [
    "D.3. For each order, list the order number, order date, part number, number of units ordered, and quoted price for each order line that makes up the order."
   ]
  },
  {
   "cell_type": "code",
   "execution_count": 60,
   "metadata": {},
   "outputs": [
    {
     "name": "stdout",
     "output_type": "stream",
     "text": [
      " * sqlite://\n",
      "Done.\n"
     ]
    },
    {
     "data": {
      "text/html": [
       "<table>\n",
       "    <tr>\n",
       "        <th>ORDER_NUM</th>\n",
       "        <th>ORDER_DATE</th>\n",
       "        <th>PART_NUM</th>\n",
       "        <th>NUM_ORDERED</th>\n",
       "        <th>QUOTED_PRICE</th>\n",
       "    </tr>\n",
       "    <tr>\n",
       "        <td>21608</td>\n",
       "        <td>20-OCT-2010</td>\n",
       "        <td>AT94</td>\n",
       "        <td>11</td>\n",
       "        <td>21.95</td>\n",
       "    </tr>\n",
       "    <tr>\n",
       "        <td>21610</td>\n",
       "        <td>20-OCT-2010</td>\n",
       "        <td>DR93</td>\n",
       "        <td>1</td>\n",
       "        <td>495</td>\n",
       "    </tr>\n",
       "    <tr>\n",
       "        <td>21610</td>\n",
       "        <td>20-OCT-2010</td>\n",
       "        <td>DW11</td>\n",
       "        <td>1</td>\n",
       "        <td>399.99</td>\n",
       "    </tr>\n",
       "    <tr>\n",
       "        <td>21613</td>\n",
       "        <td>21-OCT-2010</td>\n",
       "        <td>KL62</td>\n",
       "        <td>4</td>\n",
       "        <td>329.95</td>\n",
       "    </tr>\n",
       "    <tr>\n",
       "        <td>21614</td>\n",
       "        <td>21-OCT-2010</td>\n",
       "        <td>KT03</td>\n",
       "        <td>2</td>\n",
       "        <td>595</td>\n",
       "    </tr>\n",
       "    <tr>\n",
       "        <td>21617</td>\n",
       "        <td>23-OCT-2010</td>\n",
       "        <td>BV06</td>\n",
       "        <td>2</td>\n",
       "        <td>794.95</td>\n",
       "    </tr>\n",
       "    <tr>\n",
       "        <td>21617</td>\n",
       "        <td>23-OCT-2010</td>\n",
       "        <td>CD52</td>\n",
       "        <td>4</td>\n",
       "        <td>150</td>\n",
       "    </tr>\n",
       "    <tr>\n",
       "        <td>21619</td>\n",
       "        <td>23-OCT-2010</td>\n",
       "        <td>DR93</td>\n",
       "        <td>1</td>\n",
       "        <td>495</td>\n",
       "    </tr>\n",
       "    <tr>\n",
       "        <td>21623</td>\n",
       "        <td>23-OCT-2010</td>\n",
       "        <td>KV29</td>\n",
       "        <td>2</td>\n",
       "        <td>1290</td>\n",
       "    </tr>\n",
       "</table>"
      ],
      "text/plain": [
       "[('21608', '20-OCT-2010', 'AT94', 11, 21.95),\n",
       " ('21610', '20-OCT-2010', 'DR93', 1, 495),\n",
       " ('21610', '20-OCT-2010', 'DW11', 1, 399.99),\n",
       " ('21613', '21-OCT-2010', 'KL62', 4, 329.95),\n",
       " ('21614', '21-OCT-2010', 'KT03', 2, 595),\n",
       " ('21617', '23-OCT-2010', 'BV06', 2, 794.95),\n",
       " ('21617', '23-OCT-2010', 'CD52', 4, 150),\n",
       " ('21619', '23-OCT-2010', 'DR93', 1, 495),\n",
       " ('21623', '23-OCT-2010', 'KV29', 2, 1290)]"
      ]
     },
     "execution_count": 60,
     "metadata": {},
     "output_type": "execute_result"
    }
   ],
   "source": [
    "%%sql\n",
    "SELECT ORDERS.ORDER_NUM, ORDER_DATE, PART_NUM, NUM_ORDERED, QUOTED_PRICE\n",
    "FROM ORDERS, ORDER_LINE\n",
    "WHERE ORDERS.ORDER_NUM = ORDER_LINE.ORDER_NUM;"
   ]
  },
  {
   "cell_type": "markdown",
   "metadata": {},
   "source": [
    "D.4. Use the IN operator to find the number and name of each customer that placed an order on October 23, 2010."
   ]
  },
  {
   "cell_type": "code",
   "execution_count": 61,
   "metadata": {},
   "outputs": [
    {
     "name": "stdout",
     "output_type": "stream",
     "text": [
      " * sqlite://\n",
      "Done.\n"
     ]
    },
    {
     "data": {
      "text/html": [
       "<table>\n",
       "    <tr>\n",
       "        <th>CUSTOMER_NUM</th>\n",
       "        <th>CUSTOMER_NAME</th>\n",
       "    </tr>\n",
       "    <tr>\n",
       "        <td>148</td>\n",
       "        <td>Al&#x27;s Appliance and Sport</td>\n",
       "    </tr>\n",
       "    <tr>\n",
       "        <td>608</td>\n",
       "        <td>Johnson&#x27;s Department Store</td>\n",
       "    </tr>\n",
       "</table>"
      ],
      "text/plain": [
       "[('148', \"Al's Appliance and Sport\"), ('608', \"Johnson's Department Store\")]"
      ]
     },
     "execution_count": 61,
     "metadata": {},
     "output_type": "execute_result"
    }
   ],
   "source": [
    "%%sql\n",
    "SELECT CUSTOMER_NUM, CUSTOMER_NAME\n",
    "FROM CUSTOMER\n",
    "WHERE CUSTOMER_NUM IN\n",
    "(SELECT CUSTOMER_NUM\n",
    "FROM ORDERS \n",
    "WHERE ORDER_DATE = '23-OCT-2010');"
   ]
  },
  {
   "cell_type": "markdown",
   "metadata": {},
   "source": [
    "D.5. Repeat Exercise 4, but this time use the EXISTS operator in your answer."
   ]
  },
  {
   "cell_type": "code",
   "execution_count": 62,
   "metadata": {},
   "outputs": [
    {
     "name": "stdout",
     "output_type": "stream",
     "text": [
      " * sqlite://\n",
      "Done.\n"
     ]
    },
    {
     "data": {
      "text/html": [
       "<table>\n",
       "    <tr>\n",
       "        <th>CUSTOMER_NUM</th>\n",
       "        <th>CUSTOMER_NAME</th>\n",
       "    </tr>\n",
       "    <tr>\n",
       "        <td>148</td>\n",
       "        <td>Al&#x27;s Appliance and Sport</td>\n",
       "    </tr>\n",
       "    <tr>\n",
       "        <td>608</td>\n",
       "        <td>Johnson&#x27;s Department Store</td>\n",
       "    </tr>\n",
       "</table>"
      ],
      "text/plain": [
       "[('148', \"Al's Appliance and Sport\"), ('608', \"Johnson's Department Store\")]"
      ]
     },
     "execution_count": 62,
     "metadata": {},
     "output_type": "execute_result"
    }
   ],
   "source": [
    "%%sql\n",
    "SELECT CUSTOMER_NUM, CUSTOMER_NAME\n",
    "FROM CUSTOMER\n",
    "WHERE EXISTS\n",
    "(SELECT *\n",
    "FROM ORDERS\n",
    "WHERE ORDERS.CUSTOMER_NUM = CUSTOMER.CUSTOMER_NUM\n",
    "AND ORDER_DATE = '23-OCT-2010');"
   ]
  },
  {
   "cell_type": "markdown",
   "metadata": {},
   "source": [
    "D.6. Find the number and name of each customer that did not place an order on October 23, 2010."
   ]
  },
  {
   "cell_type": "code",
   "execution_count": 63,
   "metadata": {},
   "outputs": [
    {
     "name": "stdout",
     "output_type": "stream",
     "text": [
      " * sqlite://\n",
      "Done.\n"
     ]
    },
    {
     "data": {
      "text/html": [
       "<table>\n",
       "    <tr>\n",
       "        <th>CUSTOMER_NUM</th>\n",
       "        <th>CUSTOMER_NAME</th>\n",
       "    </tr>\n",
       "    <tr>\n",
       "        <td>282</td>\n",
       "        <td>Brookings Direct</td>\n",
       "    </tr>\n",
       "    <tr>\n",
       "        <td>356</td>\n",
       "        <td>Ferguson&#x27;s</td>\n",
       "    </tr>\n",
       "    <tr>\n",
       "        <td>408</td>\n",
       "        <td>The Everything Shop</td>\n",
       "    </tr>\n",
       "    <tr>\n",
       "        <td>462</td>\n",
       "        <td>Bargains Galore</td>\n",
       "    </tr>\n",
       "    <tr>\n",
       "        <td>524</td>\n",
       "        <td>Kline&#x27;s</td>\n",
       "    </tr>\n",
       "    <tr>\n",
       "        <td>687</td>\n",
       "        <td>Lee&#x27;s Sport and Appliance</td>\n",
       "    </tr>\n",
       "    <tr>\n",
       "        <td>725</td>\n",
       "        <td>Deerfield&#x27;s Four Seasons</td>\n",
       "    </tr>\n",
       "    <tr>\n",
       "        <td>842</td>\n",
       "        <td>All Season</td>\n",
       "    </tr>\n",
       "</table>"
      ],
      "text/plain": [
       "[('282', 'Brookings Direct'),\n",
       " ('356', \"Ferguson's\"),\n",
       " ('408', 'The Everything Shop'),\n",
       " ('462', 'Bargains Galore'),\n",
       " ('524', \"Kline's\"),\n",
       " ('687', \"Lee's Sport and Appliance\"),\n",
       " ('725', \"Deerfield's Four Seasons\"),\n",
       " ('842', 'All Season')]"
      ]
     },
     "execution_count": 63,
     "metadata": {},
     "output_type": "execute_result"
    }
   ],
   "source": [
    "%%sql\n",
    "SELECT CUSTOMER_NUM, CUSTOMER_NAME\n",
    "FROM CUSTOMER\n",
    "WHERE CUSTOMER_NUM NOT IN\n",
    "(SELECT CUSTOMER_NUM\n",
    "FROM ORDERS \n",
    "WHERE ORDER_DATE = '23-OCT-2010');"
   ]
  },
  {
   "cell_type": "markdown",
   "metadata": {},
   "source": [
    "D.7. For each order, list the order number, order date, part number, part description, and item class for each part that makes up the order."
   ]
  },
  {
   "cell_type": "code",
   "execution_count": 64,
   "metadata": {},
   "outputs": [
    {
     "name": "stdout",
     "output_type": "stream",
     "text": [
      " * sqlite://\n",
      "Done.\n"
     ]
    },
    {
     "data": {
      "text/html": [
       "<table>\n",
       "    <tr>\n",
       "        <th>ORDER_NUM</th>\n",
       "        <th>ORDER_DATE</th>\n",
       "        <th>PART_NUM</th>\n",
       "        <th>DESCRIPTION</th>\n",
       "        <th>CLASS</th>\n",
       "    </tr>\n",
       "    <tr>\n",
       "        <td>21608</td>\n",
       "        <td>20-OCT-2010</td>\n",
       "        <td>AT94</td>\n",
       "        <td>Iron</td>\n",
       "        <td>HW</td>\n",
       "    </tr>\n",
       "    <tr>\n",
       "        <td>21610</td>\n",
       "        <td>20-OCT-2010</td>\n",
       "        <td>DR93</td>\n",
       "        <td>Gas Range</td>\n",
       "        <td>AP</td>\n",
       "    </tr>\n",
       "    <tr>\n",
       "        <td>21610</td>\n",
       "        <td>20-OCT-2010</td>\n",
       "        <td>DW11</td>\n",
       "        <td>Washer</td>\n",
       "        <td>AP</td>\n",
       "    </tr>\n",
       "    <tr>\n",
       "        <td>21613</td>\n",
       "        <td>21-OCT-2010</td>\n",
       "        <td>KL62</td>\n",
       "        <td>Dryer</td>\n",
       "        <td>AP</td>\n",
       "    </tr>\n",
       "    <tr>\n",
       "        <td>21614</td>\n",
       "        <td>21-OCT-2010</td>\n",
       "        <td>KT03</td>\n",
       "        <td>Dishwasher</td>\n",
       "        <td>AP</td>\n",
       "    </tr>\n",
       "    <tr>\n",
       "        <td>21617</td>\n",
       "        <td>23-OCT-2010</td>\n",
       "        <td>BV06</td>\n",
       "        <td>Home Gym</td>\n",
       "        <td>SG</td>\n",
       "    </tr>\n",
       "    <tr>\n",
       "        <td>21617</td>\n",
       "        <td>23-OCT-2010</td>\n",
       "        <td>CD52</td>\n",
       "        <td>Microwave Oven</td>\n",
       "        <td>AP</td>\n",
       "    </tr>\n",
       "    <tr>\n",
       "        <td>21619</td>\n",
       "        <td>23-OCT-2010</td>\n",
       "        <td>DR93</td>\n",
       "        <td>Gas Range</td>\n",
       "        <td>AP</td>\n",
       "    </tr>\n",
       "    <tr>\n",
       "        <td>21623</td>\n",
       "        <td>23-OCT-2010</td>\n",
       "        <td>KV29</td>\n",
       "        <td>Treadmill</td>\n",
       "        <td>SG</td>\n",
       "    </tr>\n",
       "</table>"
      ],
      "text/plain": [
       "[('21608', '20-OCT-2010', 'AT94', 'Iron', 'HW'),\n",
       " ('21610', '20-OCT-2010', 'DR93', 'Gas Range', 'AP'),\n",
       " ('21610', '20-OCT-2010', 'DW11', 'Washer', 'AP'),\n",
       " ('21613', '21-OCT-2010', 'KL62', 'Dryer', 'AP'),\n",
       " ('21614', '21-OCT-2010', 'KT03', 'Dishwasher', 'AP'),\n",
       " ('21617', '23-OCT-2010', 'BV06', 'Home Gym', 'SG'),\n",
       " ('21617', '23-OCT-2010', 'CD52', 'Microwave Oven', 'AP'),\n",
       " ('21619', '23-OCT-2010', 'DR93', 'Gas Range', 'AP'),\n",
       " ('21623', '23-OCT-2010', 'KV29', 'Treadmill', 'SG')]"
      ]
     },
     "execution_count": 64,
     "metadata": {},
     "output_type": "execute_result"
    }
   ],
   "source": [
    "%%sql\n",
    "SELECT ORDERS.ORDER_NUM, ORDER_DATE, PART.PART_NUM, DESCRIPTION, CLASS\n",
    "FROM ORDERS, ORDER_LINE, PART\n",
    "WHERE ORDERS.ORDER_NUM = ORDER_LINE.ORDER_NUM\n",
    "AND ORDER_LINE.PART_NUM = PART.PART_NUM;"
   ]
  },
  {
   "cell_type": "markdown",
   "metadata": {},
   "source": [
    "D.8. Repeat Exercise 7, but this time order the rows by item class and then by order number."
   ]
  },
  {
   "cell_type": "code",
   "execution_count": 65,
   "metadata": {},
   "outputs": [
    {
     "name": "stdout",
     "output_type": "stream",
     "text": [
      " * sqlite://\n",
      "Done.\n"
     ]
    },
    {
     "data": {
      "text/html": [
       "<table>\n",
       "    <tr>\n",
       "        <th>ORDER_NUM</th>\n",
       "        <th>ORDER_DATE</th>\n",
       "        <th>PART_NUM</th>\n",
       "        <th>DESCRIPTION</th>\n",
       "        <th>CLASS</th>\n",
       "    </tr>\n",
       "    <tr>\n",
       "        <td>21610</td>\n",
       "        <td>20-OCT-2010</td>\n",
       "        <td>DR93</td>\n",
       "        <td>Gas Range</td>\n",
       "        <td>AP</td>\n",
       "    </tr>\n",
       "    <tr>\n",
       "        <td>21610</td>\n",
       "        <td>20-OCT-2010</td>\n",
       "        <td>DW11</td>\n",
       "        <td>Washer</td>\n",
       "        <td>AP</td>\n",
       "    </tr>\n",
       "    <tr>\n",
       "        <td>21613</td>\n",
       "        <td>21-OCT-2010</td>\n",
       "        <td>KL62</td>\n",
       "        <td>Dryer</td>\n",
       "        <td>AP</td>\n",
       "    </tr>\n",
       "    <tr>\n",
       "        <td>21614</td>\n",
       "        <td>21-OCT-2010</td>\n",
       "        <td>KT03</td>\n",
       "        <td>Dishwasher</td>\n",
       "        <td>AP</td>\n",
       "    </tr>\n",
       "    <tr>\n",
       "        <td>21617</td>\n",
       "        <td>23-OCT-2010</td>\n",
       "        <td>CD52</td>\n",
       "        <td>Microwave Oven</td>\n",
       "        <td>AP</td>\n",
       "    </tr>\n",
       "    <tr>\n",
       "        <td>21619</td>\n",
       "        <td>23-OCT-2010</td>\n",
       "        <td>DR93</td>\n",
       "        <td>Gas Range</td>\n",
       "        <td>AP</td>\n",
       "    </tr>\n",
       "    <tr>\n",
       "        <td>21608</td>\n",
       "        <td>20-OCT-2010</td>\n",
       "        <td>AT94</td>\n",
       "        <td>Iron</td>\n",
       "        <td>HW</td>\n",
       "    </tr>\n",
       "    <tr>\n",
       "        <td>21617</td>\n",
       "        <td>23-OCT-2010</td>\n",
       "        <td>BV06</td>\n",
       "        <td>Home Gym</td>\n",
       "        <td>SG</td>\n",
       "    </tr>\n",
       "    <tr>\n",
       "        <td>21623</td>\n",
       "        <td>23-OCT-2010</td>\n",
       "        <td>KV29</td>\n",
       "        <td>Treadmill</td>\n",
       "        <td>SG</td>\n",
       "    </tr>\n",
       "</table>"
      ],
      "text/plain": [
       "[('21610', '20-OCT-2010', 'DR93', 'Gas Range', 'AP'),\n",
       " ('21610', '20-OCT-2010', 'DW11', 'Washer', 'AP'),\n",
       " ('21613', '21-OCT-2010', 'KL62', 'Dryer', 'AP'),\n",
       " ('21614', '21-OCT-2010', 'KT03', 'Dishwasher', 'AP'),\n",
       " ('21617', '23-OCT-2010', 'CD52', 'Microwave Oven', 'AP'),\n",
       " ('21619', '23-OCT-2010', 'DR93', 'Gas Range', 'AP'),\n",
       " ('21608', '20-OCT-2010', 'AT94', 'Iron', 'HW'),\n",
       " ('21617', '23-OCT-2010', 'BV06', 'Home Gym', 'SG'),\n",
       " ('21623', '23-OCT-2010', 'KV29', 'Treadmill', 'SG')]"
      ]
     },
     "execution_count": 65,
     "metadata": {},
     "output_type": "execute_result"
    }
   ],
   "source": [
    "%%sql\n",
    "SELECT ORDERS.ORDER_NUM, ORDER_DATE, PART.PART_NUM, DESCRIPTION, CLASS\n",
    "FROM ORDERS, ORDER_LINE, PART\n",
    "WHERE ORDERS.ORDER_NUM = ORDER_LINE.ORDER_NUM\n",
    "AND ORDER_LINE.PART_NUM = PART.PART_NUM\n",
    "ORDER BY CLASS, ORDERS.ORDER_NUM;"
   ]
  },
  {
   "cell_type": "markdown",
   "metadata": {},
   "source": [
    "D.9. Use a subquery to find the rep number, last name, and first name of each sales rep who represents at least one customer with a credit limit of $10,000. List each sales rep only once in the results."
   ]
  },
  {
   "cell_type": "code",
   "execution_count": 66,
   "metadata": {},
   "outputs": [
    {
     "name": "stdout",
     "output_type": "stream",
     "text": [
      " * sqlite://\n",
      "Done.\n"
     ]
    },
    {
     "data": {
      "text/html": [
       "<table>\n",
       "    <tr>\n",
       "        <th>rep_num</th>\n",
       "        <th>last_name</th>\n",
       "        <th>first_name</th>\n",
       "    </tr>\n",
       "    <tr>\n",
       "        <td>35</td>\n",
       "        <td>Hull</td>\n",
       "        <td>Richard</td>\n",
       "    </tr>\n",
       "    <tr>\n",
       "        <td>65</td>\n",
       "        <td>Perez</td>\n",
       "        <td>Juan</td>\n",
       "    </tr>\n",
       "</table>"
      ],
      "text/plain": [
       "[('35', 'Hull', 'Richard'), ('65', 'Perez', 'Juan')]"
      ]
     },
     "execution_count": 66,
     "metadata": {},
     "output_type": "execute_result"
    }
   ],
   "source": [
    "%%sql\n",
    "SELECT REP_NUM, LAST_NAME, FIRST_NAME\n",
    "FROM REP\n",
    "WHERE REP_NUM IN \n",
    "(SELECT REP_NUM\n",
    "FROM CUSTOMER\n",
    "WHERE CREDIT_LIMIT = 10000);"
   ]
  },
  {
   "cell_type": "markdown",
   "metadata": {},
   "source": [
    "D.10. Repeat Exercise 9, but this time do not use a subquery."
   ]
  },
  {
   "cell_type": "code",
   "execution_count": 67,
   "metadata": {},
   "outputs": [
    {
     "name": "stdout",
     "output_type": "stream",
     "text": [
      " * sqlite://\n",
      "Done.\n"
     ]
    },
    {
     "data": {
      "text/html": [
       "<table>\n",
       "    <tr>\n",
       "        <th>rep_num</th>\n",
       "        <th>last_name</th>\n",
       "        <th>first_name</th>\n",
       "    </tr>\n",
       "    <tr>\n",
       "        <td>35</td>\n",
       "        <td>Hull</td>\n",
       "        <td>Richard</td>\n",
       "    </tr>\n",
       "    <tr>\n",
       "        <td>65</td>\n",
       "        <td>Perez</td>\n",
       "        <td>Juan</td>\n",
       "    </tr>\n",
       "</table>"
      ],
      "text/plain": [
       "[('35', 'Hull', 'Richard'), ('65', 'Perez', 'Juan')]"
      ]
     },
     "execution_count": 67,
     "metadata": {},
     "output_type": "execute_result"
    }
   ],
   "source": [
    "%%sql\n",
    "SELECT DISTINCT REP.REP_NUM, LAST_NAME, FIRST_NAME\n",
    "FROM REP, CUSTOMER\n",
    "WHERE REP.REP_NUM = CUSTOMER.REP_NUM\n",
    "AND CREDIT_LIMIT = 10000;"
   ]
  },
  {
   "cell_type": "markdown",
   "metadata": {},
   "source": [
    "D.11. Find the number and name of each customer that currently has an order on file for a\n",
    "Gas Range."
   ]
  },
  {
   "cell_type": "code",
   "execution_count": 68,
   "metadata": {},
   "outputs": [
    {
     "name": "stdout",
     "output_type": "stream",
     "text": [
      " * sqlite://\n",
      "Done.\n"
     ]
    },
    {
     "data": {
      "text/html": [
       "<table>\n",
       "    <tr>\n",
       "        <th>CUSTOMER_NUM</th>\n",
       "        <th>CUSTOMER_NAME</th>\n",
       "    </tr>\n",
       "    <tr>\n",
       "        <td>356</td>\n",
       "        <td>Ferguson&#x27;s</td>\n",
       "    </tr>\n",
       "    <tr>\n",
       "        <td>148</td>\n",
       "        <td>Al&#x27;s Appliance and Sport</td>\n",
       "    </tr>\n",
       "</table>"
      ],
      "text/plain": [
       "[('356', \"Ferguson's\"), ('148', \"Al's Appliance and Sport\")]"
      ]
     },
     "execution_count": 68,
     "metadata": {},
     "output_type": "execute_result"
    }
   ],
   "source": [
    "%%sql\n",
    "SELECT CUSTOMER.CUSTOMER_NUM, CUSTOMER_NAME\n",
    "FROM CUSTOMER, ORDERS, ORDER_LINE, PART\n",
    "WHERE CUSTOMER.CUSTOMER_NUM = ORDERS.CUSTOMER_NUM\n",
    "AND ORDERS.ORDER_NUM = ORDER_LINE.ORDER_NUM\n",
    "AND ORDER_LINE.PART_NUM = PART.PART_NUM\n",
    "AND DESCRIPTION = 'Gas Range';"
   ]
  },
  {
   "cell_type": "code",
   "execution_count": 69,
   "metadata": {},
   "outputs": [
    {
     "name": "stdout",
     "output_type": "stream",
     "text": [
      " * sqlite://\n",
      "Done.\n"
     ]
    },
    {
     "data": {
      "text/html": [
       "<table>\n",
       "    <tr>\n",
       "        <th>CUSTOMER_NUM</th>\n",
       "        <th>CUSTOMER_NAME</th>\n",
       "    </tr>\n",
       "    <tr>\n",
       "        <td>356</td>\n",
       "        <td>Ferguson&#x27;s</td>\n",
       "    </tr>\n",
       "    <tr>\n",
       "        <td>148</td>\n",
       "        <td>Al&#x27;s Appliance and Sport</td>\n",
       "    </tr>\n",
       "</table>"
      ],
      "text/plain": [
       "[('356', \"Ferguson's\"), ('148', \"Al's Appliance and Sport\")]"
      ]
     },
     "execution_count": 69,
     "metadata": {},
     "output_type": "execute_result"
    }
   ],
   "source": [
    "%%sql\n",
    "SELECT CUSTOMER.CUSTOMER_NUM, CUSTOMER_NAME\n",
    "FROM CUSTOMER\n",
    "JOIN ORDERS ON CUSTOMER.CUSTOMER_NUM = ORDERS.CUSTOMER_NUM\n",
    "JOIN ORDER_LINE ON ORDERS.ORDER_NUM = ORDER_LINE.ORDER_NUM\n",
    "JOIN PART ON ORDER_LINE.PART_NUM = PART.PART_NUM\n",
    "WHERE DESCRIPTION = 'Gas Range';"
   ]
  },
  {
   "cell_type": "markdown",
   "metadata": {},
   "source": [
    "D.12. List the part number, part description, and item class for each pair of parts that are in the same item class. (For example, one such pair would be part AT94 and part FD21, because the item class for both parts is HW.)"
   ]
  },
  {
   "cell_type": "code",
   "execution_count": 70,
   "metadata": {},
   "outputs": [
    {
     "name": "stdout",
     "output_type": "stream",
     "text": [
      " * sqlite://\n",
      "Done.\n"
     ]
    },
    {
     "data": {
      "text/html": [
       "<table>\n",
       "    <tr>\n",
       "        <th>PART_NUM</th>\n",
       "        <th>DESCRIPTION</th>\n",
       "        <th>PART_NUM_1</th>\n",
       "        <th>DESCRIPTION_1</th>\n",
       "        <th>CLASS</th>\n",
       "    </tr>\n",
       "    <tr>\n",
       "        <td>CD52</td>\n",
       "        <td>Microwave Oven</td>\n",
       "        <td>DR93</td>\n",
       "        <td>Gas Range</td>\n",
       "        <td>AP</td>\n",
       "    </tr>\n",
       "    <tr>\n",
       "        <td>CD52</td>\n",
       "        <td>Microwave Oven</td>\n",
       "        <td>DW11</td>\n",
       "        <td>Washer</td>\n",
       "        <td>AP</td>\n",
       "    </tr>\n",
       "    <tr>\n",
       "        <td>CD52</td>\n",
       "        <td>Microwave Oven</td>\n",
       "        <td>KL62</td>\n",
       "        <td>Dryer</td>\n",
       "        <td>AP</td>\n",
       "    </tr>\n",
       "    <tr>\n",
       "        <td>CD52</td>\n",
       "        <td>Microwave Oven</td>\n",
       "        <td>KT03</td>\n",
       "        <td>Dishwasher</td>\n",
       "        <td>AP</td>\n",
       "    </tr>\n",
       "    <tr>\n",
       "        <td>DR93</td>\n",
       "        <td>Gas Range</td>\n",
       "        <td>DW11</td>\n",
       "        <td>Washer</td>\n",
       "        <td>AP</td>\n",
       "    </tr>\n",
       "    <tr>\n",
       "        <td>DR93</td>\n",
       "        <td>Gas Range</td>\n",
       "        <td>KL62</td>\n",
       "        <td>Dryer</td>\n",
       "        <td>AP</td>\n",
       "    </tr>\n",
       "    <tr>\n",
       "        <td>DR93</td>\n",
       "        <td>Gas Range</td>\n",
       "        <td>KT03</td>\n",
       "        <td>Dishwasher</td>\n",
       "        <td>AP</td>\n",
       "    </tr>\n",
       "    <tr>\n",
       "        <td>DW11</td>\n",
       "        <td>Washer</td>\n",
       "        <td>KL62</td>\n",
       "        <td>Dryer</td>\n",
       "        <td>AP</td>\n",
       "    </tr>\n",
       "    <tr>\n",
       "        <td>DW11</td>\n",
       "        <td>Washer</td>\n",
       "        <td>KT03</td>\n",
       "        <td>Dishwasher</td>\n",
       "        <td>AP</td>\n",
       "    </tr>\n",
       "    <tr>\n",
       "        <td>KL62</td>\n",
       "        <td>Dryer</td>\n",
       "        <td>KT03</td>\n",
       "        <td>Dishwasher</td>\n",
       "        <td>AP</td>\n",
       "    </tr>\n",
       "    <tr>\n",
       "        <td>AT94</td>\n",
       "        <td>Iron</td>\n",
       "        <td>DL71</td>\n",
       "        <td>Cordless Drill</td>\n",
       "        <td>HW</td>\n",
       "    </tr>\n",
       "    <tr>\n",
       "        <td>AT94</td>\n",
       "        <td>Iron</td>\n",
       "        <td>FD21</td>\n",
       "        <td>Stand Mixer</td>\n",
       "        <td>HW</td>\n",
       "    </tr>\n",
       "    <tr>\n",
       "        <td>DL71</td>\n",
       "        <td>Cordless Drill</td>\n",
       "        <td>FD21</td>\n",
       "        <td>Stand Mixer</td>\n",
       "        <td>HW</td>\n",
       "    </tr>\n",
       "    <tr>\n",
       "        <td>BV06</td>\n",
       "        <td>Home Gym</td>\n",
       "        <td>KV29</td>\n",
       "        <td>Treadmill</td>\n",
       "        <td>SG</td>\n",
       "    </tr>\n",
       "</table>"
      ],
      "text/plain": [
       "[('CD52', 'Microwave Oven', 'DR93', 'Gas Range', 'AP'),\n",
       " ('CD52', 'Microwave Oven', 'DW11', 'Washer', 'AP'),\n",
       " ('CD52', 'Microwave Oven', 'KL62', 'Dryer', 'AP'),\n",
       " ('CD52', 'Microwave Oven', 'KT03', 'Dishwasher', 'AP'),\n",
       " ('DR93', 'Gas Range', 'DW11', 'Washer', 'AP'),\n",
       " ('DR93', 'Gas Range', 'KL62', 'Dryer', 'AP'),\n",
       " ('DR93', 'Gas Range', 'KT03', 'Dishwasher', 'AP'),\n",
       " ('DW11', 'Washer', 'KL62', 'Dryer', 'AP'),\n",
       " ('DW11', 'Washer', 'KT03', 'Dishwasher', 'AP'),\n",
       " ('KL62', 'Dryer', 'KT03', 'Dishwasher', 'AP'),\n",
       " ('AT94', 'Iron', 'DL71', 'Cordless Drill', 'HW'),\n",
       " ('AT94', 'Iron', 'FD21', 'Stand Mixer', 'HW'),\n",
       " ('DL71', 'Cordless Drill', 'FD21', 'Stand Mixer', 'HW'),\n",
       " ('BV06', 'Home Gym', 'KV29', 'Treadmill', 'SG')]"
      ]
     },
     "execution_count": 70,
     "metadata": {},
     "output_type": "execute_result"
    }
   ],
   "source": [
    "%%sql\n",
    "SELECT F.PART_NUM, F.DESCRIPTION, S.PART_NUM, S.DESCRIPTION, F.CLASS\n",
    "FROM PART F, PART S\n",
    "WHERE F.CLASS = S.CLASS\n",
    "AND F.PART_NUM < S.PART_NUM\n",
    "ORDER BY F.CLASS, F.PART_NUM, S.PART_NUM;"
   ]
  },
  {
   "cell_type": "markdown",
   "metadata": {},
   "source": [
    "D.13. List the order number and order date for each order placed by the customer named Johnson’s Department Store. (Hint: To enter an apostrophe (single quotation mark) within a string of characters, type two single quotation marks.)"
   ]
  },
  {
   "cell_type": "code",
   "execution_count": 71,
   "metadata": {},
   "outputs": [
    {
     "name": "stdout",
     "output_type": "stream",
     "text": [
      " * sqlite://\n",
      "Done.\n"
     ]
    },
    {
     "data": {
      "text/html": [
       "<table>\n",
       "    <tr>\n",
       "        <th>ORDER_NUM</th>\n",
       "        <th>ORDER_DATE</th>\n",
       "    </tr>\n",
       "    <tr>\n",
       "        <td>21617</td>\n",
       "        <td>23-OCT-2010</td>\n",
       "    </tr>\n",
       "    <tr>\n",
       "        <td>21623</td>\n",
       "        <td>23-OCT-2010</td>\n",
       "    </tr>\n",
       "</table>"
      ],
      "text/plain": [
       "[('21617', '23-OCT-2010'), ('21623', '23-OCT-2010')]"
      ]
     },
     "execution_count": 71,
     "metadata": {},
     "output_type": "execute_result"
    }
   ],
   "source": [
    "%%sql\n",
    "SELECT ORDERS.ORDER_NUM, ORDER_DATE\n",
    "FROM CUSTOMER, ORDERS\n",
    "WHERE CUSTOMER.CUSTOMER_NUM = ORDERS.CUSTOMER_NUM\n",
    "AND CUSTOMER_NAME = 'Johnson''s Department Store';"
   ]
  },
  {
   "cell_type": "markdown",
   "metadata": {},
   "source": [
    "D.14. List the order number and order date for each order that contains an order line for an Iron."
   ]
  },
  {
   "cell_type": "code",
   "execution_count": 72,
   "metadata": {},
   "outputs": [
    {
     "name": "stdout",
     "output_type": "stream",
     "text": [
      " * sqlite://\n",
      "Done.\n"
     ]
    },
    {
     "data": {
      "text/html": [
       "<table>\n",
       "    <tr>\n",
       "        <th>ORDER_NUM</th>\n",
       "        <th>ORDER_DATE</th>\n",
       "    </tr>\n",
       "    <tr>\n",
       "        <td>21608</td>\n",
       "        <td>20-OCT-2010</td>\n",
       "    </tr>\n",
       "</table>"
      ],
      "text/plain": [
       "[('21608', '20-OCT-2010')]"
      ]
     },
     "execution_count": 72,
     "metadata": {},
     "output_type": "execute_result"
    }
   ],
   "source": [
    "%%sql\n",
    "SELECT ORDERS.ORDER_NUM, ORDER_DATE\n",
    "FROM ORDERS, ORDER_LINE, PART\n",
    "WHERE ORDERS.ORDER_NUM = ORDER_LINE.ORDER_NUM\n",
    "AND ORDER_LINE.PART_NUM = PART.PART_NUM\n",
    "AND DESCRIPTION = 'Iron';"
   ]
  },
  {
   "cell_type": "markdown",
   "metadata": {},
   "source": [
    "D.15. List the order number and order date for each order that either was placed by Johnson’s Department Store or that contains an order line for a Gas Range."
   ]
  },
  {
   "cell_type": "code",
   "execution_count": 73,
   "metadata": {},
   "outputs": [
    {
     "name": "stdout",
     "output_type": "stream",
     "text": [
      " * sqlite://\n",
      "Done.\n"
     ]
    },
    {
     "data": {
      "text/html": [
       "<table>\n",
       "    <tr>\n",
       "        <th>ORDER_NUM</th>\n",
       "        <th>ORDER_DATE</th>\n",
       "    </tr>\n",
       "    <tr>\n",
       "        <td>21610</td>\n",
       "        <td>20-OCT-2010</td>\n",
       "    </tr>\n",
       "    <tr>\n",
       "        <td>21617</td>\n",
       "        <td>23-OCT-2010</td>\n",
       "    </tr>\n",
       "    <tr>\n",
       "        <td>21619</td>\n",
       "        <td>23-OCT-2010</td>\n",
       "    </tr>\n",
       "    <tr>\n",
       "        <td>21623</td>\n",
       "        <td>23-OCT-2010</td>\n",
       "    </tr>\n",
       "</table>"
      ],
      "text/plain": [
       "[('21610', '20-OCT-2010'),\n",
       " ('21617', '23-OCT-2010'),\n",
       " ('21619', '23-OCT-2010'),\n",
       " ('21623', '23-OCT-2010')]"
      ]
     },
     "execution_count": 73,
     "metadata": {},
     "output_type": "execute_result"
    }
   ],
   "source": [
    "%%sql\n",
    "SELECT ORDER_NUM, ORDER_DATE\n",
    "FROM CUSTOMER, ORDERS\n",
    "WHERE CUSTOMER.CUSTOMER_NUM = ORDERS.CUSTOMER_NUM\n",
    "AND CUSTOMER_NAME = 'Johnson''s Department Store'\n",
    "UNION\n",
    "SELECT ORDERS.ORDER_NUM, ORDER_DATE\n",
    "FROM ORDERS, ORDER_LINE, PART\n",
    "WHERE ORDERS.ORDER_NUM = ORDER_LINE.ORDER_NUM\n",
    "AND ORDER_LINE.PART_NUM = PART.PART_NUM\n",
    "AND DESCRIPTION = 'Gas Range';"
   ]
  },
  {
   "cell_type": "markdown",
   "metadata": {},
   "source": [
    "D.16. List the order number and order date for each order that was placed by Johnson’s Department Store and that contains an order line for a Gas Range."
   ]
  },
  {
   "cell_type": "code",
   "execution_count": 74,
   "metadata": {},
   "outputs": [
    {
     "name": "stdout",
     "output_type": "stream",
     "text": [
      " * sqlite://\n",
      "Done.\n"
     ]
    },
    {
     "data": {
      "text/html": [
       "<table>\n",
       "    <tr>\n",
       "        <th>ORDER_NUM</th>\n",
       "        <th>ORDER_DATE</th>\n",
       "    </tr>\n",
       "</table>"
      ],
      "text/plain": [
       "[]"
      ]
     },
     "execution_count": 74,
     "metadata": {},
     "output_type": "execute_result"
    }
   ],
   "source": [
    "%%sql\n",
    "SELECT ORDER_NUM, ORDER_DATE\n",
    "FROM CUSTOMER, ORDERS\n",
    "WHERE CUSTOMER.CUSTOMER_NUM = ORDERS.CUSTOMER_NUM\n",
    "AND CUSTOMER_NAME = 'Johnson''s Department Store'\n",
    "AND ORDER_NUM IN\n",
    "(SELECT ORDER_NUM\n",
    "FROM ORDER_LINE, PART\n",
    "WHERE ORDER_LINE.PART_NUM = PART.PART_NUM\n",
    "AND DESCRIPTION = 'Gas Range');"
   ]
  },
  {
   "cell_type": "markdown",
   "metadata": {},
   "source": [
    "D.17. List the order number and order date for each order that was placed by Johnson’s Department Store but that does not contain an order line for a Gas Range."
   ]
  },
  {
   "cell_type": "code",
   "execution_count": 75,
   "metadata": {},
   "outputs": [
    {
     "name": "stdout",
     "output_type": "stream",
     "text": [
      " * sqlite://\n",
      "Done.\n"
     ]
    },
    {
     "data": {
      "text/html": [
       "<table>\n",
       "    <tr>\n",
       "        <th>ORDER_NUM</th>\n",
       "        <th>ORDER_DATE</th>\n",
       "    </tr>\n",
       "    <tr>\n",
       "        <td>21617</td>\n",
       "        <td>23-OCT-2010</td>\n",
       "    </tr>\n",
       "    <tr>\n",
       "        <td>21623</td>\n",
       "        <td>23-OCT-2010</td>\n",
       "    </tr>\n",
       "</table>"
      ],
      "text/plain": [
       "[('21617', '23-OCT-2010'), ('21623', '23-OCT-2010')]"
      ]
     },
     "execution_count": 75,
     "metadata": {},
     "output_type": "execute_result"
    }
   ],
   "source": [
    "%%sql\n",
    "SELECT ORDER_NUM, ORDER_DATE\n",
    "FROM CUSTOMER, ORDERS\n",
    "WHERE CUSTOMER.CUSTOMER_NUM = ORDERS.CUSTOMER_NUM\n",
    "AND CUSTOMER_NAME = 'Johnson''s Department Store'\n",
    "AND ORDER_NUM NOT IN\n",
    "(SELECT ORDER_NUM\n",
    "FROM ORDER_LINE, PART\n",
    "WHERE ORDER_LINE.PART_NUM = PART.PART_NUM\n",
    "AND DESCRIPTION = 'Gas Range');"
   ]
  },
  {
   "cell_type": "markdown",
   "metadata": {},
   "source": [
    "D.18. For each part, list the part number, description, units on hand, order number, and number of units ordered. All parts should be included in the results. For those parts that are currently not on order, the order number and number of units ordered should be left blank (None/NULL/NA). Order the results by part number."
   ]
  },
  {
   "cell_type": "code",
   "execution_count": 76,
   "metadata": {},
   "outputs": [
    {
     "name": "stdout",
     "output_type": "stream",
     "text": [
      " * sqlite://\n",
      "Done.\n"
     ]
    },
    {
     "data": {
      "text/html": [
       "<table>\n",
       "    <tr>\n",
       "        <th>PART_NUM</th>\n",
       "        <th>DESCRIPTION</th>\n",
       "        <th>ON_HAND</th>\n",
       "        <th>ORDER_NUM</th>\n",
       "        <th>NUM_ORDERED</th>\n",
       "    </tr>\n",
       "    <tr>\n",
       "        <td>AT94</td>\n",
       "        <td>Iron</td>\n",
       "        <td>50</td>\n",
       "        <td>21608</td>\n",
       "        <td>11</td>\n",
       "    </tr>\n",
       "    <tr>\n",
       "        <td>BV06</td>\n",
       "        <td>Home Gym</td>\n",
       "        <td>45</td>\n",
       "        <td>21617</td>\n",
       "        <td>2</td>\n",
       "    </tr>\n",
       "    <tr>\n",
       "        <td>CD52</td>\n",
       "        <td>Microwave Oven</td>\n",
       "        <td>32</td>\n",
       "        <td>21617</td>\n",
       "        <td>4</td>\n",
       "    </tr>\n",
       "    <tr>\n",
       "        <td>DL71</td>\n",
       "        <td>Cordless Drill</td>\n",
       "        <td>21</td>\n",
       "        <td>None</td>\n",
       "        <td>None</td>\n",
       "    </tr>\n",
       "    <tr>\n",
       "        <td>DR93</td>\n",
       "        <td>Gas Range</td>\n",
       "        <td>8</td>\n",
       "        <td>21610</td>\n",
       "        <td>1</td>\n",
       "    </tr>\n",
       "    <tr>\n",
       "        <td>DR93</td>\n",
       "        <td>Gas Range</td>\n",
       "        <td>8</td>\n",
       "        <td>21619</td>\n",
       "        <td>1</td>\n",
       "    </tr>\n",
       "    <tr>\n",
       "        <td>DW11</td>\n",
       "        <td>Washer</td>\n",
       "        <td>12</td>\n",
       "        <td>21610</td>\n",
       "        <td>1</td>\n",
       "    </tr>\n",
       "    <tr>\n",
       "        <td>FD21</td>\n",
       "        <td>Stand Mixer</td>\n",
       "        <td>22</td>\n",
       "        <td>None</td>\n",
       "        <td>None</td>\n",
       "    </tr>\n",
       "    <tr>\n",
       "        <td>KL62</td>\n",
       "        <td>Dryer</td>\n",
       "        <td>12</td>\n",
       "        <td>21613</td>\n",
       "        <td>4</td>\n",
       "    </tr>\n",
       "    <tr>\n",
       "        <td>KT03</td>\n",
       "        <td>Dishwasher</td>\n",
       "        <td>8</td>\n",
       "        <td>21614</td>\n",
       "        <td>2</td>\n",
       "    </tr>\n",
       "    <tr>\n",
       "        <td>KV29</td>\n",
       "        <td>Treadmill</td>\n",
       "        <td>9</td>\n",
       "        <td>21623</td>\n",
       "        <td>2</td>\n",
       "    </tr>\n",
       "</table>"
      ],
      "text/plain": [
       "[('AT94', 'Iron', 50, '21608', 11),\n",
       " ('BV06', 'Home Gym', 45, '21617', 2),\n",
       " ('CD52', 'Microwave Oven', 32, '21617', 4),\n",
       " ('DL71', 'Cordless Drill', 21, None, None),\n",
       " ('DR93', 'Gas Range', 8, '21610', 1),\n",
       " ('DR93', 'Gas Range', 8, '21619', 1),\n",
       " ('DW11', 'Washer', 12, '21610', 1),\n",
       " ('FD21', 'Stand Mixer', 22, None, None),\n",
       " ('KL62', 'Dryer', 12, '21613', 4),\n",
       " ('KT03', 'Dishwasher', 8, '21614', 2),\n",
       " ('KV29', 'Treadmill', 9, '21623', 2)]"
      ]
     },
     "execution_count": 76,
     "metadata": {},
     "output_type": "execute_result"
    }
   ],
   "source": [
    "%%sql\n",
    "SELECT PART.PART_NUM, DESCRIPTION, ON_HAND, ORDER_NUM, NUM_ORDERED\n",
    "FROM PART\n",
    "LEFT JOIN ORDER_LINE\n",
    "ON PART.PART_NUM = ORDER_LINE.PART_NUM\n",
    "ORDER BY PART.PART_NUM;"
   ]
  },
  {
   "cell_type": "markdown",
   "metadata": {},
   "source": [
    "THE END."
   ]
  },
  {
   "cell_type": "code",
   "execution_count": null,
   "metadata": {},
   "outputs": [],
   "source": []
  }
 ],
 "metadata": {
  "kernelspec": {
   "display_name": "Python 3",
   "language": "python",
   "name": "python3"
  },
  "language_info": {
   "codemirror_mode": {
    "name": "ipython",
    "version": 3
   },
   "file_extension": ".py",
   "mimetype": "text/x-python",
   "name": "python",
   "nbconvert_exporter": "python",
   "pygments_lexer": "ipython3",
   "version": "3.8.5"
  }
 },
 "nbformat": 4,
 "nbformat_minor": 2
}
