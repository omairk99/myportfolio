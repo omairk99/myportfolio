{
 "cells": [
  {
   "cell_type": "code",
   "execution_count": 1,
   "metadata": {},
   "outputs": [],
   "source": [
    "# loading packages\n",
    "\n",
    "import os\n",
    "\n",
    "import pandas as pd\n",
    "import numpy as np\n",
    "\n",
    "# plotting packages\n",
    "%matplotlib inline\n",
    "from mpl_toolkits.mplot3d import Axes3D\n",
    "import matplotlib.pyplot as plt\n",
    "import matplotlib.cm as cm\n",
    "import matplotlib.colors as clrs\n",
    "\n",
    "# Kmeans algorithm from scikit-learn\n",
    "from sklearn.cluster import KMeans\n",
    "from sklearn.metrics import silhouette_samples, silhouette_score\n"
   ]
  },
  {
   "cell_type": "markdown",
   "metadata": {},
   "source": [
    "## Load raw data"
   ]
  },
  {
   "cell_type": "code",
   "execution_count": 2,
   "metadata": {},
   "outputs": [
    {
     "name": "stdout",
     "output_type": "stream",
     "text": [
      "Size of the dataset (row, col):  (121, 6)\n",
      "\n",
      "First 5 rows\n",
      "      Country Abbrev  Corruption  Peace  Legal  GDP Growth\n",
      "0    Albania     AL          35  1.821  4.546       2.983\n",
      "1    Algeria     DZ          35  2.219  4.435       2.553\n",
      "2  Argentina     AR          45  1.989  5.087      -3.061\n",
      "3    Armenia     AM          42  2.294  4.812       6.000\n",
      "4  Australia     AU          77  1.419  8.363       1.713\n"
     ]
    }
   ],
   "source": [
    "# load raw data\n",
    "DATA_FOLDER = './'\n",
    "raw = pd.read_csv(os.path.join(DATA_FOLDER, 'country risk 2019 data.csv'))\n",
    "\n",
    "# check the raw data\n",
    "print(\"Size of the dataset (row, col): \", raw.shape)\n",
    "print(\"\\nFirst 5 rows\\n\", raw.head(n=5))"
   ]
  },
  {
   "cell_type": "markdown",
   "metadata": {},
   "source": [
    "## Simple exploratory analysis\n",
    "### Print summary statistics\n",
    "Note that all features have quite different variances, and Corruption and Legal are highly correlated."
   ]
  },
  {
   "cell_type": "code",
   "execution_count": 3,
   "metadata": {},
   "outputs": [
    {
     "name": "stdout",
     "output_type": "stream",
     "text": [
      "\n",
      "Summary statistics\n",
      "        Corruption       Peace       Legal  GDP Growth\n",
      "count  121.000000  121.000000  121.000000  121.000000\n",
      "mean    46.842975    2.001017    5.752529    2.657529\n",
      "std     18.702499    0.461485    1.373932    2.563741\n",
      "min     15.000000    1.072000    2.671000   -9.459000\n",
      "25%     33.000000    1.699000    4.785000    1.249000\n",
      "50%     41.000000    1.939000    5.455000    2.600000\n",
      "75%     60.000000    2.294000    6.488000    4.000000\n",
      "max     87.000000    3.369000    8.712000    7.800000\n",
      "\n",
      "Correlation matrix\n",
      "             Corruption     Peace     Legal  GDP Growth\n",
      "Corruption    1.000000 -0.705002  0.938512   -0.123545\n",
      "Peace        -0.705002  1.000000 -0.662233   -0.004428\n",
      "Legal         0.938512 -0.662233  1.000000   -0.150369\n",
      "GDP Growth   -0.123545 -0.004428 -0.150369    1.000000\n"
     ]
    }
   ],
   "source": [
    "# print summary statistics\n",
    "print(\"\\nSummary statistics\\n\", raw.describe())\n",
    "print(\"\\nCorrelation matrix\\n\", raw.corr())"
   ]
  },
  {
   "cell_type": "markdown",
   "metadata": {},
   "source": [
    "### Plot histogram\n",
    "\n",
    "Note that distributions for GDP Growth is quite skewed."
   ]
  },
  {
   "cell_type": "code",
   "execution_count": 4,
   "metadata": {},
   "outputs": [
    {
     "data": {
      "image/png": "[encoded data removed]",
      "text/plain": [
       "<Figure size 432x288 with 1 Axes>"
      ]
     },
     "metadata": {
      "needs_background": "light"
     },
     "output_type": "display_data"
    },
    {
     "data": {
      "image/png": "[encoded data removed]",
      "text/plain": [
       "<Figure size 432x288 with 1 Axes>"
      ]
     },
     "metadata": {
      "needs_background": "light"
     },
     "output_type": "display_data"
    },
    {
     "data": {
      "image/png": "[encoded data removed]",
      "text/plain": [
       "<Figure size 432x288 with 1 Axes>"
      ]
     },
     "metadata": {
      "needs_background": "light"
     },
     "output_type": "display_data"
    },
    {
     "data": {
      "image/png": "[encoded data removed]",
      "text/plain": [
       "<Figure size 432x288 with 1 Axes>"
      ]
     },
     "metadata": {
      "needs_background": "light"
     },
     "output_type": "display_data"
    }
   ],
   "source": [
    "# plot histograms\n",
    "plt.figure(1)\n",
    "raw['Corruption'].plot(kind = 'hist', title = 'Corruption', alpha = 0.5)\n",
    "\n",
    "plt.figure(2)\n",
    "raw['Peace'].plot(kind = 'hist', title = 'Peace', alpha = 0.5)\n",
    "\n",
    "plt.figure(3)\n",
    "raw['Legal'].plot(kind = 'hist', title = 'Legal', alpha = 0.5)\n",
    "\n",
    "plt.figure(4)\n",
    "raw['GDP Growth'].plot(kind = 'hist', title = 'GDP Growth', alpha = 0.5)\n",
    "\n",
    "plt.show()"
   ]
  },
  {
   "cell_type": "markdown",
   "metadata": {},
   "source": [
    "## K means cluster\n",
    "### Pick features & normalization\n",
    "\n",
    "Since Corruption and Legal are highly correlated, we drop the Courrption variable, i.e., we pick three features for this analysis, Peace, Legal and GDP Grwoth. Let's normalize all the features, effectively making them equally weighted.\n",
    "\n",
    "Ref. [Feature normalization.](https://stats.stackexchange.com/questions/21222/are-mean-normalization-and-feature-scaling-needed-for-k-means-clustering)"
   ]
  },
  {
   "cell_type": "code",
   "execution_count": 5,
   "metadata": {
    "scrolled": true
   },
   "outputs": [
    {
     "name": "stdout",
     "output_type": "stream",
     "text": [
      "      Peace     Legal  GDP Growth\n",
      "0 -0.390081 -0.878158    0.126952\n",
      "1  0.472352 -0.958948   -0.040772\n",
      "2 -0.026039 -0.484397   -2.230541\n",
      "3  0.634871 -0.684553    1.303747\n",
      "4 -1.261182  1.900001   -0.368418\n"
     ]
    }
   ],
   "source": [
    "X = raw[['Peace', 'Legal', 'GDP Growth']]\n",
    "X = (X - X.mean()) / X.std()\n",
    "print(X.head(5))"
   ]
  },
  {
   "cell_type": "code",
   "execution_count": 6,
   "metadata": {},
   "outputs": [
    {
     "name": "stdout",
     "output_type": "stream",
     "text": [
      "      Peace     Legal  GDP Growth  Corruption\n",
      "0 -0.390081 -0.878158    0.126952   -0.633230\n",
      "1  0.472352 -0.958948   -0.040772   -0.633230\n",
      "2 -0.026039 -0.484397   -2.230541   -0.098542\n",
      "3  0.634871 -0.684553    1.303747   -0.258948\n",
      "4 -1.261182  1.900001   -0.368418    1.612460\n"
     ]
    }
   ],
   "source": [
    "X2 = raw[['Peace', 'Legal', 'GDP Growth', 'Corruption']]\n",
    "X2 = (X2 - X2.mean()) / X2.std()\n",
    "print(X2.head(5))"
   ]
  },
  {
   "cell_type": "markdown",
   "metadata": {},
   "source": [
    "### Perform elbow method\n",
    "\n",
    "The marginal gain of adding one cluster dropped quite a bit from k=3 to k=4. We will choose k=3 (not a clear cut though).\n",
    "\n",
    "Ref. [Determining the number of clusters in a dataset.](https://en.wikipedia.org/wiki/Determining_the_number_of_clusters_in_a_data_set)"
   ]
  },
  {
   "cell_type": "code",
   "execution_count": 7,
   "metadata": {},
   "outputs": [
    {
     "name": "stderr",
     "output_type": "stream",
     "text": [
      "C:\\Users\\xomai\\anaconda3\\lib\\site-packages\\sklearn\\cluster\\_kmeans.py:1036: UserWarning: KMeans is known to have a memory leak on Windows with MKL, when there are less chunks than available threads. You can avoid it by setting the environment variable OMP_NUM_THREADS=1.\n",
      "  warnings.warn(\n"
     ]
    },
    {
     "data": {
      "image/png": "[encoded data removed]",
      "text/plain": [
       "<Figure size 432x288 with 1 Axes>"
      ]
     },
     "metadata": {
      "needs_background": "light"
     },
     "output_type": "display_data"
    }
   ],
   "source": [
    "\n",
    "Ks = range(1, 10)\n",
    "inertia = [KMeans(i).fit(X2).inertia_ for i in Ks]\n",
    "\n",
    "fig = plt.figure()\n",
    "plt.plot(Ks, inertia, '-bo')\n",
    "plt.xlabel('Number of clusters')\n",
    "plt.ylabel('Inertia (within-cluster sum of squares)')\n",
    "plt.show()"
   ]
  },
  {
   "cell_type": "code",
   "execution_count": 8,
   "metadata": {},
   "outputs": [
    {
     "name": "stderr",
     "output_type": "stream",
     "text": [
      "C:\\Users\\xomai\\anaconda3\\lib\\site-packages\\sklearn\\cluster\\_kmeans.py:1036: UserWarning: KMeans is known to have a memory leak on Windows with MKL, when there are less chunks than available threads. You can avoid it by setting the environment variable OMP_NUM_THREADS=1.\n",
      "  warnings.warn(\n"
     ]
    },
    {
     "data": {
      "image/png": "[encoded data removed]",
      "text/plain": [
       "<Figure size 432x288 with 1 Axes>"
      ]
     },
     "metadata": {
      "needs_background": "light"
     },
     "output_type": "display_data"
    }
   ],
   "source": [
    "# https://stackoverflow.com/questions/41540751/sklearn-kmeans-equivalent-of-elbow-method\n",
    "\n",
    "Ks = range(1, 10)\n",
    "inertia = [KMeans(i).fit(X).inertia_ for i in Ks]\n",
    "\n",
    "fig = plt.figure()\n",
    "plt.plot(Ks, inertia, '-bo')\n",
    "plt.xlabel('Number of clusters')\n",
    "plt.ylabel('Inertia (within-cluster sum of squares)')\n",
    "plt.show()"
   ]
  },
  {
   "cell_type": "markdown",
   "metadata": {},
   "source": [
    "### K means with k=3"
   ]
  },
  {
   "cell_type": "code",
   "execution_count": 62,
   "metadata": {
    "scrolled": true
   },
   "outputs": [
    {
     "name": "stdout",
     "output_type": "stream",
     "text": [
      "inertia for k=3 is 161.1333871005255\n",
      "cluster centers:  [[ 1.22506036 -0.83385901 -1.07842464]\n",
      " [-0.85097477  1.02149992 -0.23897931]\n",
      " [ 0.23006626 -0.54045468  0.65506397]]\n",
      "cluster labels:  [2 2 0 2 1 1 2 2 2 1 2 2 2 1 0 2 0 2 1 0 1 2 2 1 2 1 1 0 1 2 0 2 2 1 2 1 1\n",
      " 2 2 1 2 2 2 2 1 1 2 2 0 1 2 1 1 1 1 2 2 1 1 1 0 0 1 2 2 1 2 2 1 0 2 2 2 2\n",
      " 2 1 1 0 0 1 1 0 2 0 2 2 1 1 1 1 0 2 0 2 2 2 1 1 1 0 1 2 1 1 1 2 2 2 0 2 0\n",
      " 2 0 1 1 1 1 2 0 2 0]\n"
     ]
    }
   ],
   "source": [
    "k = 3\n",
    "kmeans = KMeans(n_clusters=k, random_state=1)\n",
    "kmeans.fit(X)\n",
    "\n",
    "# print inertia & cluster center\n",
    "print(\"inertia for k=3 is\", kmeans.inertia_)\n",
    "print(\"cluster centers: \", kmeans.cluster_centers_)\n",
    "\n",
    "# take a quick look at the result\n",
    "y = kmeans.labels_\n",
    "print(\"cluster labels: \", y)"
   ]
  },
  {
   "cell_type": "code",
   "execution_count": 64,
   "metadata": {},
   "outputs": [
    {
     "name": "stdout",
     "output_type": "stream",
     "text": [
      "[0 1 2]\n",
      "[22 46 53]\n"
     ]
    }
   ],
   "source": [
    "unique, frequency = np.unique(y, \n",
    "                              return_counts = True)\n",
    "print(unique)\n",
    "print(frequency)"
   ]
  },
  {
   "cell_type": "markdown",
   "metadata": {},
   "source": [
    "### Visualize the result (3D plot)"
   ]
  },
  {
   "cell_type": "code",
   "execution_count": 10,
   "metadata": {},
   "outputs": [
    {
     "data": {
      "image/png": "[encoded data removed]",
      "text/plain": [
       "<Figure size 432x288 with 1 Axes>"
      ]
     },
     "metadata": {
      "needs_background": "light"
     },
     "output_type": "display_data"
    }
   ],
   "source": [
    "# set up the color\n",
    "norm = clrs.Normalize(vmin=0.,vmax=y.max() + 0.8)\n",
    "cmap = cm.viridis\n",
    "\n",
    "fig = plt.figure()\n",
    "ax = fig.add_subplot(111, projection='3d')\n",
    "\n",
    "ax.scatter(X.iloc[:,0], X.iloc[:,1], X.iloc[:,2], c=cmap(norm(y)), marker='o')\n",
    "\n",
    "centers = kmeans.cluster_centers_\n",
    "ax.scatter(centers[:, 0], centers[:, 1], c='black', s=100, alpha=0.5)\n",
    "\n",
    "ax.set_xlabel('Peace')\n",
    "ax.set_ylabel('Legal')\n",
    "ax.set_zlabel('GDP Growth')\n",
    "\n",
    "plt.show()"
   ]
  },
  {
   "cell_type": "markdown",
   "metadata": {},
   "source": [
    "### Visualize the result (3 2D plots)"
   ]
  },
  {
   "cell_type": "code",
   "execution_count": 11,
   "metadata": {},
   "outputs": [
    {
     "data": {
      "image/png": "[encoded data removed]",
      "text/plain": [
       "<Figure size 432x288 with 1 Axes>"
      ]
     },
     "metadata": {
      "needs_background": "light"
     },
     "output_type": "display_data"
    },
    {
     "data": {
      "image/png": "[encoded data removed]",
      "text/plain": [
       "<Figure size 432x288 with 1 Axes>"
      ]
     },
     "metadata": {
      "needs_background": "light"
     },
     "output_type": "display_data"
    },
    {
     "data": {
      "image/png": "[encoded data removed]",
      "text/plain": [
       "<Figure size 432x288 with 1 Axes>"
      ]
     },
     "metadata": {
      "needs_background": "light"
     },
     "output_type": "display_data"
    }
   ],
   "source": [
    "%matplotlib inline\n",
    "import matplotlib.pyplot as plt\n",
    "\n",
    "figs = [(0, 1), (0, 2), (1, 2)]\n",
    "labels = ['Peace', 'Legal', 'GDP Growth']\n",
    "\n",
    "for i in range(3):\n",
    "    fig = plt.figure(i)\n",
    "    plt.scatter(X.iloc[:,figs[i][0]], X.iloc[:,figs[i][1]], c=cmap(norm(y)), s=50)\n",
    "    plt.scatter(centers[:, figs[i][0]], centers[:, figs[i][1]], c='black', s=200, alpha=0.5)\n",
    "    plt.xlabel(labels[figs[i][0]])\n",
    "    plt.ylabel(labels[figs[i][1]])\n",
    "\n",
    "plt.show()"
   ]
  },
  {
   "cell_type": "markdown",
   "metadata": {},
   "source": [
    "### Visualize the result (3 2D plots)\n",
    "plot country abbreviations instead of dots."
   ]
  },
  {
   "cell_type": "code",
   "execution_count": 12,
   "metadata": {},
   "outputs": [
    {
     "data": {
      "image/png": "[encoded data removed]",
      "text/plain": [
       "<Figure size 576x576 with 1 Axes>"
      ]
     },
     "metadata": {
      "needs_background": "light"
     },
     "output_type": "display_data"
    },
    {
     "data": {
      "image/png": "[encoded data removed]",
      "text/plain": [
       "<Figure size 576x576 with 1 Axes>"
      ]
     },
     "metadata": {
      "needs_background": "light"
     },
     "output_type": "display_data"
    },
    {
     "data": {
      "image/png": "[encoded data removed]",
      "text/plain": [
       "<Figure size 576x576 with 1 Axes>"
      ]
     },
     "metadata": {
      "needs_background": "light"
     },
     "output_type": "display_data"
    }
   ],
   "source": [
    "%matplotlib inline\n",
    "import matplotlib.pyplot as plt\n",
    "\n",
    "figs = [(0, 1), (0, 2), (1, 2)]\n",
    "labels = ['Peace', 'Legal', 'GDP Growth']\n",
    "colors = ['blue','green', 'red']\n",
    "\n",
    "for i in range(3):\n",
    "    fig = plt.figure(i, figsize=(8, 8))\n",
    "    x_1 = figs[i][0]\n",
    "    x_2 = figs[i][1]\n",
    "    plt.scatter(X.iloc[:, x_1], X.iloc[:, x_2], c=y, s=0, alpha=0)\n",
    "    plt.scatter(centers[:, x_1], centers[:, x_2], c='black', s=200, alpha=0.5)\n",
    "    for j in range(X.shape[0]):\n",
    "        plt.text(X.iloc[j, x_1], X.iloc[j, x_2], raw['Abbrev'].iloc[j], \n",
    "                 color=colors[y[j]], weight='semibold', horizontalalignment = 'center', verticalalignment = 'center')\n",
    "    plt.xlabel(labels[x_1])\n",
    "    plt.ylabel(labels[x_2])\n",
    "\n",
    "plt.show()"
   ]
  },
  {
   "cell_type": "markdown",
   "metadata": {},
   "source": [
    "### List the result"
   ]
  },
  {
   "cell_type": "code",
   "execution_count": 13,
   "metadata": {},
   "outputs": [
    {
     "name": "stdout",
     "output_type": "stream",
     "text": [
      "                          Country Abbrev  Label\n",
      "60                        Lebanon     LB      0\n",
      "30                        Ecuador     EC      0\n",
      "48                           Iran     IR      0\n",
      "61                        Liberia     LR      0\n",
      "69                         Mexico     MX      0\n",
      "77                      Nicaragua     NI      0\n",
      "78                        Nigeria     NG      0\n",
      "81                       Pakistan     PK      0\n",
      "83                       Paraguay     PY      0\n",
      "90                         Russia     RU      0\n",
      "92                   Saudi Arabia     SA      0\n",
      "99                   South Africa     ZA      0\n",
      "108           Trinidad and Tobago     TT      0\n",
      "110                        Turkey     TR      0\n",
      "112                       Ukraine     UA      0\n",
      "118                         Yemen     YE      0\n",
      "27   Democratic Republic of Congo     CD      0\n",
      "19                           Chad     TD      0\n",
      "120                      Zimbabwe     ZW      0\n",
      "14                         Brazil     BR      0\n",
      "16                        Burundi     BI      0\n",
      "2                       Argentina     AR      0\n",
      "51                          Italy     IT      1\n",
      "103                   Switzerland     CH      1\n",
      "49                        Ireland     IE      1\n",
      "102                        Sweden     SE      1\n",
      "86                         Poland     PL      1\n",
      "52                        Jamaica     JM      1\n",
      "53                          Japan     JP      1\n",
      "54                         Jordan     JO      1\n",
      "100                         Spain     ES      1\n",
      "57                  Korea (South)     KI      1\n",
      "58                         Kuwait     KW      1\n",
      "59                         Latvia     LV      1\n",
      "5                         Austria     AT      1\n",
      "13                       Botswana     BW      1\n",
      "62                      Lithuania     LT      1\n",
      "98                       Slovenia     SI      1\n",
      "97                       Slovakia     SK      1\n",
      "65                       Malaysia     MY      1\n",
      "96                      Singapore     SG      1\n",
      "68                      Mauritius     MU      1\n",
      "104                        Taiwan     SY      1\n",
      "45                        Iceland     IS      1\n",
      "44                        Hungary     HU      1\n",
      "75                    Netherlands     NL      1\n",
      "20                          Chile     CL      1\n",
      "87                       Portugal     PT      1\n",
      "9                         Belgium     BE      1\n",
      "23                     Costa Rica     CR      1\n",
      "116                       Uruguay     UY      1\n",
      "25                         Cyprus     CY      1\n",
      "26                 Czech Republic     CZ      1\n",
      "28                        Denmark     DK      1\n",
      "115                 United States     US      1\n",
      "114                United Kingdom     GB      1\n",
      "18                         Canada     CA      1\n",
      "113          United Arab Emirates     AE      1\n",
      "80                           Oman     OM      1\n",
      "35                        Finland     FI      1\n",
      "36                         France     FR      1\n",
      "79                         Norway     NO      1\n",
      "88                          Qatar     QA      1\n",
      "39                        Germany     DE      1\n",
      "4                       Australia     AU      1\n",
      "89                        Romania     RO      1\n",
      "76                    New Zealand     NZ      1\n",
      "33                        Estonia     EE      1\n",
      "7                         Bahrain     BH      2\n",
      "91                         Rwanda     RW      2\n",
      "6                      Azerbaijan     AZ      2\n",
      "17                       Cameroon     CM      2\n",
      "94                         Serbia     RS      2\n",
      "95                   Sierra Leone     SL      2\n",
      "101                     Sri Lanka     LK      2\n",
      "105                      Tanzania     TZ      2\n",
      "106                      Thailand     TH      2\n",
      "107          The FYR of Macedonia     MK      2\n",
      "109                       Tunisia     TN      2\n",
      "3                         Armenia     AM      2\n",
      "111                        Uganda     UG      2\n",
      "117                       Vietnam     VI      2\n",
      "1                         Algeria     DZ      2\n",
      "93                        Senegal     SN      2\n",
      "85                    Philippines     PH      2\n",
      "12         Bosnia and Herzegovina     BA      2\n",
      "8                      Bangladesh     BD      2\n",
      "43                       Honduras     HN      2\n",
      "42                      Guatemala     GT      2\n",
      "41                         Greece     GR      2\n",
      "40                          Ghana     GH      2\n",
      "38                        Georgia     GE      2\n",
      "37                          Gabon     GA      2\n",
      "46                          India     IN      2\n",
      "34                       Ethiopia     ET      2\n",
      "31                          Egypt     EG      2\n",
      "15                       Bulgaria     BG      2\n",
      "29             Dominican Republic     DO      2\n",
      "24                        Croatia     HR      2\n",
      "22                       Colombia     CO      2\n",
      "21                          China     CN      2\n",
      "32                    El Salvador     SV      2\n",
      "84                           Peru     PE      2\n",
      "47                      Indonesia     ID      2\n",
      "55                     Kazakhstan     KZ      2\n",
      "82                         Panama     PA      2\n",
      "10                          Benin     BJ      2\n",
      "11                        Bolivia     BO      2\n",
      "74                          Nepal     NP      2\n",
      "73                     Mozambique     MZ      2\n",
      "72                        Morocco     MA      2\n",
      "50                         Israel     IL      2\n",
      "71                     Montenegro     ME      2\n",
      "67                     Mauritania     MR      2\n",
      "66                           Mali     ML      2\n",
      "64                         Malawi     MW      2\n",
      "63                     Madagascar     MG      2\n",
      "119                        Zambia     ZM      2\n",
      "56                          Kenya     KE      2\n",
      "70                        Moldova     FM      2\n",
      "0                         Albania     AL      2\n"
     ]
    }
   ],
   "source": [
    "result = pd.DataFrame({'Country':raw['Country'], 'Abbrev':raw['Abbrev'], 'Label':y})\n",
    "with pd.option_context('display.max_rows', None, 'display.max_columns', 3):\n",
    "    print(result.sort_values('Label'))\n"
   ]
  },
  {
   "cell_type": "code",
   "execution_count": 14,
   "metadata": {},
   "outputs": [
    {
     "name": "stdout",
     "output_type": "stream",
     "text": [
      "For n_clusters= 2 The average silhouette_score is : 0.3509139523852161\n",
      "For n_clusters= 3 The average silhouette_score is : 0.3558522334350506\n",
      "For n_clusters= 4 The average silhouette_score is : 0.3372449209416129\n",
      "For n_clusters= 5 The average silhouette_score is : 0.34438420977393375\n",
      "For n_clusters= 6 The average silhouette_score is : 0.34875382122984605\n",
      "For n_clusters= 7 The average silhouette_score is : 0.3603542108728006\n",
      "For n_clusters= 8 The average silhouette_score is : 0.3394917368960437\n",
      "For n_clusters= 9 The average silhouette_score is : 0.3152647236003266\n",
      "For n_clusters= 10 The average silhouette_score is : 0.3090796538425007\n"
     ]
    }
   ],
   "source": [
    "# Silhouette Analysis\n",
    "range_n_clusters=[2,3,4,5,6,7,8,9,10]\n",
    "for n_clusters in range_n_clusters:\n",
    "    clusterer=KMeans(n_clusters=n_clusters, random_state=1)\n",
    "    cluster_labels=clusterer.fit_predict(X)\n",
    "    silhouette_avg=silhouette_score(X,cluster_labels)\n",
    "    print(\"For n_clusters=\", n_clusters,\n",
    "          \"The average silhouette_score is :\", silhouette_avg)"
   ]
  },
  {
   "cell_type": "markdown",
   "metadata": {},
   "source": [
    "# B"
   ]
  },
  {
   "cell_type": "code",
   "execution_count": 52,
   "metadata": {},
   "outputs": [
    {
     "name": "stdout",
     "output_type": "stream",
     "text": [
      "inertia for k=3 is 169.2424290863102\n",
      "cluster centers:  [[ 0.53110654 -0.61456608  0.34774502]\n",
      " [-0.85103491  0.99692377 -0.22524313]\n",
      " [ 0.70529573 -0.95894794 -3.43893096]]\n",
      "cluster labels:  [0 0 2 0 1 1 0 0 0 1 0 0 0 1 0 1 0 0 1 0 1 0 0 1 0 1 1 0 1 0 0 0 0 1 0 1 1\n",
      " 0 0 1 0 0 0 0 1 1 0 0 2 1 0 1 1 1 1 0 0 1 1 1 0 0 1 0 0 1 0 0 1 0 0 0 0 0\n",
      " 0 1 1 2 0 1 1 0 0 0 0 0 1 1 1 1 0 0 0 0 0 0 1 1 1 0 1 0 1 1 1 0 0 0 0 0 0\n",
      " 0 0 1 1 1 1 0 0 0 2]\n"
     ]
    }
   ],
   "source": [
    "k = 3\n",
    "kmeans = KMeans(n_clusters=k, random_state=1, n_init= 2)\n",
    "kmeans.fit(X)\n",
    "\n",
    "# print inertia & cluster center\n",
    "print(\"inertia for k=3 is\", kmeans.inertia_)\n",
    "print(\"cluster centers: \", kmeans.cluster_centers_)\n",
    "\n",
    "# take a quick look at the result\n",
    "y = kmeans.labels_\n",
    "print(\"cluster labels: \", y)"
   ]
  },
  {
   "cell_type": "code",
   "execution_count": 53,
   "metadata": {},
   "outputs": [
    {
     "name": "stdout",
     "output_type": "stream",
     "text": [
      "[0 1 2]\n",
      "[70 47  4]\n"
     ]
    }
   ],
   "source": [
    "unique, frequency = np.unique(y, \n",
    "                              return_counts = True)\n",
    "print(unique)\n",
    "print(frequency)"
   ]
  },
  {
   "cell_type": "code",
   "execution_count": 16,
   "metadata": {},
   "outputs": [
    {
     "name": "stdout",
     "output_type": "stream",
     "text": [
      "                          Country Abbrev  Label\n",
      "0                         Albania     AL      0\n",
      "81                       Pakistan     PK      0\n",
      "78                        Nigeria     NG      0\n",
      "74                          Nepal     NP      0\n",
      "73                     Mozambique     MZ      0\n",
      "72                        Morocco     MA      0\n",
      "71                     Montenegro     ME      0\n",
      "70                        Moldova     FM      0\n",
      "69                         Mexico     MX      0\n",
      "82                         Panama     PA      0\n",
      "67                     Mauritania     MR      0\n",
      "64                         Malawi     MW      0\n",
      "63                     Madagascar     MG      0\n",
      "61                        Liberia     LR      0\n",
      "119                        Zambia     ZM      0\n",
      "56                          Kenya     KE      0\n",
      "55                     Kazakhstan     KZ      0\n",
      "50                         Israel     IL      0\n",
      "47                      Indonesia     ID      0\n",
      "66                           Mali     ML      0\n",
      "46                          India     IN      0\n",
      "83                       Paraguay     PY      0\n",
      "85                    Philippines     PH      0\n",
      "118                         Yemen     YE      0\n",
      "117                       Vietnam     VI      0\n",
      "112                       Ukraine     UA      0\n",
      "111                        Uganda     UG      0\n",
      "110                        Turkey     TR      0\n",
      "109                       Tunisia     TN      0\n",
      "108           Trinidad and Tobago     TT      0\n",
      "107          The FYR of Macedonia     MK      0\n",
      "84                           Peru     PE      0\n",
      "106                      Thailand     TH      0\n",
      "101                     Sri Lanka     LK      0\n",
      "99                   South Africa     ZA      0\n",
      "95                   Sierra Leone     SL      0\n",
      "94                         Serbia     RS      0\n",
      "93                        Senegal     SN      0\n",
      "92                   Saudi Arabia     SA      0\n",
      "91                         Rwanda     RW      0\n",
      "90                         Russia     RU      0\n",
      "105                      Tanzania     TZ      0\n",
      "43                       Honduras     HN      0\n",
      "60                        Lebanon     LB      0\n",
      "22                       Colombia     CO      0\n",
      "29             Dominican Republic     DO      0\n",
      "30                        Ecuador     EC      0\n",
      "11                        Bolivia     BO      0\n",
      "31                          Egypt     EG      0\n",
      "32                    El Salvador     SV      0\n",
      "34                       Ethiopia     ET      0\n",
      "24                        Croatia     HR      0\n",
      "10                          Benin     BJ      0\n",
      "14                         Brazil     BR      0\n",
      "8                      Bangladesh     BD      0\n",
      "27   Democratic Republic of Congo     CD      0\n",
      "6                      Azerbaijan     AZ      0\n",
      "7                         Bahrain     BH      0\n",
      "38                        Georgia     GE      0\n",
      "16                        Burundi     BI      0\n",
      "3                         Armenia     AM      0\n",
      "42                      Guatemala     GT      0\n",
      "21                          China     CN      0\n",
      "17                       Cameroon     CM      0\n",
      "19                           Chad     TD      0\n",
      "40                          Ghana     GH      0\n",
      "41                         Greece     GR      0\n",
      "1                         Algeria     DZ      0\n",
      "37                          Gabon     GA      0\n",
      "12         Bosnia and Herzegovina     BA      0\n",
      "15                       Bulgaria     BG      1\n",
      "13                       Botswana     BW      1\n",
      "96                      Singapore     SG      1\n",
      "97                       Slovakia     SK      1\n",
      "102                        Sweden     SE      1\n",
      "100                         Spain     ES      1\n",
      "18                         Canada     CA      1\n",
      "103                   Switzerland     CH      1\n",
      "104                        Taiwan     SY      1\n",
      "9                         Belgium     BE      1\n",
      "5                         Austria     AT      1\n",
      "4                       Australia     AU      1\n",
      "113          United Arab Emirates     AE      1\n",
      "114                United Kingdom     GB      1\n",
      "115                 United States     US      1\n",
      "116                       Uruguay     UY      1\n",
      "98                       Slovenia     SI      1\n",
      "89                        Romania     RO      1\n",
      "44                        Hungary     HU      1\n",
      "87                       Portugal     PT      1\n",
      "45                        Iceland     IS      1\n",
      "49                        Ireland     IE      1\n",
      "39                        Germany     DE      1\n",
      "51                          Italy     IT      1\n",
      "52                        Jamaica     JM      1\n",
      "53                          Japan     JP      1\n",
      "54                         Jordan     JO      1\n",
      "57                  Korea (South)     KI      1\n",
      "58                         Kuwait     KW      1\n",
      "59                         Latvia     LV      1\n",
      "36                         France     FR      1\n",
      "35                        Finland     FI      1\n",
      "88                          Qatar     QA      1\n",
      "62                      Lithuania     LT      1\n",
      "65                       Malaysia     MY      1\n",
      "86                         Poland     PL      1\n",
      "20                          Chile     CL      1\n",
      "23                     Costa Rica     CR      1\n",
      "80                           Oman     OM      1\n",
      "33                        Estonia     EE      1\n",
      "79                         Norway     NO      1\n",
      "75                    Netherlands     NL      1\n",
      "25                         Cyprus     CY      1\n",
      "26                 Czech Republic     CZ      1\n",
      "28                        Denmark     DK      1\n",
      "68                      Mauritius     MU      1\n",
      "76                    New Zealand     NZ      1\n",
      "77                      Nicaragua     NI      2\n",
      "48                           Iran     IR      2\n",
      "2                       Argentina     AR      2\n",
      "120                      Zimbabwe     ZW      2\n"
     ]
    }
   ],
   "source": [
    "result = pd.DataFrame({'Country':raw['Country'], 'Abbrev':raw['Abbrev'], 'Label':y})\n",
    "with pd.option_context('display.max_rows', None, 'display.max_columns', 3):\n",
    "    print(result.sort_values('Label'))\n"
   ]
  },
  {
   "cell_type": "code",
   "execution_count": 65,
   "metadata": {},
   "outputs": [
    {
     "name": "stdout",
     "output_type": "stream",
     "text": [
      "inertia for k=3 is 161.1333871005255\n",
      "cluster centers:  [[ 1.22506036 -0.83385901 -1.07842464]\n",
      " [-0.85097477  1.02149992 -0.23897931]\n",
      " [ 0.23006626 -0.54045468  0.65506397]]\n",
      "cluster labels:  [2 2 0 2 1 1 2 2 2 1 2 2 2 1 0 2 0 2 1 0 1 2 2 1 2 1 1 0 1 2 0 2 2 1 2 1 1\n",
      " 2 2 1 2 2 2 2 1 1 2 2 0 1 2 1 1 1 1 2 2 1 1 1 0 0 1 2 2 1 2 2 1 0 2 2 2 2\n",
      " 2 1 1 0 0 1 1 0 2 0 2 2 1 1 1 1 0 2 0 2 2 2 1 1 1 0 1 2 1 1 1 2 2 2 0 2 0\n",
      " 2 0 1 1 1 1 2 0 2 0]\n"
     ]
    }
   ],
   "source": [
    "k = 3\n",
    "kmeans = KMeans(n_clusters=k, random_state=1, n_init= 40)\n",
    "kmeans.fit(X)\n",
    "\n",
    "# print inertia & cluster center\n",
    "print(\"inertia for k=3 is\", kmeans.inertia_)\n",
    "print(\"cluster centers: \", kmeans.cluster_centers_)\n",
    "\n",
    "# take a quick look at the result\n",
    "y = kmeans.labels_\n",
    "print(\"cluster labels: \", y)"
   ]
  },
  {
   "cell_type": "code",
   "execution_count": 66,
   "metadata": {},
   "outputs": [
    {
     "name": "stdout",
     "output_type": "stream",
     "text": [
      "[0 1 2]\n",
      "[22 46 53]\n"
     ]
    }
   ],
   "source": [
    "unique, frequency = np.unique(y, \n",
    "                              return_counts = True)\n",
    "print(unique)\n",
    "print(frequency)"
   ]
  },
  {
   "cell_type": "code",
   "execution_count": 18,
   "metadata": {},
   "outputs": [
    {
     "name": "stdout",
     "output_type": "stream",
     "text": [
      "                          Country Abbrev  Label\n",
      "60                        Lebanon     LB      0\n",
      "30                        Ecuador     EC      0\n",
      "48                           Iran     IR      0\n",
      "61                        Liberia     LR      0\n",
      "69                         Mexico     MX      0\n",
      "77                      Nicaragua     NI      0\n",
      "78                        Nigeria     NG      0\n",
      "81                       Pakistan     PK      0\n",
      "83                       Paraguay     PY      0\n",
      "90                         Russia     RU      0\n",
      "92                   Saudi Arabia     SA      0\n",
      "99                   South Africa     ZA      0\n",
      "108           Trinidad and Tobago     TT      0\n",
      "110                        Turkey     TR      0\n",
      "112                       Ukraine     UA      0\n",
      "118                         Yemen     YE      0\n",
      "27   Democratic Republic of Congo     CD      0\n",
      "19                           Chad     TD      0\n",
      "120                      Zimbabwe     ZW      0\n",
      "14                         Brazil     BR      0\n",
      "16                        Burundi     BI      0\n",
      "2                       Argentina     AR      0\n",
      "51                          Italy     IT      1\n",
      "103                   Switzerland     CH      1\n",
      "49                        Ireland     IE      1\n",
      "102                        Sweden     SE      1\n",
      "86                         Poland     PL      1\n",
      "52                        Jamaica     JM      1\n",
      "53                          Japan     JP      1\n",
      "54                         Jordan     JO      1\n",
      "100                         Spain     ES      1\n",
      "57                  Korea (South)     KI      1\n",
      "58                         Kuwait     KW      1\n",
      "59                         Latvia     LV      1\n",
      "5                         Austria     AT      1\n",
      "13                       Botswana     BW      1\n",
      "62                      Lithuania     LT      1\n",
      "98                       Slovenia     SI      1\n",
      "97                       Slovakia     SK      1\n",
      "65                       Malaysia     MY      1\n",
      "96                      Singapore     SG      1\n",
      "68                      Mauritius     MU      1\n",
      "104                        Taiwan     SY      1\n",
      "45                        Iceland     IS      1\n",
      "44                        Hungary     HU      1\n",
      "75                    Netherlands     NL      1\n",
      "20                          Chile     CL      1\n",
      "87                       Portugal     PT      1\n",
      "9                         Belgium     BE      1\n",
      "23                     Costa Rica     CR      1\n",
      "116                       Uruguay     UY      1\n",
      "25                         Cyprus     CY      1\n",
      "26                 Czech Republic     CZ      1\n",
      "28                        Denmark     DK      1\n",
      "115                 United States     US      1\n",
      "114                United Kingdom     GB      1\n",
      "18                         Canada     CA      1\n",
      "113          United Arab Emirates     AE      1\n",
      "80                           Oman     OM      1\n",
      "35                        Finland     FI      1\n",
      "36                         France     FR      1\n",
      "79                         Norway     NO      1\n",
      "88                          Qatar     QA      1\n",
      "39                        Germany     DE      1\n",
      "4                       Australia     AU      1\n",
      "89                        Romania     RO      1\n",
      "76                    New Zealand     NZ      1\n",
      "33                        Estonia     EE      1\n",
      "7                         Bahrain     BH      2\n",
      "91                         Rwanda     RW      2\n",
      "6                      Azerbaijan     AZ      2\n",
      "17                       Cameroon     CM      2\n",
      "94                         Serbia     RS      2\n",
      "95                   Sierra Leone     SL      2\n",
      "101                     Sri Lanka     LK      2\n",
      "105                      Tanzania     TZ      2\n",
      "106                      Thailand     TH      2\n",
      "107          The FYR of Macedonia     MK      2\n",
      "109                       Tunisia     TN      2\n",
      "3                         Armenia     AM      2\n",
      "111                        Uganda     UG      2\n",
      "117                       Vietnam     VI      2\n",
      "1                         Algeria     DZ      2\n",
      "93                        Senegal     SN      2\n",
      "85                    Philippines     PH      2\n",
      "12         Bosnia and Herzegovina     BA      2\n",
      "8                      Bangladesh     BD      2\n",
      "43                       Honduras     HN      2\n",
      "42                      Guatemala     GT      2\n",
      "41                         Greece     GR      2\n",
      "40                          Ghana     GH      2\n",
      "38                        Georgia     GE      2\n",
      "37                          Gabon     GA      2\n",
      "46                          India     IN      2\n",
      "34                       Ethiopia     ET      2\n",
      "31                          Egypt     EG      2\n",
      "15                       Bulgaria     BG      2\n",
      "29             Dominican Republic     DO      2\n",
      "24                        Croatia     HR      2\n",
      "22                       Colombia     CO      2\n",
      "21                          China     CN      2\n",
      "32                    El Salvador     SV      2\n",
      "84                           Peru     PE      2\n",
      "47                      Indonesia     ID      2\n",
      "55                     Kazakhstan     KZ      2\n",
      "82                         Panama     PA      2\n",
      "10                          Benin     BJ      2\n",
      "11                        Bolivia     BO      2\n",
      "74                          Nepal     NP      2\n",
      "73                     Mozambique     MZ      2\n",
      "72                        Morocco     MA      2\n",
      "50                         Israel     IL      2\n",
      "71                     Montenegro     ME      2\n",
      "67                     Mauritania     MR      2\n",
      "66                           Mali     ML      2\n",
      "64                         Malawi     MW      2\n",
      "63                     Madagascar     MG      2\n",
      "119                        Zambia     ZM      2\n",
      "56                          Kenya     KE      2\n",
      "70                        Moldova     FM      2\n",
      "0                         Albania     AL      2\n"
     ]
    }
   ],
   "source": [
    "result = pd.DataFrame({'Country':raw['Country'], 'Abbrev':raw['Abbrev'], 'Label':y})\n",
    "with pd.option_context('display.max_rows', None, 'display.max_columns', 3):\n",
    "    print(result.sort_values('Label'))"
   ]
  },
  {
   "cell_type": "code",
   "execution_count": 54,
   "metadata": {},
   "outputs": [
    {
     "name": "stdout",
     "output_type": "stream",
     "text": [
      "inertia for k=3 is 161.1333871005255\n",
      "cluster centers:  [[ 1.22506036 -0.83385901 -1.07842464]\n",
      " [-0.85097477  1.02149992 -0.23897931]\n",
      " [ 0.23006626 -0.54045468  0.65506397]]\n",
      "cluster labels:  [2 2 0 2 1 1 2 2 2 1 2 2 2 1 0 2 0 2 1 0 1 2 2 1 2 1 1 0 1 2 0 2 2 1 2 1 1\n",
      " 2 2 1 2 2 2 2 1 1 2 2 0 1 2 1 1 1 1 2 2 1 1 1 0 0 1 2 2 1 2 2 1 0 2 2 2 2\n",
      " 2 1 1 0 0 1 1 0 2 0 2 2 1 1 1 1 0 2 0 2 2 2 1 1 1 0 1 2 1 1 1 2 2 2 0 2 0\n",
      " 2 0 1 1 1 1 2 0 2 0]\n"
     ]
    }
   ],
   "source": [
    "k = 3\n",
    "kmeans = KMeans(n_clusters=k, random_state=1, n_init= 100)\n",
    "kmeans.fit(X)\n",
    "\n",
    "# print inertia & cluster center\n",
    "print(\"inertia for k=3 is\", kmeans.inertia_)\n",
    "print(\"cluster centers: \", kmeans.cluster_centers_)\n",
    "\n",
    "# take a quick look at the result\n",
    "y = kmeans.labels_\n",
    "print(\"cluster labels: \", y)"
   ]
  },
  {
   "cell_type": "code",
   "execution_count": 55,
   "metadata": {},
   "outputs": [
    {
     "name": "stdout",
     "output_type": "stream",
     "text": [
      "[0 1 2]\n",
      "[22 46 53]\n"
     ]
    }
   ],
   "source": [
    "unique, frequency = np.unique(y, \n",
    "                              return_counts = True)\n",
    "print(unique)\n",
    "print(frequency)"
   ]
  },
  {
   "cell_type": "code",
   "execution_count": 21,
   "metadata": {},
   "outputs": [
    {
     "name": "stdout",
     "output_type": "stream",
     "text": [
      "                          Country Abbrev  Label\n",
      "60                        Lebanon     LB      0\n",
      "30                        Ecuador     EC      0\n",
      "48                           Iran     IR      0\n",
      "61                        Liberia     LR      0\n",
      "69                         Mexico     MX      0\n",
      "77                      Nicaragua     NI      0\n",
      "78                        Nigeria     NG      0\n",
      "81                       Pakistan     PK      0\n",
      "83                       Paraguay     PY      0\n",
      "90                         Russia     RU      0\n",
      "92                   Saudi Arabia     SA      0\n",
      "99                   South Africa     ZA      0\n",
      "108           Trinidad and Tobago     TT      0\n",
      "110                        Turkey     TR      0\n",
      "112                       Ukraine     UA      0\n",
      "118                         Yemen     YE      0\n",
      "27   Democratic Republic of Congo     CD      0\n",
      "19                           Chad     TD      0\n",
      "120                      Zimbabwe     ZW      0\n",
      "14                         Brazil     BR      0\n",
      "16                        Burundi     BI      0\n",
      "2                       Argentina     AR      0\n",
      "51                          Italy     IT      1\n",
      "103                   Switzerland     CH      1\n",
      "49                        Ireland     IE      1\n",
      "102                        Sweden     SE      1\n",
      "86                         Poland     PL      1\n",
      "52                        Jamaica     JM      1\n",
      "53                          Japan     JP      1\n",
      "54                         Jordan     JO      1\n",
      "100                         Spain     ES      1\n",
      "57                  Korea (South)     KI      1\n",
      "58                         Kuwait     KW      1\n",
      "59                         Latvia     LV      1\n",
      "5                         Austria     AT      1\n",
      "13                       Botswana     BW      1\n",
      "62                      Lithuania     LT      1\n",
      "98                       Slovenia     SI      1\n",
      "97                       Slovakia     SK      1\n",
      "65                       Malaysia     MY      1\n",
      "96                      Singapore     SG      1\n",
      "68                      Mauritius     MU      1\n",
      "104                        Taiwan     SY      1\n",
      "45                        Iceland     IS      1\n",
      "44                        Hungary     HU      1\n",
      "75                    Netherlands     NL      1\n",
      "20                          Chile     CL      1\n",
      "87                       Portugal     PT      1\n",
      "9                         Belgium     BE      1\n",
      "23                     Costa Rica     CR      1\n",
      "116                       Uruguay     UY      1\n",
      "25                         Cyprus     CY      1\n",
      "26                 Czech Republic     CZ      1\n",
      "28                        Denmark     DK      1\n",
      "115                 United States     US      1\n",
      "114                United Kingdom     GB      1\n",
      "18                         Canada     CA      1\n",
      "113          United Arab Emirates     AE      1\n",
      "80                           Oman     OM      1\n",
      "35                        Finland     FI      1\n",
      "36                         France     FR      1\n",
      "79                         Norway     NO      1\n",
      "88                          Qatar     QA      1\n",
      "39                        Germany     DE      1\n",
      "4                       Australia     AU      1\n",
      "89                        Romania     RO      1\n",
      "76                    New Zealand     NZ      1\n",
      "33                        Estonia     EE      1\n",
      "7                         Bahrain     BH      2\n",
      "91                         Rwanda     RW      2\n",
      "6                      Azerbaijan     AZ      2\n",
      "17                       Cameroon     CM      2\n",
      "94                         Serbia     RS      2\n",
      "95                   Sierra Leone     SL      2\n",
      "101                     Sri Lanka     LK      2\n",
      "105                      Tanzania     TZ      2\n",
      "106                      Thailand     TH      2\n",
      "107          The FYR of Macedonia     MK      2\n",
      "109                       Tunisia     TN      2\n",
      "3                         Armenia     AM      2\n",
      "111                        Uganda     UG      2\n",
      "117                       Vietnam     VI      2\n",
      "1                         Algeria     DZ      2\n",
      "93                        Senegal     SN      2\n",
      "85                    Philippines     PH      2\n",
      "12         Bosnia and Herzegovina     BA      2\n",
      "8                      Bangladesh     BD      2\n",
      "43                       Honduras     HN      2\n",
      "42                      Guatemala     GT      2\n",
      "41                         Greece     GR      2\n",
      "40                          Ghana     GH      2\n",
      "38                        Georgia     GE      2\n",
      "37                          Gabon     GA      2\n",
      "46                          India     IN      2\n",
      "34                       Ethiopia     ET      2\n",
      "31                          Egypt     EG      2\n",
      "15                       Bulgaria     BG      2\n",
      "29             Dominican Republic     DO      2\n",
      "24                        Croatia     HR      2\n",
      "22                       Colombia     CO      2\n",
      "21                          China     CN      2\n",
      "32                    El Salvador     SV      2\n",
      "84                           Peru     PE      2\n",
      "47                      Indonesia     ID      2\n",
      "55                     Kazakhstan     KZ      2\n",
      "82                         Panama     PA      2\n",
      "10                          Benin     BJ      2\n",
      "11                        Bolivia     BO      2\n",
      "74                          Nepal     NP      2\n",
      "73                     Mozambique     MZ      2\n",
      "72                        Morocco     MA      2\n",
      "50                         Israel     IL      2\n",
      "71                     Montenegro     ME      2\n",
      "67                     Mauritania     MR      2\n",
      "66                           Mali     ML      2\n",
      "64                         Malawi     MW      2\n",
      "63                     Madagascar     MG      2\n",
      "119                        Zambia     ZM      2\n",
      "56                          Kenya     KE      2\n",
      "70                        Moldova     FM      2\n",
      "0                         Albania     AL      2\n"
     ]
    }
   ],
   "source": [
    "result = pd.DataFrame({'Country':raw['Country'], 'Abbrev':raw['Abbrev'], 'Label':y})\n",
    "with pd.option_context('display.max_rows', None, 'display.max_columns', 3):\n",
    "    print(result.sort_values('Label'))"
   ]
  },
  {
   "cell_type": "markdown",
   "metadata": {},
   "source": [
    "# C"
   ]
  },
  {
   "cell_type": "code",
   "execution_count": 57,
   "metadata": {},
   "outputs": [
    {
     "name": "stdout",
     "output_type": "stream",
     "text": [
      "inertia for k=3 is 194.4046655009297\n",
      "cluster centers:  [[-0.89877793  1.12417837 -0.26007806  1.17949284]\n",
      " [ 0.17066495 -0.47838646  0.5929059  -0.49863571]\n",
      " [ 1.22506036 -0.83385901 -1.07842464 -0.88356071]]\n",
      "cluster labels:  [1 1 2 1 0 0 1 1 1 0 1 1 1 0 2 1 2 1 0 2 0 1 1 0 1 0 0 2 0 1 2 1 1 0 1 0 0\n",
      " 1 1 0 1 1 1 1 1 0 1 1 2 0 1 0 1 0 1 1 1 0 1 0 2 2 0 1 1 0 1 1 0 2 1 1 1 1\n",
      " 1 0 0 2 2 0 0 2 1 2 1 1 0 0 0 1 2 1 2 1 1 1 0 0 0 2 0 1 0 0 0 1 1 1 2 1 2\n",
      " 1 2 0 0 0 0 1 2 1 2]\n"
     ]
    }
   ],
   "source": [
    "k = 3\n",
    "kmeans = KMeans(n_clusters=k, random_state=1)\n",
    "kmeans.fit(X2)\n",
    "\n",
    "# print inertia & cluster center\n",
    "print(\"inertia for k=3 is\", kmeans.inertia_)\n",
    "print(\"cluster centers: \", kmeans.cluster_centers_)\n",
    "\n",
    "# take a quick look at the result\n",
    "y2 = kmeans.labels_\n",
    "print(\"cluster labels: \", y2)"
   ]
  },
  {
   "cell_type": "code",
   "execution_count": 58,
   "metadata": {},
   "outputs": [
    {
     "name": "stderr",
     "output_type": "stream",
     "text": [
      "C:\\Users\\xomai\\anaconda3\\lib\\site-packages\\sklearn\\cluster\\_kmeans.py:1036: UserWarning: KMeans is known to have a memory leak on Windows with MKL, when there are less chunks than available threads. You can avoid it by setting the environment variable OMP_NUM_THREADS=1.\n",
      "  warnings.warn(\n"
     ]
    },
    {
     "data": {
      "image/png": "[encoded data removed]",
      "text/plain": [
       "<Figure size 432x288 with 1 Axes>"
      ]
     },
     "metadata": {
      "needs_background": "light"
     },
     "output_type": "display_data"
    }
   ],
   "source": [
    "Ks = range(1, 10)\n",
    "inertia = [KMeans(i).fit(X2).inertia_ for i in Ks]\n",
    "\n",
    "fig = plt.figure()\n",
    "plt.plot(Ks, inertia, '-bo')\n",
    "plt.xlabel('Number of clusters')\n",
    "plt.ylabel('Inertia (within-cluster sum of squares)')\n",
    "plt.show()"
   ]
  },
  {
   "cell_type": "code",
   "execution_count": 59,
   "metadata": {},
   "outputs": [
    {
     "name": "stdout",
     "output_type": "stream",
     "text": [
      "[0 1 2]\n",
      "[41 58 22]\n"
     ]
    }
   ],
   "source": [
    "unique, frequency = np.unique(y2, \n",
    "                              return_counts = True)\n",
    "print(unique)\n",
    "print(frequency)"
   ]
  },
  {
   "cell_type": "code",
   "execution_count": 24,
   "metadata": {},
   "outputs": [
    {
     "name": "stdout",
     "output_type": "stream",
     "text": [
      "                          Country Abbrev  Label\n",
      "51                          Italy     IT      0\n",
      "33                        Estonia     EE      0\n",
      "35                        Finland     FI      0\n",
      "36                         France     FR      0\n",
      "39                        Germany     DE      0\n",
      "45                        Iceland     IS      0\n",
      "49                        Ireland     IE      0\n",
      "53                          Japan     JP      0\n",
      "57                  Korea (South)     KI      0\n",
      "59                         Latvia     LV      0\n",
      "62                      Lithuania     LT      0\n",
      "65                       Malaysia     MY      0\n",
      "68                      Mauritius     MU      0\n",
      "75                    Netherlands     NL      0\n",
      "76                    New Zealand     NZ      0\n",
      "79                         Norway     NO      0\n",
      "80                           Oman     OM      0\n",
      "86                         Poland     PL      0\n",
      "87                       Portugal     PT      0\n",
      "88                          Qatar     QA      0\n",
      "104                        Taiwan     SY      0\n",
      "96                      Singapore     SG      0\n",
      "97                       Slovakia     SK      0\n",
      "98                       Slovenia     SI      0\n",
      "103                   Switzerland     CH      0\n",
      "100                         Spain     ES      0\n",
      "113          United Arab Emirates     AE      0\n",
      "28                        Denmark     DK      0\n",
      "102                        Sweden     SE      0\n",
      "26                 Czech Republic     CZ      0\n",
      "114                United Kingdom     GB      0\n",
      "115                 United States     US      0\n",
      "25                         Cyprus     CY      0\n",
      "4                       Australia     AU      0\n",
      "5                         Austria     AT      0\n",
      "23                     Costa Rica     CR      0\n",
      "116                       Uruguay     UY      0\n",
      "20                          Chile     CL      0\n",
      "9                         Belgium     BE      0\n",
      "13                       Botswana     BW      0\n",
      "18                         Canada     CA      0\n",
      "29             Dominican Republic     DO      1\n",
      "10                          Benin     BJ      1\n",
      "11                        Bolivia     BO      1\n",
      "73                     Mozambique     MZ      1\n",
      "12         Bosnia and Herzegovina     BA      1\n",
      "74                          Nepal     NP      1\n",
      "72                        Morocco     MA      1\n",
      "71                     Montenegro     ME      1\n",
      "109                       Tunisia     TN      1\n",
      "107          The FYR of Macedonia     MK      1\n",
      "84                           Peru     PE      1\n",
      "106                      Thailand     TH      1\n",
      "70                        Moldova     FM      1\n",
      "85                    Philippines     PH      1\n",
      "8                      Bangladesh     BD      1\n",
      "7                         Bahrain     BH      1\n",
      "89                        Romania     RO      1\n",
      "105                      Tanzania     TZ      1\n",
      "91                         Rwanda     RW      1\n",
      "6                      Azerbaijan     AZ      1\n",
      "93                        Senegal     SN      1\n",
      "94                         Serbia     RS      1\n",
      "95                   Sierra Leone     SL      1\n",
      "3                         Armenia     AM      1\n",
      "1                         Algeria     DZ      1\n",
      "82                         Panama     PA      1\n",
      "117                       Vietnam     VI      1\n",
      "15                       Bulgaria     BG      1\n",
      "47                      Indonesia     ID      1\n",
      "31                          Egypt     EG      1\n",
      "32                    El Salvador     SV      1\n",
      "34                       Ethiopia     ET      1\n",
      "24                        Croatia     HR      1\n",
      "37                          Gabon     GA      1\n",
      "38                        Georgia     GE      1\n",
      "22                       Colombia     CO      1\n",
      "40                          Ghana     GH      1\n",
      "41                         Greece     GR      1\n",
      "42                      Guatemala     GT      1\n",
      "43                       Honduras     HN      1\n",
      "44                        Hungary     HU      1\n",
      "21                          China     CN      1\n",
      "46                          India     IN      1\n",
      "67                     Mauritania     MR      1\n",
      "0                         Albania     AL      1\n",
      "50                         Israel     IL      1\n",
      "66                           Mali     ML      1\n",
      "64                         Malawi     MW      1\n",
      "63                     Madagascar     MG      1\n",
      "111                        Uganda     UG      1\n",
      "119                        Zambia     ZM      1\n",
      "58                         Kuwait     KW      1\n",
      "17                       Cameroon     CM      1\n",
      "55                     Kazakhstan     KZ      1\n",
      "54                         Jordan     JO      1\n",
      "52                        Jamaica     JM      1\n",
      "101                     Sri Lanka     LK      1\n",
      "56                          Kenya     KE      1\n",
      "112                       Ukraine     UA      2\n",
      "108           Trinidad and Tobago     TT      2\n",
      "118                         Yemen     YE      2\n",
      "110                        Turkey     TR      2\n",
      "60                        Lebanon     LB      2\n",
      "92                   Saudi Arabia     SA      2\n",
      "2                       Argentina     AR      2\n",
      "14                         Brazil     BR      2\n",
      "16                        Burundi     BI      2\n",
      "19                           Chad     TD      2\n",
      "27   Democratic Republic of Congo     CD      2\n",
      "30                        Ecuador     EC      2\n",
      "99                   South Africa     ZA      2\n",
      "48                           Iran     IR      2\n",
      "69                         Mexico     MX      2\n",
      "77                      Nicaragua     NI      2\n",
      "78                        Nigeria     NG      2\n",
      "81                       Pakistan     PK      2\n",
      "83                       Paraguay     PY      2\n",
      "90                         Russia     RU      2\n",
      "61                        Liberia     LR      2\n",
      "120                      Zimbabwe     ZW      2\n"
     ]
    }
   ],
   "source": [
    "result = pd.DataFrame({'Country':raw['Country'], 'Abbrev':raw['Abbrev'], 'Label':y2})\n",
    "with pd.option_context('display.max_rows', None, 'display.max_columns', 3):\n",
    "    print(result.sort_values('Label'))"
   ]
  },
  {
   "cell_type": "markdown",
   "metadata": {},
   "source": [
    "# D"
   ]
  },
  {
   "cell_type": "code",
   "execution_count": 69,
   "metadata": {},
   "outputs": [],
   "source": [
    "from sklearn.cluster import AgglomerativeClustering\n",
    "AC = AgglomerativeClustering(n_clusters = 3)\n"
   ]
  },
  {
   "cell_type": "code",
   "execution_count": 70,
   "metadata": {},
   "outputs": [
    {
     "data": {
      "text/plain": [
       "AgglomerativeClustering(n_clusters=3)"
      ]
     },
     "execution_count": 70,
     "metadata": {},
     "output_type": "execute_result"
    }
   ],
   "source": [
    "AC.fit(X)"
   ]
  },
  {
   "cell_type": "code",
   "execution_count": 71,
   "metadata": {},
   "outputs": [
    {
     "name": "stdout",
     "output_type": "stream",
     "text": [
      "[0 0 0 0 1 1 0 0 0 1 0 0 0 0 0 0 2 0 1 2 1 0 0 1 0 1 1 2 1 0 0 0 0 1 0 1 1\n",
      " 0 0 1 0 0 0 0 1 1 0 0 2 1 0 0 0 1 0 0 0 1 0 0 2 0 1 0 0 1 0 0 0 2 0 0 0 0\n",
      " 0 1 1 2 2 1 0 2 0 0 0 0 0 1 1 0 2 0 0 0 0 0 1 1 1 0 1 0 1 1 1 0 0 0 0 0 2\n",
      " 0 2 1 1 0 0 0 2 0 2]\n",
      "                          Country Abbrev  Label\n",
      "0                         Albania     AL      0\n",
      "70                        Moldova     FM      0\n",
      "68                      Mauritius     MU      0\n",
      "67                     Mauritania     MR      0\n",
      "66                           Mali     ML      0\n",
      "64                         Malawi     MW      0\n",
      "63                     Madagascar     MG      0\n",
      "61                        Liberia     LR      0\n",
      "119                        Zambia     ZM      0\n",
      "71                     Montenegro     ME      0\n",
      "59                         Latvia     LV      0\n",
      "56                          Kenya     KE      0\n",
      "55                     Kazakhstan     KZ      0\n",
      "108           Trinidad and Tobago     TT      0\n",
      "52                        Jamaica     JM      0\n",
      "51                          Italy     IT      0\n",
      "50                         Israel     IL      0\n",
      "115                 United States     US      0\n",
      "47                      Indonesia     ID      0\n",
      "58                         Kuwait     KW      0\n",
      "46                          India     IN      0\n",
      "72                        Morocco     MA      0\n",
      "74                          Nepal     NP      0\n",
      "107          The FYR of Macedonia     MK      0\n",
      "106                      Thailand     TH      0\n",
      "105                      Tanzania     TZ      0\n",
      "101                     Sri Lanka     LK      0\n",
      "99                   South Africa     ZA      0\n",
      "95                   Sierra Leone     SL      0\n",
      "94                         Serbia     RS      0\n",
      "93                        Senegal     SN      0\n",
      "73                     Mozambique     MZ      0\n",
      "92                   Saudi Arabia     SA      0\n",
      "89                        Romania     RO      0\n",
      "86                         Poland     PL      0\n",
      "85                    Philippines     PH      0\n",
      "84                           Peru     PE      0\n",
      "83                       Paraguay     PY      0\n",
      "82                         Panama     PA      0\n",
      "111                        Uganda     UG      0\n",
      "80                           Oman     OM      0\n",
      "91                         Rwanda     RW      0\n",
      "43                       Honduras     HN      0\n",
      "54                         Jordan     JO      0\n",
      "109                       Tunisia     TN      0\n",
      "13                       Botswana     BW      0\n",
      "17                       Cameroon     CM      0\n",
      "12         Bosnia and Herzegovina     BA      0\n",
      "11                        Bolivia     BO      0\n",
      "42                      Guatemala     GT      0\n",
      "10                          Benin     BJ      0\n",
      "117                       Vietnam     VI      0\n",
      "21                          China     CN      0\n",
      "22                       Colombia     CO      0\n",
      "8                      Bangladesh     BD      0\n",
      "7                         Bahrain     BH      0\n",
      "24                        Croatia     HR      0\n",
      "6                      Azerbaijan     AZ      0\n",
      "15                       Bulgaria     BG      0\n",
      "29             Dominican Republic     DO      0\n",
      "116                       Uruguay     UY      0\n",
      "31                          Egypt     EG      0\n",
      "1                         Algeria     DZ      0\n",
      "41                         Greece     GR      0\n",
      "40                          Ghana     GH      0\n",
      "2                       Argentina     AR      0\n",
      "3                         Armenia     AM      0\n",
      "38                        Georgia     GE      0\n",
      "37                          Gabon     GA      0\n",
      "30                        Ecuador     EC      0\n",
      "14                         Brazil     BR      0\n",
      "34                       Ethiopia     ET      0\n",
      "32                    El Salvador     SV      0\n",
      "103                   Switzerland     CH      1\n",
      "9                         Belgium     BE      1\n",
      "4                       Australia     AU      1\n",
      "100                         Spain     ES      1\n",
      "96                      Singapore     SG      1\n",
      "97                       Slovakia     SK      1\n",
      "88                          Qatar     QA      1\n",
      "87                       Portugal     PT      1\n",
      "98                       Slovenia     SI      1\n",
      "5                         Austria     AT      1\n",
      "102                        Sweden     SE      1\n",
      "104                        Taiwan     SY      1\n",
      "44                        Hungary     HU      1\n",
      "18                         Canada     CA      1\n",
      "45                        Iceland     IS      1\n",
      "39                        Germany     DE      1\n",
      "49                        Ireland     IE      1\n",
      "36                         France     FR      1\n",
      "53                          Japan     JP      1\n",
      "35                        Finland     FI      1\n",
      "33                        Estonia     EE      1\n",
      "57                  Korea (South)     KI      1\n",
      "62                      Lithuania     LT      1\n",
      "28                        Denmark     DK      1\n",
      "65                       Malaysia     MY      1\n",
      "26                 Czech Republic     CZ      1\n",
      "25                         Cyprus     CY      1\n",
      "114                United Kingdom     GB      1\n",
      "23                     Costa Rica     CR      1\n",
      "20                          Chile     CL      1\n",
      "75                    Netherlands     NL      1\n",
      "113          United Arab Emirates     AE      1\n",
      "79                         Norway     NO      1\n",
      "76                    New Zealand     NZ      1\n",
      "110                        Turkey     TR      2\n",
      "112                       Ukraine     UA      2\n",
      "118                         Yemen     YE      2\n",
      "60                        Lebanon     LB      2\n",
      "81                       Pakistan     PK      2\n",
      "78                        Nigeria     NG      2\n",
      "77                      Nicaragua     NI      2\n",
      "69                         Mexico     MX      2\n",
      "48                           Iran     IR      2\n",
      "27   Democratic Republic of Congo     CD      2\n",
      "19                           Chad     TD      2\n",
      "16                        Burundi     BI      2\n",
      "90                         Russia     RU      2\n",
      "120                      Zimbabwe     ZW      2\n"
     ]
    }
   ],
   "source": [
    "y_ac = AC.labels_\n",
    "print(y_ac)\n",
    "\n",
    "result = pd.DataFrame({'Country':raw['Country'], 'Abbrev':raw['Abbrev'], 'Label':y_ac})\n",
    "with pd.option_context('display.max_rows', None, 'display.max_columns', 3):\n",
    "    print(result.sort_values('Label'))\n"
   ]
  },
  {
   "cell_type": "code",
   "execution_count": 77,
   "metadata": {},
   "outputs": [
    {
     "name": "stdout",
     "output_type": "stream",
     "text": [
      "3\n"
     ]
    }
   ],
   "source": [
    "print(AC.n_features_in_)"
   ]
  },
  {
   "cell_type": "code",
   "execution_count": 72,
   "metadata": {
    "scrolled": true
   },
   "outputs": [
    {
     "name": "stdout",
     "output_type": "stream",
     "text": [
      "[0 1 2]\n",
      "[73 34 14]\n"
     ]
    }
   ],
   "source": [
    "unique, frequency = np.unique(y_ac, \n",
    "                              return_counts = True)\n",
    "print(unique)\n",
    "print(frequency)"
   ]
  },
  {
   "cell_type": "code",
   "execution_count": 79,
   "metadata": {},
   "outputs": [
    {
     "name": "stdout",
     "output_type": "stream",
     "text": [
      "[0 0 1 0 0 0 0 0 0 0 0 0 0 0 0 0 2 0 0 2 0 0 0 0 0 0 0 2 0 0 0 0 0 0 0 0 0\n",
      " 0 0 0 0 0 0 0 0 0 0 0 1 0 0 0 0 0 0 0 0 0 0 0 2 0 0 0 0 0 0 0 0 2 0 0 0 0\n",
      " 0 0 0 1 2 0 0 2 0 0 0 0 0 0 0 0 2 0 0 0 0 0 0 0 0 0 0 0 0 0 0 0 0 0 0 0 2\n",
      " 0 2 0 0 0 0 0 2 0 1]\n",
      "                          Country Abbrev  Label\n",
      "0                         Albania     AL      0\n",
      "76                    New Zealand     NZ      0\n",
      "75                    Netherlands     NL      0\n",
      "74                          Nepal     NP      0\n",
      "73                     Mozambique     MZ      0\n",
      "72                        Morocco     MA      0\n",
      "71                     Montenegro     ME      0\n",
      "70                        Moldova     FM      0\n",
      "111                        Uganda     UG      0\n",
      "68                      Mauritius     MU      0\n",
      "67                     Mauritania     MR      0\n",
      "109                       Tunisia     TN      0\n",
      "66                           Mali     ML      0\n",
      "64                         Malawi     MW      0\n",
      "63                     Madagascar     MG      0\n",
      "62                      Lithuania     LT      0\n",
      "61                        Liberia     LR      0\n",
      "119                        Zambia     ZM      0\n",
      "59                         Latvia     LV      0\n",
      "58                         Kuwait     KW      0\n",
      "57                  Korea (South)     KI      0\n",
      "56                          Kenya     KE      0\n",
      "55                     Kazakhstan     KZ      0\n",
      "65                       Malaysia     MY      0\n",
      "108           Trinidad and Tobago     TT      0\n",
      "79                         Norway     NO      0\n",
      "80                           Oman     OM      0\n",
      "103                   Switzerland     CH      0\n",
      "102                        Sweden     SE      0\n",
      "101                     Sri Lanka     LK      0\n",
      "100                         Spain     ES      0\n",
      "99                   South Africa     ZA      0\n",
      "98                       Slovenia     SI      0\n",
      "97                       Slovakia     SK      0\n",
      "96                      Singapore     SG      0\n",
      "95                   Sierra Leone     SL      0\n",
      "94                         Serbia     RS      0\n",
      "93                        Senegal     SN      0\n",
      "92                   Saudi Arabia     SA      0\n",
      "91                         Rwanda     RW      0\n",
      "106                      Thailand     TH      0\n",
      "89                        Romania     RO      0\n",
      "88                          Qatar     QA      0\n",
      "87                       Portugal     PT      0\n",
      "86                         Poland     PL      0\n",
      "85                    Philippines     PH      0\n",
      "84                           Peru     PE      0\n",
      "83                       Paraguay     PY      0\n",
      "82                         Panama     PA      0\n",
      "107          The FYR of Macedonia     MK      0\n",
      "54                         Jordan     JO      0\n",
      "53                          Japan     JP      0\n",
      "52                        Jamaica     JM      0\n",
      "51                          Italy     IT      0\n",
      "23                     Costa Rica     CR      0\n",
      "22                       Colombia     CO      0\n",
      "21                          China     CN      0\n",
      "20                          Chile     CL      0\n",
      "115                 United States     US      0\n",
      "18                         Canada     CA      0\n",
      "17                       Cameroon     CM      0\n",
      "116                       Uruguay     UY      0\n",
      "15                       Bulgaria     BG      0\n",
      "14                         Brazil     BR      0\n",
      "13                       Botswana     BW      0\n",
      "12         Bosnia and Herzegovina     BA      0\n",
      "11                        Bolivia     BO      0\n",
      "10                          Benin     BJ      0\n",
      "9                         Belgium     BE      0\n",
      "8                      Bangladesh     BD      0\n",
      "7                         Bahrain     BH      0\n",
      "6                      Azerbaijan     AZ      0\n",
      "5                         Austria     AT      0\n",
      "4                       Australia     AU      0\n",
      "3                         Armenia     AM      0\n",
      "117                       Vietnam     VI      0\n",
      "1                         Algeria     DZ      0\n",
      "24                        Croatia     HR      0\n",
      "104                        Taiwan     SY      0\n",
      "25                         Cyprus     CY      0\n",
      "114                United Kingdom     GB      0\n",
      "50                         Israel     IL      0\n",
      "49                        Ireland     IE      0\n",
      "113          United Arab Emirates     AE      0\n",
      "47                      Indonesia     ID      0\n",
      "46                          India     IN      0\n",
      "45                        Iceland     IS      0\n",
      "44                        Hungary     HU      0\n",
      "43                       Honduras     HN      0\n",
      "42                      Guatemala     GT      0\n",
      "41                         Greece     GR      0\n",
      "40                          Ghana     GH      0\n",
      "39                        Germany     DE      0\n",
      "38                        Georgia     GE      0\n",
      "37                          Gabon     GA      0\n",
      "36                         France     FR      0\n",
      "35                        Finland     FI      0\n",
      "34                       Ethiopia     ET      0\n",
      "33                        Estonia     EE      0\n",
      "32                    El Salvador     SV      0\n",
      "31                          Egypt     EG      0\n",
      "30                        Ecuador     EC      0\n",
      "29             Dominican Republic     DO      0\n",
      "28                        Denmark     DK      0\n",
      "26                 Czech Republic     CZ      0\n",
      "105                      Tanzania     TZ      0\n",
      "120                      Zimbabwe     ZW      1\n",
      "77                      Nicaragua     NI      1\n",
      "48                           Iran     IR      1\n",
      "2                       Argentina     AR      1\n",
      "81                       Pakistan     PK      2\n",
      "78                        Nigeria     NG      2\n",
      "110                        Turkey     TR      2\n",
      "69                         Mexico     MX      2\n",
      "112                       Ukraine     UA      2\n",
      "27   Democratic Republic of Congo     CD      2\n",
      "19                           Chad     TD      2\n",
      "16                        Burundi     BI      2\n",
      "118                         Yemen     YE      2\n",
      "90                         Russia     RU      2\n",
      "60                        Lebanon     LB      2\n"
     ]
    }
   ],
   "source": [
    "AC = AgglomerativeClustering(n_clusters = 3, linkage = 'average')\n",
    "AC.fit(X)\n",
    "\n",
    "y_ac = AC.labels_\n",
    "print(y_ac)\n",
    "\n",
    "result = pd.DataFrame({'Country':raw['Country'], 'Abbrev':raw['Abbrev'], 'Label':y_ac})\n",
    "with pd.option_context('display.max_rows', None, 'display.max_columns', 3):\n",
    "    print(result.sort_values('Label'))\n"
   ]
  },
  {
   "cell_type": "code",
   "execution_count": 80,
   "metadata": {},
   "outputs": [
    {
     "name": "stdout",
     "output_type": "stream",
     "text": [
      "[0 1 2]\n",
      "[106   4  11]\n"
     ]
    }
   ],
   "source": [
    "unique, frequency = np.unique(y_ac, \n",
    "                              return_counts = True)\n",
    "print(unique)\n",
    "print(frequency)"
   ]
  },
  {
   "cell_type": "code",
   "execution_count": 81,
   "metadata": {},
   "outputs": [
    {
     "name": "stdout",
     "output_type": "stream",
     "text": [
      "[2 2 2 2 2 2 2 2 2 2 2 2 2 2 2 2 2 2 2 2 2 2 2 2 2 2 2 2 2 2 2 2 2 2 2 2 2\n",
      " 2 2 2 2 2 2 2 2 2 2 2 0 2 1 2 2 2 2 2 2 2 2 2 2 2 2 2 2 2 2 2 2 2 2 2 2 2\n",
      " 2 2 2 0 2 2 2 2 2 2 2 2 2 2 2 2 2 2 2 2 2 2 2 2 2 2 2 2 2 2 2 2 2 2 2 2 2\n",
      " 2 2 2 2 1 2 2 2 2 0]\n",
      "                          Country Abbrev  Label\n",
      "120                      Zimbabwe     ZW      0\n",
      "48                           Iran     IR      0\n",
      "77                      Nicaragua     NI      0\n",
      "115                 United States     US      1\n",
      "50                         Israel     IL      1\n",
      "86                         Poland     PL      2\n",
      "85                    Philippines     PH      2\n",
      "84                           Peru     PE      2\n",
      "83                       Paraguay     PY      2\n",
      "82                         Panama     PA      2\n",
      "81                       Pakistan     PK      2\n",
      "80                           Oman     OM      2\n",
      "79                         Norway     NO      2\n",
      "78                        Nigeria     NG      2\n",
      "76                    New Zealand     NZ      2\n",
      "75                    Netherlands     NL      2\n",
      "73                     Mozambique     MZ      2\n",
      "87                       Portugal     PT      2\n",
      "72                        Morocco     MA      2\n",
      "71                     Montenegro     ME      2\n",
      "70                        Moldova     FM      2\n",
      "69                         Mexico     MX      2\n",
      "68                      Mauritius     MU      2\n",
      "67                     Mauritania     MR      2\n",
      "66                           Mali     ML      2\n",
      "65                       Malaysia     MY      2\n",
      "64                         Malawi     MW      2\n",
      "63                     Madagascar     MG      2\n",
      "74                          Nepal     NP      2\n",
      "88                          Qatar     QA      2\n",
      "89                        Romania     RO      2\n",
      "90                         Russia     RU      2\n",
      "118                         Yemen     YE      2\n",
      "117                       Vietnam     VI      2\n",
      "116                       Uruguay     UY      2\n",
      "114                United Kingdom     GB      2\n",
      "113          United Arab Emirates     AE      2\n",
      "112                       Ukraine     UA      2\n",
      "111                        Uganda     UG      2\n",
      "110                        Turkey     TR      2\n",
      "109                       Tunisia     TN      2\n",
      "108           Trinidad and Tobago     TT      2\n",
      "107          The FYR of Macedonia     MK      2\n",
      "106                      Thailand     TH      2\n",
      "105                      Tanzania     TZ      2\n",
      "104                        Taiwan     SY      2\n",
      "103                   Switzerland     CH      2\n",
      "102                        Sweden     SE      2\n",
      "101                     Sri Lanka     LK      2\n",
      "100                         Spain     ES      2\n",
      "99                   South Africa     ZA      2\n",
      "98                       Slovenia     SI      2\n",
      "97                       Slovakia     SK      2\n",
      "96                      Singapore     SG      2\n",
      "95                   Sierra Leone     SL      2\n",
      "94                         Serbia     RS      2\n",
      "93                        Senegal     SN      2\n",
      "92                   Saudi Arabia     SA      2\n",
      "91                         Rwanda     RW      2\n",
      "62                      Lithuania     LT      2\n",
      "61                        Liberia     LR      2\n",
      "0                         Albania     AL      2\n",
      "59                         Latvia     LV      2\n",
      "26                 Czech Republic     CZ      2\n",
      "25                         Cyprus     CY      2\n",
      "24                        Croatia     HR      2\n",
      "23                     Costa Rica     CR      2\n",
      "22                       Colombia     CO      2\n",
      "21                          China     CN      2\n",
      "20                          Chile     CL      2\n",
      "19                           Chad     TD      2\n",
      "18                         Canada     CA      2\n",
      "17                       Cameroon     CM      2\n",
      "16                        Burundi     BI      2\n",
      "15                       Bulgaria     BG      2\n",
      "27   Democratic Republic of Congo     CD      2\n",
      "14                         Brazil     BR      2\n",
      "12         Bosnia and Herzegovina     BA      2\n",
      "11                        Bolivia     BO      2\n",
      "10                          Benin     BJ      2\n",
      "9                         Belgium     BE      2\n",
      "8                      Bangladesh     BD      2\n",
      "7                         Bahrain     BH      2\n",
      "6                      Azerbaijan     AZ      2\n",
      "5                         Austria     AT      2\n",
      "4                       Australia     AU      2\n",
      "3                         Armenia     AM      2\n",
      "2                       Argentina     AR      2\n",
      "1                         Algeria     DZ      2\n",
      "13                       Botswana     BW      2\n",
      "119                        Zambia     ZM      2\n",
      "28                        Denmark     DK      2\n",
      "30                        Ecuador     EC      2\n",
      "58                         Kuwait     KW      2\n",
      "57                  Korea (South)     KI      2\n",
      "56                          Kenya     KE      2\n",
      "55                     Kazakhstan     KZ      2\n",
      "54                         Jordan     JO      2\n",
      "53                          Japan     JP      2\n",
      "52                        Jamaica     JM      2\n",
      "51                          Italy     IT      2\n",
      "49                        Ireland     IE      2\n",
      "47                      Indonesia     ID      2\n",
      "46                          India     IN      2\n",
      "45                        Iceland     IS      2\n",
      "29             Dominican Republic     DO      2\n",
      "44                        Hungary     HU      2\n",
      "42                      Guatemala     GT      2\n",
      "41                         Greece     GR      2\n",
      "40                          Ghana     GH      2\n",
      "39                        Germany     DE      2\n",
      "38                        Georgia     GE      2\n",
      "37                          Gabon     GA      2\n",
      "36                         France     FR      2\n",
      "35                        Finland     FI      2\n",
      "34                       Ethiopia     ET      2\n",
      "33                        Estonia     EE      2\n",
      "32                    El Salvador     SV      2\n",
      "31                          Egypt     EG      2\n",
      "43                       Honduras     HN      2\n",
      "60                        Lebanon     LB      2\n"
     ]
    }
   ],
   "source": [
    "AC = AgglomerativeClustering(n_clusters = 3, linkage = 'single')\n",
    "AC.fit(X)\n",
    "\n",
    "y_ac = AC.labels_\n",
    "print(y_ac)\n",
    "\n",
    "result = pd.DataFrame({'Country':raw['Country'], 'Abbrev':raw['Abbrev'], 'Label':y_ac})\n",
    "with pd.option_context('display.max_rows', None, 'display.max_columns', 3):\n",
    "    print(result.sort_values('Label'))\n"
   ]
  },
  {
   "cell_type": "code",
   "execution_count": 82,
   "metadata": {},
   "outputs": [
    {
     "name": "stdout",
     "output_type": "stream",
     "text": [
      "[0 1 2]\n",
      "[  3   2 116]\n"
     ]
    }
   ],
   "source": [
    "unique, frequency = np.unique(y_ac, \n",
    "                              return_counts = True)\n",
    "print(unique)\n",
    "print(frequency)"
   ]
  },
  {
   "cell_type": "code",
   "execution_count": 83,
   "metadata": {},
   "outputs": [
    {
     "name": "stdout",
     "output_type": "stream",
     "text": [
      "[0 0 0 2 0 0 2 0 2 0 2 2 0 0 0 0 2 2 0 2 0 2 2 0 0 0 0 2 0 2 0 2 0 0 2 0 0\n",
      " 0 2 0 0 0 2 2 0 0 2 0 1 0 0 0 0 0 0 0 2 0 0 0 2 0 0 2 0 0 2 2 0 2 2 0 0 0\n",
      " 2 0 0 1 2 0 0 2 0 0 0 2 0 0 0 0 2 0 0 2 0 0 0 0 0 0 0 0 0 0 0 0 2 0 0 0 2\n",
      " 2 2 0 0 0 0 2 2 0 1]\n",
      "                          Country Abbrev  Label\n",
      "0                         Albania     AL      0\n",
      "57                  Korea (South)     KI      0\n",
      "92                   Saudi Arabia     SA      0\n",
      "55                     Kazakhstan     KZ      0\n",
      "54                         Jordan     JO      0\n",
      "53                          Japan     JP      0\n",
      "52                        Jamaica     JM      0\n",
      "51                          Italy     IT      0\n",
      "58                         Kuwait     KW      0\n",
      "50                         Israel     IL      0\n",
      "94                         Serbia     RS      0\n",
      "47                      Indonesia     ID      0\n",
      "95                   Sierra Leone     SL      0\n",
      "45                        Iceland     IS      0\n",
      "44                        Hungary     HU      0\n",
      "96                      Singapore     SG      0\n",
      "97                       Slovakia     SK      0\n",
      "49                        Ireland     IE      0\n",
      "59                         Latvia     LV      0\n",
      "119                        Zambia     ZM      0\n",
      "61                        Liberia     LR      0\n",
      "82                         Panama     PA      0\n",
      "83                       Paraguay     PY      0\n",
      "76                    New Zealand     NZ      0\n",
      "75                    Netherlands     NL      0\n",
      "84                           Peru     PE      0\n",
      "73                     Mozambique     MZ      0\n",
      "72                        Morocco     MA      0\n",
      "71                     Montenegro     ME      0\n",
      "86                         Poland     PL      0\n",
      "87                       Portugal     PT      0\n",
      "68                      Mauritius     MU      0\n",
      "88                          Qatar     QA      0\n",
      "89                        Romania     RO      0\n",
      "65                       Malaysia     MY      0\n",
      "64                         Malawi     MW      0\n",
      "91                         Rwanda     RW      0\n",
      "62                      Lithuania     LT      0\n",
      "41                         Greece     GR      0\n",
      "79                         Norway     NO      0\n",
      "40                          Ghana     GH      0\n",
      "98                       Slovenia     SI      0\n",
      "108           Trinidad and Tobago     TT      0\n",
      "15                       Bulgaria     BG      0\n",
      "14                         Brazil     BR      0\n",
      "13                       Botswana     BW      0\n",
      "12         Bosnia and Herzegovina     BA      0\n",
      "109                       Tunisia     TN      0\n",
      "113          United Arab Emirates     AE      0\n",
      "107          The FYR of Macedonia     MK      0\n",
      "9                         Belgium     BE      0\n",
      "7                         Bahrain     BH      0\n",
      "115                 United States     US      0\n",
      "5                         Austria     AT      0\n",
      "4                       Australia     AU      0\n",
      "116                       Uruguay     UY      0\n",
      "2                       Argentina     AR      0\n",
      "1                         Algeria     DZ      0\n",
      "114                United Kingdom     GB      0\n",
      "18                         Canada     CA      0\n",
      "105                      Tanzania     TZ      0\n",
      "20                          Chile     CL      0\n",
      "37                          Gabon     GA      0\n",
      "36                         France     FR      0\n",
      "35                        Finland     FI      0\n",
      "99                   South Africa     ZA      0\n",
      "33                        Estonia     EE      0\n",
      "32                    El Salvador     SV      0\n",
      "100                         Spain     ES      0\n",
      "30                        Ecuador     EC      0\n",
      "101                     Sri Lanka     LK      0\n",
      "28                        Denmark     DK      0\n",
      "102                        Sweden     SE      0\n",
      "26                 Czech Republic     CZ      0\n",
      "25                         Cyprus     CY      0\n",
      "24                        Croatia     HR      0\n",
      "23                     Costa Rica     CR      0\n",
      "103                   Switzerland     CH      0\n",
      "104                        Taiwan     SY      0\n",
      "39                        Germany     DE      0\n",
      "80                           Oman     OM      0\n",
      "120                      Zimbabwe     ZW      1\n",
      "77                      Nicaragua     NI      1\n",
      "48                           Iran     IR      1\n",
      "78                        Nigeria     NG      2\n",
      "21                          China     CN      2\n",
      "19                           Chad     TD      2\n",
      "106                      Thailand     TH      2\n",
      "17                       Cameroon     CM      2\n",
      "16                        Burundi     BI      2\n",
      "11                        Bolivia     BO      2\n",
      "110                        Turkey     TR      2\n",
      "111                        Uganda     UG      2\n",
      "112                       Ukraine     UA      2\n",
      "10                          Benin     BJ      2\n",
      "8                      Bangladesh     BD      2\n",
      "6                      Azerbaijan     AZ      2\n",
      "3                         Armenia     AM      2\n",
      "117                       Vietnam     VI      2\n",
      "118                         Yemen     YE      2\n",
      "22                       Colombia     CO      2\n",
      "27   Democratic Republic of Congo     CD      2\n",
      "29             Dominican Republic     DO      2\n",
      "31                          Egypt     EG      2\n",
      "74                          Nepal     NP      2\n",
      "85                    Philippines     PH      2\n",
      "70                        Moldova     FM      2\n",
      "69                         Mexico     MX      2\n",
      "67                     Mauritania     MR      2\n",
      "66                           Mali     ML      2\n",
      "90                         Russia     RU      2\n",
      "63                     Madagascar     MG      2\n",
      "56                          Kenya     KE      2\n",
      "93                        Senegal     SN      2\n",
      "46                          India     IN      2\n",
      "43                       Honduras     HN      2\n",
      "42                      Guatemala     GT      2\n",
      "38                        Georgia     GE      2\n",
      "34                       Ethiopia     ET      2\n",
      "81                       Pakistan     PK      2\n",
      "60                        Lebanon     LB      2\n"
     ]
    }
   ],
   "source": [
    "AC = AgglomerativeClustering(n_clusters = 3, linkage = 'complete')\n",
    "AC.fit(X)\n",
    "\n",
    "y_ac = AC.labels_\n",
    "print(y_ac)\n",
    "\n",
    "result = pd.DataFrame({'Country':raw['Country'], 'Abbrev':raw['Abbrev'], 'Label':y_ac})\n",
    "with pd.option_context('display.max_rows', None, 'display.max_columns', 3):\n",
    "    print(result.sort_values('Label'))"
   ]
  },
  {
   "cell_type": "code",
   "execution_count": 84,
   "metadata": {},
   "outputs": [
    {
     "name": "stdout",
     "output_type": "stream",
     "text": [
      "[0 1 2]\n",
      "[81  3 37]\n"
     ]
    }
   ],
   "source": [
    "unique, frequency = np.unique(y_ac, \n",
    "                              return_counts = True)\n",
    "print(unique)\n",
    "print(frequency)"
   ]
  },
  {
   "cell_type": "markdown",
   "metadata": {},
   "source": [
    "# E"
   ]
  },
  {
   "cell_type": "code",
   "execution_count": 31,
   "metadata": {},
   "outputs": [
    {
     "name": "stderr",
     "output_type": "stream",
     "text": [
      "C:\\Users\\xomai\\AppData\\Local\\Temp\\ipykernel_30248\\3156778534.py:1: FutureWarning: The frame.append method is deprecated and will be removed from pandas in a future version. Use pandas.concat instead.\n",
      "  raw2 = raw.append({'Country':'Venezuela', 'Abbrev':'VE', 'Corruption': 16, 'Peace':2.671, 'Legal':2.895, 'GDP Growth':-35 }, ignore_index=True)\n"
     ]
    }
   ],
   "source": [
    "raw2 = raw.append({'Country':'Venezuela', 'Abbrev':'VE', 'Corruption': 16, 'Peace':2.671, 'Legal':2.895, 'GDP Growth':-35 }, ignore_index=True)\n"
   ]
  },
  {
   "cell_type": "code",
   "execution_count": 32,
   "metadata": {},
   "outputs": [
    {
     "data": {
      "text/html": [
       "<div>\n",
       "<style scoped>\n",
       "    .dataframe tbody tr th:only-of-type {\n",
       "        vertical-align: middle;\n",
       "    }\n",
       "\n",
       "    .dataframe tbody tr th {\n",
       "        vertical-align: top;\n",
       "    }\n",
       "\n",
       "    .dataframe thead th {\n",
       "        text-align: right;\n",
       "    }\n",
       "</style>\n",
       "<table border=\"1\" class=\"dataframe\">\n",
       "  <thead>\n",
       "    <tr style=\"text-align: right;\">\n",
       "      <th></th>\n",
       "      <th>Country</th>\n",
       "      <th>Abbrev</th>\n",
       "      <th>Corruption</th>\n",
       "      <th>Peace</th>\n",
       "      <th>Legal</th>\n",
       "      <th>GDP Growth</th>\n",
       "    </tr>\n",
       "  </thead>\n",
       "  <tbody>\n",
       "    <tr>\n",
       "      <th>0</th>\n",
       "      <td>Albania</td>\n",
       "      <td>AL</td>\n",
       "      <td>35</td>\n",
       "      <td>1.821</td>\n",
       "      <td>4.546</td>\n",
       "      <td>2.983</td>\n",
       "    </tr>\n",
       "    <tr>\n",
       "      <th>1</th>\n",
       "      <td>Algeria</td>\n",
       "      <td>DZ</td>\n",
       "      <td>35</td>\n",
       "      <td>2.219</td>\n",
       "      <td>4.435</td>\n",
       "      <td>2.553</td>\n",
       "    </tr>\n",
       "    <tr>\n",
       "      <th>2</th>\n",
       "      <td>Argentina</td>\n",
       "      <td>AR</td>\n",
       "      <td>45</td>\n",
       "      <td>1.989</td>\n",
       "      <td>5.087</td>\n",
       "      <td>-3.061</td>\n",
       "    </tr>\n",
       "    <tr>\n",
       "      <th>3</th>\n",
       "      <td>Armenia</td>\n",
       "      <td>AM</td>\n",
       "      <td>42</td>\n",
       "      <td>2.294</td>\n",
       "      <td>4.812</td>\n",
       "      <td>6.000</td>\n",
       "    </tr>\n",
       "    <tr>\n",
       "      <th>4</th>\n",
       "      <td>Australia</td>\n",
       "      <td>AU</td>\n",
       "      <td>77</td>\n",
       "      <td>1.419</td>\n",
       "      <td>8.363</td>\n",
       "      <td>1.713</td>\n",
       "    </tr>\n",
       "    <tr>\n",
       "      <th>...</th>\n",
       "      <td>...</td>\n",
       "      <td>...</td>\n",
       "      <td>...</td>\n",
       "      <td>...</td>\n",
       "      <td>...</td>\n",
       "      <td>...</td>\n",
       "    </tr>\n",
       "    <tr>\n",
       "      <th>117</th>\n",
       "      <td>Vietnam</td>\n",
       "      <td>VI</td>\n",
       "      <td>37</td>\n",
       "      <td>1.877</td>\n",
       "      <td>5.084</td>\n",
       "      <td>6.500</td>\n",
       "    </tr>\n",
       "    <tr>\n",
       "      <th>118</th>\n",
       "      <td>Yemen</td>\n",
       "      <td>YE</td>\n",
       "      <td>15</td>\n",
       "      <td>3.369</td>\n",
       "      <td>2.671</td>\n",
       "      <td>2.113</td>\n",
       "    </tr>\n",
       "    <tr>\n",
       "      <th>119</th>\n",
       "      <td>Zambia</td>\n",
       "      <td>ZM</td>\n",
       "      <td>34</td>\n",
       "      <td>1.805</td>\n",
       "      <td>4.592</td>\n",
       "      <td>2.021</td>\n",
       "    </tr>\n",
       "    <tr>\n",
       "      <th>120</th>\n",
       "      <td>Zimbabwe</td>\n",
       "      <td>ZW</td>\n",
       "      <td>24</td>\n",
       "      <td>2.463</td>\n",
       "      <td>3.738</td>\n",
       "      <td>-7.077</td>\n",
       "    </tr>\n",
       "    <tr>\n",
       "      <th>121</th>\n",
       "      <td>Venezuela</td>\n",
       "      <td>VE</td>\n",
       "      <td>16</td>\n",
       "      <td>2.671</td>\n",
       "      <td>2.895</td>\n",
       "      <td>-35.000</td>\n",
       "    </tr>\n",
       "  </tbody>\n",
       "</table>\n",
       "<p>122 rows × 6 columns</p>\n",
       "</div>"
      ],
      "text/plain": [
       "       Country Abbrev  Corruption  Peace  Legal  GDP Growth\n",
       "0      Albania     AL          35  1.821  4.546       2.983\n",
       "1      Algeria     DZ          35  2.219  4.435       2.553\n",
       "2    Argentina     AR          45  1.989  5.087      -3.061\n",
       "3      Armenia     AM          42  2.294  4.812       6.000\n",
       "4    Australia     AU          77  1.419  8.363       1.713\n",
       "..         ...    ...         ...    ...    ...         ...\n",
       "117    Vietnam     VI          37  1.877  5.084       6.500\n",
       "118      Yemen     YE          15  3.369  2.671       2.113\n",
       "119     Zambia     ZM          34  1.805  4.592       2.021\n",
       "120   Zimbabwe     ZW          24  2.463  3.738      -7.077\n",
       "121  Venezuela     VE          16  2.671  2.895     -35.000\n",
       "\n",
       "[122 rows x 6 columns]"
      ]
     },
     "execution_count": 32,
     "metadata": {},
     "output_type": "execute_result"
    }
   ],
   "source": [
    "raw2"
   ]
  },
  {
   "cell_type": "code",
   "execution_count": 33,
   "metadata": {},
   "outputs": [],
   "source": [
    "X3 = raw2[['Peace', 'Legal', 'GDP Growth']]\n",
    "X3 = (X3 - X3.mean()) / X3.std()"
   ]
  },
  {
   "cell_type": "code",
   "execution_count": 34,
   "metadata": {},
   "outputs": [
    {
     "data": {
      "text/html": [
       "<div>\n",
       "<style scoped>\n",
       "    .dataframe tbody tr th:only-of-type {\n",
       "        vertical-align: middle;\n",
       "    }\n",
       "\n",
       "    .dataframe tbody tr th {\n",
       "        vertical-align: top;\n",
       "    }\n",
       "\n",
       "    .dataframe thead th {\n",
       "        text-align: right;\n",
       "    }\n",
       "</style>\n",
       "<table border=\"1\" class=\"dataframe\">\n",
       "  <thead>\n",
       "    <tr style=\"text-align: right;\">\n",
       "      <th></th>\n",
       "      <th>Peace</th>\n",
       "      <th>Legal</th>\n",
       "      <th>GDP Growth</th>\n",
       "    </tr>\n",
       "  </thead>\n",
       "  <tbody>\n",
       "    <tr>\n",
       "      <th>0</th>\n",
       "      <td>-0.400182</td>\n",
       "      <td>-0.849636</td>\n",
       "      <td>0.148881</td>\n",
       "    </tr>\n",
       "    <tr>\n",
       "      <th>1</th>\n",
       "      <td>0.458391</td>\n",
       "      <td>-0.929350</td>\n",
       "      <td>0.047927</td>\n",
       "    </tr>\n",
       "    <tr>\n",
       "      <th>2</th>\n",
       "      <td>-0.037769</td>\n",
       "      <td>-0.461122</td>\n",
       "      <td>-1.270112</td>\n",
       "    </tr>\n",
       "    <tr>\n",
       "      <th>3</th>\n",
       "      <td>0.620183</td>\n",
       "      <td>-0.658611</td>\n",
       "      <td>0.857204</td>\n",
       "    </tr>\n",
       "    <tr>\n",
       "      <th>4</th>\n",
       "      <td>-1.267384</td>\n",
       "      <td>1.891504</td>\n",
       "      <td>-0.149286</td>\n",
       "    </tr>\n",
       "    <tr>\n",
       "      <th>...</th>\n",
       "      <td>...</td>\n",
       "      <td>...</td>\n",
       "      <td>...</td>\n",
       "    </tr>\n",
       "    <tr>\n",
       "      <th>117</th>\n",
       "      <td>-0.279377</td>\n",
       "      <td>-0.463277</td>\n",
       "      <td>0.974593</td>\n",
       "    </tr>\n",
       "    <tr>\n",
       "      <th>118</th>\n",
       "      <td>2.939193</td>\n",
       "      <td>-2.196149</td>\n",
       "      <td>-0.055375</td>\n",
       "    </tr>\n",
       "    <tr>\n",
       "      <th>119</th>\n",
       "      <td>-0.434697</td>\n",
       "      <td>-0.816602</td>\n",
       "      <td>-0.076974</td>\n",
       "    </tr>\n",
       "    <tr>\n",
       "      <th>120</th>\n",
       "      <td>0.984753</td>\n",
       "      <td>-1.429893</td>\n",
       "      <td>-2.212977</td>\n",
       "    </tr>\n",
       "    <tr>\n",
       "      <th>121</th>\n",
       "      <td>1.433454</td>\n",
       "      <td>-2.035285</td>\n",
       "      <td>-8.768659</td>\n",
       "    </tr>\n",
       "  </tbody>\n",
       "</table>\n",
       "<p>122 rows × 3 columns</p>\n",
       "</div>"
      ],
      "text/plain": [
       "        Peace     Legal  GDP Growth\n",
       "0   -0.400182 -0.849636    0.148881\n",
       "1    0.458391 -0.929350    0.047927\n",
       "2   -0.037769 -0.461122   -1.270112\n",
       "3    0.620183 -0.658611    0.857204\n",
       "4   -1.267384  1.891504   -0.149286\n",
       "..        ...       ...         ...\n",
       "117 -0.279377 -0.463277    0.974593\n",
       "118  2.939193 -2.196149   -0.055375\n",
       "119 -0.434697 -0.816602   -0.076974\n",
       "120  0.984753 -1.429893   -2.212977\n",
       "121  1.433454 -2.035285   -8.768659\n",
       "\n",
       "[122 rows x 3 columns]"
      ]
     },
     "execution_count": 34,
     "metadata": {},
     "output_type": "execute_result"
    }
   ],
   "source": [
    "X3"
   ]
  },
  {
   "cell_type": "code",
   "execution_count": 35,
   "metadata": {},
   "outputs": [
    {
     "name": "stderr",
     "output_type": "stream",
     "text": [
      "C:\\Users\\xomai\\anaconda3\\lib\\site-packages\\sklearn\\cluster\\_kmeans.py:1036: UserWarning: KMeans is known to have a memory leak on Windows with MKL, when there are less chunks than available threads. You can avoid it by setting the environment variable OMP_NUM_THREADS=1.\n",
      "  warnings.warn(\n"
     ]
    },
    {
     "data": {
      "image/png": "[encoded data removed]",
      "text/plain": [
       "<Figure size 432x288 with 1 Axes>"
      ]
     },
     "metadata": {
      "needs_background": "light"
     },
     "output_type": "display_data"
    }
   ],
   "source": [
    "Ks = range(1, 10)\n",
    "inertia = [KMeans(i).fit(X3).inertia_ for i in Ks]\n",
    "\n",
    "fig = plt.figure()\n",
    "plt.plot(Ks, inertia, '-bo')\n",
    "plt.xlabel('Number of clusters')\n",
    "plt.ylabel('Inertia (within-cluster sum of squares)')\n",
    "plt.show()"
   ]
  },
  {
   "cell_type": "code",
   "execution_count": 36,
   "metadata": {},
   "outputs": [
    {
     "name": "stdout",
     "output_type": "stream",
     "text": [
      "inertia for k=3 is 147.3581596115833\n",
      "cluster centers:  [[ 0.50083526 -0.57899064  0.14262782]\n",
      " [ 1.4334541  -2.03528534 -8.76865913]\n",
      " [-0.9090402   1.05949011 -0.05031098]]\n"
     ]
    }
   ],
   "source": [
    "k = 3\n",
    "kmeans = KMeans(n_clusters=k, random_state=1)\n",
    "kmeans.fit(X3)\n",
    "\n",
    "# print inertia & cluster center\n",
    "print(\"inertia for k=3 is\", kmeans.inertia_)\n",
    "print(\"cluster centers: \", kmeans.cluster_centers_)\n",
    "\n",
    "# take a quick look at the result\n",
    "y = kmeans.labels_"
   ]
  },
  {
   "cell_type": "code",
   "execution_count": 37,
   "metadata": {},
   "outputs": [
    {
     "name": "stdout",
     "output_type": "stream",
     "text": [
      "                          Country Abbrev  Label\n",
      "0                         Albania     AL      0\n",
      "78                        Nigeria     NG      0\n",
      "77                      Nicaragua     NI      0\n",
      "74                          Nepal     NP      0\n",
      "73                     Mozambique     MZ      0\n",
      "72                        Morocco     MA      0\n",
      "71                     Montenegro     ME      0\n",
      "70                        Moldova     FM      0\n",
      "69                         Mexico     MX      0\n",
      "67                     Mauritania     MR      0\n",
      "81                       Pakistan     PK      0\n",
      "66                           Mali     ML      0\n",
      "63                     Madagascar     MG      0\n",
      "61                        Liberia     LR      0\n",
      "120                      Zimbabwe     ZW      0\n",
      "58                         Kuwait     KW      0\n",
      "56                          Kenya     KE      0\n",
      "55                     Kazakhstan     KZ      0\n",
      "54                         Jordan     JO      0\n",
      "52                        Jamaica     JM      0\n",
      "50                         Israel     IL      0\n",
      "64                         Malawi     MW      0\n",
      "48                           Iran     IR      0\n",
      "82                         Panama     PA      0\n",
      "84                           Peru     PE      0\n",
      "119                        Zambia     ZM      0\n",
      "118                         Yemen     YE      0\n",
      "117                       Vietnam     VI      0\n",
      "112                       Ukraine     UA      0\n",
      "111                        Uganda     UG      0\n",
      "110                        Turkey     TR      0\n",
      "109                       Tunisia     TN      0\n",
      "108           Trinidad and Tobago     TT      0\n",
      "107          The FYR of Macedonia     MK      0\n",
      "83                       Paraguay     PY      0\n",
      "106                      Thailand     TH      0\n",
      "101                     Sri Lanka     LK      0\n",
      "99                   South Africa     ZA      0\n",
      "95                   Sierra Leone     SL      0\n",
      "94                         Serbia     RS      0\n",
      "93                        Senegal     SN      0\n",
      "92                   Saudi Arabia     SA      0\n",
      "91                         Rwanda     RW      0\n",
      "90                         Russia     RU      0\n",
      "85                    Philippines     PH      0\n",
      "105                      Tanzania     TZ      0\n",
      "47                      Indonesia     ID      0\n",
      "60                        Lebanon     LB      0\n",
      "21                          China     CN      0\n",
      "27   Democratic Republic of Congo     CD      0\n",
      "46                          India     IN      0\n",
      "29             Dominican Republic     DO      0\n",
      "30                        Ecuador     EC      0\n",
      "31                          Egypt     EG      0\n",
      "32                    El Salvador     SV      0\n",
      "19                           Chad     TD      0\n",
      "17                       Cameroon     CM      0\n",
      "34                       Ethiopia     ET      0\n",
      "16                        Burundi     BI      0\n",
      "14                         Brazil     BR      0\n",
      "12         Bosnia and Herzegovina     BA      0\n",
      "22                       Colombia     CO      0\n",
      "11                        Bolivia     BO      0\n",
      "38                        Georgia     GE      0\n",
      "10                          Benin     BJ      0\n",
      "8                      Bangladesh     BD      0\n",
      "7                         Bahrain     BH      0\n",
      "40                          Ghana     GH      0\n",
      "41                         Greece     GR      0\n",
      "42                      Guatemala     GT      0\n",
      "6                      Azerbaijan     AZ      0\n",
      "43                       Honduras     HN      0\n",
      "3                         Armenia     AM      0\n",
      "2                       Argentina     AR      0\n",
      "1                         Algeria     DZ      0\n",
      "37                          Gabon     GA      0\n",
      "24                        Croatia     HR      0\n",
      "121                     Venezuela     VE      1\n",
      "25                         Cyprus     CY      2\n",
      "102                        Sweden     SE      2\n",
      "103                   Switzerland     CH      2\n",
      "104                        Taiwan     SY      2\n",
      "62                      Lithuania     LT      2\n",
      "59                         Latvia     LV      2\n",
      "9                         Belgium     BE      2\n",
      "39                        Germany     DE      2\n",
      "57                  Korea (South)     KI      2\n",
      "36                         France     FR      2\n",
      "53                          Japan     JP      2\n",
      "4                       Australia     AU      2\n",
      "113          United Arab Emirates     AE      2\n",
      "114                United Kingdom     GB      2\n",
      "115                 United States     US      2\n",
      "116                       Uruguay     UY      2\n",
      "51                          Italy     IT      2\n",
      "44                        Hungary     HU      2\n",
      "49                        Ireland     IE      2\n",
      "5                         Austria     AT      2\n",
      "100                         Spain     ES      2\n",
      "13                       Botswana     BW      2\n",
      "98                       Slovenia     SI      2\n",
      "79                         Norway     NO      2\n",
      "80                           Oman     OM      2\n",
      "76                    New Zealand     NZ      2\n",
      "23                     Costa Rica     CR      2\n",
      "75                    Netherlands     NL      2\n",
      "28                        Denmark     DK      2\n",
      "20                          Chile     CL      2\n",
      "86                         Poland     PL      2\n",
      "87                       Portugal     PT      2\n",
      "88                          Qatar     QA      2\n",
      "89                        Romania     RO      2\n",
      "68                      Mauritius     MU      2\n",
      "18                         Canada     CA      2\n",
      "33                        Estonia     EE      2\n",
      "65                       Malaysia     MY      2\n",
      "15                       Bulgaria     BG      2\n",
      "35                        Finland     FI      2\n",
      "96                      Singapore     SG      2\n",
      "97                       Slovakia     SK      2\n",
      "26                 Czech Republic     CZ      2\n",
      "45                        Iceland     IS      2\n"
     ]
    }
   ],
   "source": [
    "result = pd.DataFrame({'Country':raw2['Country'], 'Abbrev':raw2['Abbrev'], 'Label':y})\n",
    "with pd.option_context('display.max_rows', None, 'display.max_columns', 3):\n",
    "    print(result.sort_values('Label'))"
   ]
  },
  {
   "cell_type": "code",
   "execution_count": 38,
   "metadata": {},
   "outputs": [
    {
     "name": "stdout",
     "output_type": "stream",
     "text": [
      "inertia for k=3 is 147.3581596115833\n",
      "cluster centers:  [[ 0.50083526 -0.57899064  0.14262782]\n",
      " [ 1.4334541  -2.03528534 -8.76865913]\n",
      " [-0.9090402   1.05949011 -0.05031098]]\n",
      "cluster labels:  [0 0 0 0 2 2 0 0 0 2 0 0 0 2 0 2 0 0 2 0 2 0 0 2 0 2 2 0 2 0 0 0 0 2 0 2 2\n",
      " 0 0 2 0 0 0 0 2 2 0 0 0 2 0 2 0 2 0 0 0 2 0 2 0 0 2 0 0 2 0 0 2 0 0 0 0 0\n",
      " 0 2 2 0 0 2 2 0 0 0 0 0 2 2 2 2 0 0 0 0 0 0 2 2 2 0 2 0 2 2 2 0 0 0 0 0 0\n",
      " 0 0 2 2 2 2 0 0 0 0 1]\n"
     ]
    }
   ],
   "source": [
    "k = 3\n",
    "kmeans = KMeans(n_clusters=k, random_state=1, n_init= 40)\n",
    "kmeans.fit(X3)\n",
    "\n",
    "# print inertia & cluster center\n",
    "print(\"inertia for k=3 is\", kmeans.inertia_)\n",
    "print(\"cluster centers: \", kmeans.cluster_centers_)\n",
    "\n",
    "# take a quick look at the result\n",
    "y = kmeans.labels_\n",
    "print(\"cluster labels: \", y)"
   ]
  },
  {
   "cell_type": "code",
   "execution_count": 39,
   "metadata": {},
   "outputs": [
    {
     "name": "stdout",
     "output_type": "stream",
     "text": [
      "                          Country Abbrev  Label\n",
      "0                         Albania     AL      0\n",
      "78                        Nigeria     NG      0\n",
      "77                      Nicaragua     NI      0\n",
      "74                          Nepal     NP      0\n",
      "73                     Mozambique     MZ      0\n",
      "72                        Morocco     MA      0\n",
      "71                     Montenegro     ME      0\n",
      "70                        Moldova     FM      0\n",
      "69                         Mexico     MX      0\n",
      "67                     Mauritania     MR      0\n",
      "81                       Pakistan     PK      0\n",
      "66                           Mali     ML      0\n",
      "63                     Madagascar     MG      0\n",
      "61                        Liberia     LR      0\n",
      "120                      Zimbabwe     ZW      0\n",
      "58                         Kuwait     KW      0\n",
      "56                          Kenya     KE      0\n",
      "55                     Kazakhstan     KZ      0\n",
      "54                         Jordan     JO      0\n",
      "52                        Jamaica     JM      0\n",
      "50                         Israel     IL      0\n",
      "64                         Malawi     MW      0\n",
      "48                           Iran     IR      0\n",
      "82                         Panama     PA      0\n",
      "84                           Peru     PE      0\n",
      "119                        Zambia     ZM      0\n",
      "118                         Yemen     YE      0\n",
      "117                       Vietnam     VI      0\n",
      "112                       Ukraine     UA      0\n",
      "111                        Uganda     UG      0\n",
      "110                        Turkey     TR      0\n",
      "109                       Tunisia     TN      0\n",
      "108           Trinidad and Tobago     TT      0\n",
      "107          The FYR of Macedonia     MK      0\n",
      "83                       Paraguay     PY      0\n",
      "106                      Thailand     TH      0\n",
      "101                     Sri Lanka     LK      0\n",
      "99                   South Africa     ZA      0\n",
      "95                   Sierra Leone     SL      0\n",
      "94                         Serbia     RS      0\n",
      "93                        Senegal     SN      0\n",
      "92                   Saudi Arabia     SA      0\n",
      "91                         Rwanda     RW      0\n",
      "90                         Russia     RU      0\n",
      "85                    Philippines     PH      0\n",
      "105                      Tanzania     TZ      0\n",
      "47                      Indonesia     ID      0\n",
      "60                        Lebanon     LB      0\n",
      "21                          China     CN      0\n",
      "27   Democratic Republic of Congo     CD      0\n",
      "46                          India     IN      0\n",
      "29             Dominican Republic     DO      0\n",
      "30                        Ecuador     EC      0\n",
      "31                          Egypt     EG      0\n",
      "32                    El Salvador     SV      0\n",
      "19                           Chad     TD      0\n",
      "17                       Cameroon     CM      0\n",
      "34                       Ethiopia     ET      0\n",
      "16                        Burundi     BI      0\n",
      "14                         Brazil     BR      0\n",
      "12         Bosnia and Herzegovina     BA      0\n",
      "22                       Colombia     CO      0\n",
      "11                        Bolivia     BO      0\n",
      "38                        Georgia     GE      0\n",
      "10                          Benin     BJ      0\n",
      "8                      Bangladesh     BD      0\n",
      "7                         Bahrain     BH      0\n",
      "40                          Ghana     GH      0\n",
      "41                         Greece     GR      0\n",
      "42                      Guatemala     GT      0\n",
      "6                      Azerbaijan     AZ      0\n",
      "43                       Honduras     HN      0\n",
      "3                         Armenia     AM      0\n",
      "2                       Argentina     AR      0\n",
      "1                         Algeria     DZ      0\n",
      "37                          Gabon     GA      0\n",
      "24                        Croatia     HR      0\n",
      "121                     Venezuela     VE      1\n",
      "25                         Cyprus     CY      2\n",
      "102                        Sweden     SE      2\n",
      "103                   Switzerland     CH      2\n",
      "104                        Taiwan     SY      2\n",
      "62                      Lithuania     LT      2\n",
      "59                         Latvia     LV      2\n",
      "9                         Belgium     BE      2\n",
      "39                        Germany     DE      2\n",
      "57                  Korea (South)     KI      2\n",
      "36                         France     FR      2\n",
      "53                          Japan     JP      2\n",
      "4                       Australia     AU      2\n",
      "113          United Arab Emirates     AE      2\n",
      "114                United Kingdom     GB      2\n",
      "115                 United States     US      2\n",
      "116                       Uruguay     UY      2\n",
      "51                          Italy     IT      2\n",
      "44                        Hungary     HU      2\n",
      "49                        Ireland     IE      2\n",
      "5                         Austria     AT      2\n",
      "100                         Spain     ES      2\n",
      "13                       Botswana     BW      2\n",
      "98                       Slovenia     SI      2\n",
      "79                         Norway     NO      2\n",
      "80                           Oman     OM      2\n",
      "76                    New Zealand     NZ      2\n",
      "23                     Costa Rica     CR      2\n",
      "75                    Netherlands     NL      2\n",
      "28                        Denmark     DK      2\n",
      "20                          Chile     CL      2\n",
      "86                         Poland     PL      2\n",
      "87                       Portugal     PT      2\n",
      "88                          Qatar     QA      2\n",
      "89                        Romania     RO      2\n",
      "68                      Mauritius     MU      2\n",
      "18                         Canada     CA      2\n",
      "33                        Estonia     EE      2\n",
      "65                       Malaysia     MY      2\n",
      "15                       Bulgaria     BG      2\n",
      "35                        Finland     FI      2\n",
      "96                      Singapore     SG      2\n",
      "97                       Slovakia     SK      2\n",
      "26                 Czech Republic     CZ      2\n",
      "45                        Iceland     IS      2\n"
     ]
    }
   ],
   "source": [
    "result = pd.DataFrame({'Country':raw2['Country'], 'Abbrev':raw2['Abbrev'], 'Label':y})\n",
    "with pd.option_context('display.max_rows', None, 'display.max_columns', 3):\n",
    "    print(result.sort_values('Label'))"
   ]
  },
  {
   "cell_type": "code",
   "execution_count": 40,
   "metadata": {},
   "outputs": [
    {
     "name": "stdout",
     "output_type": "stream",
     "text": [
      "[0 0 0 0 1 1 0 1 0 1 0 0 0 1 1 1 0 0 1 0 1 0 0 1 1 1 1 0 1 0 0 0 0 1 0 1 1\n",
      " 0 0 1 0 0 0 0 1 1 0 0 0 1 1 1 1 1 1 0 0 1 1 1 0 0 1 0 0 1 0 0 1 0 0 0 1 0\n",
      " 0 1 1 0 0 1 1 0 0 0 0 0 1 1 1 1 0 0 1 0 0 0 1 1 1 1 1 0 1 1 1 0 0 0 1 0 0\n",
      " 0 0 1 1 1 1 0 0 0 0 2]\n",
      "                          Country Abbrev  Label\n",
      "0                         Albania     AL      0\n",
      "77                      Nicaragua     NI      0\n",
      "74                          Nepal     NP      0\n",
      "73                     Mozambique     MZ      0\n",
      "71                     Montenegro     ME      0\n",
      "70                        Moldova     FM      0\n",
      "69                         Mexico     MX      0\n",
      "67                     Mauritania     MR      0\n",
      "66                           Mali     ML      0\n",
      "64                         Malawi     MW      0\n",
      "63                     Madagascar     MG      0\n",
      "61                        Liberia     LR      0\n",
      "120                      Zimbabwe     ZW      0\n",
      "56                          Kenya     KE      0\n",
      "55                     Kazakhstan     KZ      0\n",
      "48                           Iran     IR      0\n",
      "47                      Indonesia     ID      0\n",
      "46                          India     IN      0\n",
      "78                        Nigeria     NG      0\n",
      "81                       Pakistan     PK      0\n",
      "82                         Panama     PA      0\n",
      "83                       Paraguay     PY      0\n",
      "119                        Zambia     ZM      0\n",
      "118                         Yemen     YE      0\n",
      "117                       Vietnam     VI      0\n",
      "112                       Ukraine     UA      0\n",
      "111                        Uganda     UG      0\n",
      "110                        Turkey     TR      0\n",
      "109                       Tunisia     TN      0\n",
      "107          The FYR of Macedonia     MK      0\n",
      "43                       Honduras     HN      0\n",
      "106                      Thailand     TH      0\n",
      "101                     Sri Lanka     LK      0\n",
      "95                   Sierra Leone     SL      0\n",
      "94                         Serbia     RS      0\n",
      "93                        Senegal     SN      0\n",
      "91                         Rwanda     RW      0\n",
      "90                         Russia     RU      0\n",
      "85                    Philippines     PH      0\n",
      "84                           Peru     PE      0\n",
      "105                      Tanzania     TZ      0\n",
      "42                      Guatemala     GT      0\n",
      "60                        Lebanon     LB      0\n",
      "40                          Ghana     GH      0\n",
      "27   Democratic Republic of Congo     CD      0\n",
      "11                        Bolivia     BO      0\n",
      "29             Dominican Republic     DO      0\n",
      "30                        Ecuador     EC      0\n",
      "16                        Burundi     BI      0\n",
      "31                          Egypt     EG      0\n",
      "32                    El Salvador     SV      0\n",
      "12         Bosnia and Herzegovina     BA      0\n",
      "10                          Benin     BJ      0\n",
      "34                       Ethiopia     ET      0\n",
      "8                      Bangladesh     BD      0\n",
      "22                       Colombia     CO      0\n",
      "17                       Cameroon     CM      0\n",
      "1                         Algeria     DZ      0\n",
      "2                       Argentina     AR      0\n",
      "21                          China     CN      0\n",
      "41                         Greece     GR      0\n",
      "19                           Chad     TD      0\n",
      "3                         Armenia     AM      0\n",
      "6                      Azerbaijan     AZ      0\n",
      "37                          Gabon     GA      0\n",
      "38                        Georgia     GE      0\n",
      "96                      Singapore     SG      1\n",
      "14                         Brazil     BR      1\n",
      "13                       Botswana     BW      1\n",
      "92                   Saudi Arabia     SA      1\n",
      "97                       Slovakia     SK      1\n",
      "15                       Bulgaria     BG      1\n",
      "98                       Slovenia     SI      1\n",
      "103                   Switzerland     CH      1\n",
      "100                         Spain     ES      1\n",
      "102                        Sweden     SE      1\n",
      "104                        Taiwan     SY      1\n",
      "9                         Belgium     BE      1\n",
      "108           Trinidad and Tobago     TT      1\n",
      "7                         Bahrain     BH      1\n",
      "5                         Austria     AT      1\n",
      "4                       Australia     AU      1\n",
      "113          United Arab Emirates     AE      1\n",
      "114                United Kingdom     GB      1\n",
      "115                 United States     US      1\n",
      "116                       Uruguay     UY      1\n",
      "99                   South Africa     ZA      1\n",
      "89                        Romania     RO      1\n",
      "20                          Chile     CL      1\n",
      "87                       Portugal     PT      1\n",
      "44                        Hungary     HU      1\n",
      "45                        Iceland     IS      1\n",
      "39                        Germany     DE      1\n",
      "49                        Ireland     IE      1\n",
      "50                         Israel     IL      1\n",
      "51                          Italy     IT      1\n",
      "52                        Jamaica     JM      1\n",
      "53                          Japan     JP      1\n",
      "54                         Jordan     JO      1\n",
      "36                         France     FR      1\n",
      "35                        Finland     FI      1\n",
      "57                  Korea (South)     KI      1\n",
      "58                         Kuwait     KW      1\n",
      "59                         Latvia     LV      1\n",
      "88                          Qatar     QA      1\n",
      "33                        Estonia     EE      1\n",
      "65                       Malaysia     MY      1\n",
      "68                      Mauritius     MU      1\n",
      "28                        Denmark     DK      1\n",
      "26                 Czech Republic     CZ      1\n",
      "72                        Morocco     MA      1\n",
      "25                         Cyprus     CY      1\n",
      "24                        Croatia     HR      1\n",
      "75                    Netherlands     NL      1\n",
      "76                    New Zealand     NZ      1\n",
      "23                     Costa Rica     CR      1\n",
      "79                         Norway     NO      1\n",
      "80                           Oman     OM      1\n",
      "18                         Canada     CA      1\n",
      "86                         Poland     PL      1\n",
      "62                      Lithuania     LT      1\n",
      "121                     Venezuela     VE      2\n"
     ]
    }
   ],
   "source": [
    "AC = AgglomerativeClustering(n_clusters = 3)\n",
    "\n",
    "AC.fit(X3)\n",
    "\n",
    "y_ac = AC.labels_\n",
    "print(y_ac)\n",
    "\n",
    "result = pd.DataFrame({'Country':raw2['Country'], 'Abbrev':raw2['Abbrev'], 'Label':y_ac})\n",
    "with pd.option_context('display.max_rows', None, 'display.max_columns', 3):\n",
    "    print(result.sort_values('Label'))"
   ]
  },
  {
   "cell_type": "code",
   "execution_count": null,
   "metadata": {},
   "outputs": [],
   "source": []
  },
  {
   "cell_type": "code",
   "execution_count": null,
   "metadata": {},
   "outputs": [],
   "source": []
  }
 ],
 "metadata": {
  "kernelspec": {
   "display_name": "Python 3 (ipykernel)",
   "language": "python",
   "name": "python3"
  },
  "language_info": {
   "codemirror_mode": {
    "name": "ipython",
    "version": 3
   },
   "file_extension": ".py",
   "mimetype": "text/x-python",
   "name": "python",
   "nbconvert_exporter": "python",
   "pygments_lexer": "ipython3",
   "version": "3.9.12"
  }
 },
 "nbformat": 4,
 "nbformat_minor": 2
}
