{
 "cells": [
  {
   "cell_type": "code",
   "execution_count": 1,
   "id": "a40ca1f3",
   "metadata": {},
   "outputs": [],
   "source": [
    "import numpy as np\n",
    "import pandas as pd\n",
    "import matplotlib.pyplot as plt"
   ]
  },
  {
   "cell_type": "code",
   "execution_count": 2,
   "id": "4377748a",
   "metadata": {},
   "outputs": [],
   "source": [
    "df_AAPL = pd.read_csv('AAPL.csv')\n",
    "df_JPM = pd.read_csv('JPM.csv')\n",
    "df_SPY = pd.read_csv('SPY.csv')"
   ]
  },
  {
   "cell_type": "markdown",
   "id": "4a098a7b",
   "metadata": {},
   "source": [
    "## Q1"
   ]
  },
  {
   "cell_type": "code",
   "execution_count": 3,
   "id": "7f107ab1",
   "metadata": {},
   "outputs": [
    {
     "data": {
      "text/html": [
       "<div>\n",
       "<style scoped>\n",
       "    .dataframe tbody tr th:only-of-type {\n",
       "        vertical-align: middle;\n",
       "    }\n",
       "\n",
       "    .dataframe tbody tr th {\n",
       "        vertical-align: top;\n",
       "    }\n",
       "\n",
       "    .dataframe thead th {\n",
       "        text-align: right;\n",
       "    }\n",
       "</style>\n",
       "<table border=\"1\" class=\"dataframe\">\n",
       "  <thead>\n",
       "    <tr style=\"text-align: right;\">\n",
       "      <th></th>\n",
       "      <th>Date</th>\n",
       "      <th>Open</th>\n",
       "      <th>High</th>\n",
       "      <th>Low</th>\n",
       "      <th>Close</th>\n",
       "      <th>Adj Close</th>\n",
       "      <th>Volume</th>\n",
       "    </tr>\n",
       "  </thead>\n",
       "  <tbody>\n",
       "    <tr>\n",
       "      <th>0</th>\n",
       "      <td>2017-08-21</td>\n",
       "      <td>242.639999</td>\n",
       "      <td>243.199997</td>\n",
       "      <td>241.830002</td>\n",
       "      <td>242.899994</td>\n",
       "      <td>221.798569</td>\n",
       "      <td>65469700</td>\n",
       "    </tr>\n",
       "    <tr>\n",
       "      <th>1</th>\n",
       "      <td>2017-08-22</td>\n",
       "      <td>243.570007</td>\n",
       "      <td>245.619995</td>\n",
       "      <td>243.550003</td>\n",
       "      <td>245.440002</td>\n",
       "      <td>224.117905</td>\n",
       "      <td>63140100</td>\n",
       "    </tr>\n",
       "    <tr>\n",
       "      <th>2</th>\n",
       "      <td>2017-08-23</td>\n",
       "      <td>244.330002</td>\n",
       "      <td>245.050003</td>\n",
       "      <td>244.160004</td>\n",
       "      <td>244.559998</td>\n",
       "      <td>223.314331</td>\n",
       "      <td>50203800</td>\n",
       "    </tr>\n",
       "    <tr>\n",
       "      <th>3</th>\n",
       "      <td>2017-08-24</td>\n",
       "      <td>245.000000</td>\n",
       "      <td>245.179993</td>\n",
       "      <td>243.750000</td>\n",
       "      <td>243.990005</td>\n",
       "      <td>222.793884</td>\n",
       "      <td>50741700</td>\n",
       "    </tr>\n",
       "    <tr>\n",
       "      <th>4</th>\n",
       "      <td>2017-08-25</td>\n",
       "      <td>244.899994</td>\n",
       "      <td>245.610001</td>\n",
       "      <td>244.389999</td>\n",
       "      <td>244.559998</td>\n",
       "      <td>223.314331</td>\n",
       "      <td>64445900</td>\n",
       "    </tr>\n",
       "  </tbody>\n",
       "</table>\n",
       "</div>"
      ],
      "text/plain": [
       "         Date        Open        High         Low       Close   Adj Close  \\\n",
       "0  2017-08-21  242.639999  243.199997  241.830002  242.899994  221.798569   \n",
       "1  2017-08-22  243.570007  245.619995  243.550003  245.440002  224.117905   \n",
       "2  2017-08-23  244.330002  245.050003  244.160004  244.559998  223.314331   \n",
       "3  2017-08-24  245.000000  245.179993  243.750000  243.990005  222.793884   \n",
       "4  2017-08-25  244.899994  245.610001  244.389999  244.559998  223.314331   \n",
       "\n",
       "     Volume  \n",
       "0  65469700  \n",
       "1  63140100  \n",
       "2  50203800  \n",
       "3  50741700  \n",
       "4  64445900  "
      ]
     },
     "execution_count": 3,
     "metadata": {},
     "output_type": "execute_result"
    }
   ],
   "source": [
    "df_SPY.head()"
   ]
  },
  {
   "cell_type": "code",
   "execution_count": 4,
   "id": "8c9907e0",
   "metadata": {},
   "outputs": [
    {
     "data": {
      "image/png": "[encoded data removed]",
      "text/plain": [
       "<Figure size 432x288 with 1 Axes>"
      ]
     },
     "metadata": {
      "needs_background": "light"
     },
     "output_type": "display_data"
    }
   ],
   "source": [
    "plt.plot(df_SPY['Date'], df_SPY['Close'])\n",
    "plt.rcParams[\"figure.figsize\"] = (20,10)\n",
    "plt.tick_params(axis = 'x', which = 'both', bottom =False, top =False, labelbottom = False)"
   ]
  },
  {
   "cell_type": "code",
   "execution_count": 5,
   "id": "05ede322",
   "metadata": {},
   "outputs": [
    {
     "data": {
      "text/plain": [
       "pandas.core.series.Series"
      ]
     },
     "execution_count": 5,
     "metadata": {},
     "output_type": "execute_result"
    }
   ],
   "source": [
    "type(df_SPY['Adj Close'])"
   ]
  },
  {
   "cell_type": "markdown",
   "id": "fb05b719",
   "metadata": {},
   "source": [
    "## Q2 "
   ]
  },
  {
   "cell_type": "code",
   "execution_count": 6,
   "id": "8a55b5d3",
   "metadata": {},
   "outputs": [],
   "source": [
    "df_SPY['pct_change'] = df_SPY['Adj Close'].pct_change()"
   ]
  },
  {
   "cell_type": "code",
   "execution_count": 7,
   "id": "48329bab",
   "metadata": {},
   "outputs": [],
   "source": [
    "df_JPM['pct_change'] = df_JPM['Adj Close'].pct_change()"
   ]
  },
  {
   "cell_type": "code",
   "execution_count": 8,
   "id": "62e6d732",
   "metadata": {},
   "outputs": [],
   "source": [
    "df_AAPL['pct_change'] = df_AAPL['Adj Close'].pct_change()"
   ]
  },
  {
   "cell_type": "code",
   "execution_count": 9,
   "id": "7187158f",
   "metadata": {},
   "outputs": [
    {
     "data": {
      "text/html": [
       "<div>\n",
       "<style scoped>\n",
       "    .dataframe tbody tr th:only-of-type {\n",
       "        vertical-align: middle;\n",
       "    }\n",
       "\n",
       "    .dataframe tbody tr th {\n",
       "        vertical-align: top;\n",
       "    }\n",
       "\n",
       "    .dataframe thead th {\n",
       "        text-align: right;\n",
       "    }\n",
       "</style>\n",
       "<table border=\"1\" class=\"dataframe\">\n",
       "  <thead>\n",
       "    <tr style=\"text-align: right;\">\n",
       "      <th></th>\n",
       "      <th>Date</th>\n",
       "      <th>Open</th>\n",
       "      <th>High</th>\n",
       "      <th>Low</th>\n",
       "      <th>Close</th>\n",
       "      <th>Adj Close</th>\n",
       "      <th>Volume</th>\n",
       "      <th>pct_change</th>\n",
       "    </tr>\n",
       "  </thead>\n",
       "  <tbody>\n",
       "    <tr>\n",
       "      <th>0</th>\n",
       "      <td>2017-08-21</td>\n",
       "      <td>39.375000</td>\n",
       "      <td>39.472500</td>\n",
       "      <td>38.777500</td>\n",
       "      <td>39.302502</td>\n",
       "      <td>37.300640</td>\n",
       "      <td>105474000</td>\n",
       "      <td>NaN</td>\n",
       "    </tr>\n",
       "    <tr>\n",
       "      <th>1</th>\n",
       "      <td>2017-08-22</td>\n",
       "      <td>39.557499</td>\n",
       "      <td>40.000000</td>\n",
       "      <td>39.505001</td>\n",
       "      <td>39.945000</td>\n",
       "      <td>37.910423</td>\n",
       "      <td>86418400</td>\n",
       "      <td>0.016348</td>\n",
       "    </tr>\n",
       "    <tr>\n",
       "      <th>2</th>\n",
       "      <td>2017-08-23</td>\n",
       "      <td>39.767502</td>\n",
       "      <td>40.117500</td>\n",
       "      <td>39.720001</td>\n",
       "      <td>39.994999</td>\n",
       "      <td>37.957859</td>\n",
       "      <td>77596400</td>\n",
       "      <td>0.001251</td>\n",
       "    </tr>\n",
       "    <tr>\n",
       "      <th>3</th>\n",
       "      <td>2017-08-24</td>\n",
       "      <td>40.107498</td>\n",
       "      <td>40.185001</td>\n",
       "      <td>39.637501</td>\n",
       "      <td>39.817501</td>\n",
       "      <td>37.789410</td>\n",
       "      <td>79275600</td>\n",
       "      <td>-0.004438</td>\n",
       "    </tr>\n",
       "    <tr>\n",
       "      <th>4</th>\n",
       "      <td>2017-08-25</td>\n",
       "      <td>39.912498</td>\n",
       "      <td>40.139999</td>\n",
       "      <td>39.817501</td>\n",
       "      <td>39.965000</td>\n",
       "      <td>37.929405</td>\n",
       "      <td>101920400</td>\n",
       "      <td>0.003705</td>\n",
       "    </tr>\n",
       "  </tbody>\n",
       "</table>\n",
       "</div>"
      ],
      "text/plain": [
       "         Date       Open       High        Low      Close  Adj Close  \\\n",
       "0  2017-08-21  39.375000  39.472500  38.777500  39.302502  37.300640   \n",
       "1  2017-08-22  39.557499  40.000000  39.505001  39.945000  37.910423   \n",
       "2  2017-08-23  39.767502  40.117500  39.720001  39.994999  37.957859   \n",
       "3  2017-08-24  40.107498  40.185001  39.637501  39.817501  37.789410   \n",
       "4  2017-08-25  39.912498  40.139999  39.817501  39.965000  37.929405   \n",
       "\n",
       "      Volume  pct_change  \n",
       "0  105474000         NaN  \n",
       "1   86418400    0.016348  \n",
       "2   77596400    0.001251  \n",
       "3   79275600   -0.004438  \n",
       "4  101920400    0.003705  "
      ]
     },
     "execution_count": 9,
     "metadata": {},
     "output_type": "execute_result"
    }
   ],
   "source": [
    "df_AAPL.head()"
   ]
  },
  {
   "cell_type": "code",
   "execution_count": 10,
   "id": "7385fd61",
   "metadata": {},
   "outputs": [
    {
     "data": {
      "text/html": [
       "<div>\n",
       "<style scoped>\n",
       "    .dataframe tbody tr th:only-of-type {\n",
       "        vertical-align: middle;\n",
       "    }\n",
       "\n",
       "    .dataframe tbody tr th {\n",
       "        vertical-align: top;\n",
       "    }\n",
       "\n",
       "    .dataframe thead th {\n",
       "        text-align: right;\n",
       "    }\n",
       "</style>\n",
       "<table border=\"1\" class=\"dataframe\">\n",
       "  <thead>\n",
       "    <tr style=\"text-align: right;\">\n",
       "      <th></th>\n",
       "      <th>Date</th>\n",
       "      <th>Open</th>\n",
       "      <th>High</th>\n",
       "      <th>Low</th>\n",
       "      <th>Close</th>\n",
       "      <th>Adj Close</th>\n",
       "      <th>Volume</th>\n",
       "      <th>pct_change</th>\n",
       "    </tr>\n",
       "  </thead>\n",
       "  <tbody>\n",
       "    <tr>\n",
       "      <th>0</th>\n",
       "      <td>2017-08-21</td>\n",
       "      <td>90.849998</td>\n",
       "      <td>90.940002</td>\n",
       "      <td>90.160004</td>\n",
       "      <td>90.629997</td>\n",
       "      <td>78.643066</td>\n",
       "      <td>11502100</td>\n",
       "      <td>NaN</td>\n",
       "    </tr>\n",
       "    <tr>\n",
       "      <th>1</th>\n",
       "      <td>2017-08-22</td>\n",
       "      <td>91.070000</td>\n",
       "      <td>91.709999</td>\n",
       "      <td>91.000000</td>\n",
       "      <td>91.559998</td>\n",
       "      <td>79.450058</td>\n",
       "      <td>9211800</td>\n",
       "      <td>0.010261</td>\n",
       "    </tr>\n",
       "    <tr>\n",
       "      <th>2</th>\n",
       "      <td>2017-08-23</td>\n",
       "      <td>90.870003</td>\n",
       "      <td>92.339996</td>\n",
       "      <td>90.839996</td>\n",
       "      <td>91.669998</td>\n",
       "      <td>79.545494</td>\n",
       "      <td>8811300</td>\n",
       "      <td>0.001201</td>\n",
       "    </tr>\n",
       "    <tr>\n",
       "      <th>3</th>\n",
       "      <td>2017-08-24</td>\n",
       "      <td>91.930000</td>\n",
       "      <td>92.120003</td>\n",
       "      <td>91.410004</td>\n",
       "      <td>91.519997</td>\n",
       "      <td>79.415337</td>\n",
       "      <td>8623200</td>\n",
       "      <td>-0.001636</td>\n",
       "    </tr>\n",
       "    <tr>\n",
       "      <th>4</th>\n",
       "      <td>2017-08-25</td>\n",
       "      <td>91.879997</td>\n",
       "      <td>92.480003</td>\n",
       "      <td>91.800003</td>\n",
       "      <td>91.889999</td>\n",
       "      <td>79.736397</td>\n",
       "      <td>11794600</td>\n",
       "      <td>0.004043</td>\n",
       "    </tr>\n",
       "  </tbody>\n",
       "</table>\n",
       "</div>"
      ],
      "text/plain": [
       "         Date       Open       High        Low      Close  Adj Close  \\\n",
       "0  2017-08-21  90.849998  90.940002  90.160004  90.629997  78.643066   \n",
       "1  2017-08-22  91.070000  91.709999  91.000000  91.559998  79.450058   \n",
       "2  2017-08-23  90.870003  92.339996  90.839996  91.669998  79.545494   \n",
       "3  2017-08-24  91.930000  92.120003  91.410004  91.519997  79.415337   \n",
       "4  2017-08-25  91.879997  92.480003  91.800003  91.889999  79.736397   \n",
       "\n",
       "     Volume  pct_change  \n",
       "0  11502100         NaN  \n",
       "1   9211800    0.010261  \n",
       "2   8811300    0.001201  \n",
       "3   8623200   -0.001636  \n",
       "4  11794600    0.004043  "
      ]
     },
     "execution_count": 10,
     "metadata": {},
     "output_type": "execute_result"
    }
   ],
   "source": [
    "df_JPM.head()"
   ]
  },
  {
   "cell_type": "code",
   "execution_count": 11,
   "id": "b68e9198",
   "metadata": {},
   "outputs": [
    {
     "data": {
      "text/html": [
       "<div>\n",
       "<style scoped>\n",
       "    .dataframe tbody tr th:only-of-type {\n",
       "        vertical-align: middle;\n",
       "    }\n",
       "\n",
       "    .dataframe tbody tr th {\n",
       "        vertical-align: top;\n",
       "    }\n",
       "\n",
       "    .dataframe thead th {\n",
       "        text-align: right;\n",
       "    }\n",
       "</style>\n",
       "<table border=\"1\" class=\"dataframe\">\n",
       "  <thead>\n",
       "    <tr style=\"text-align: right;\">\n",
       "      <th></th>\n",
       "      <th>Date</th>\n",
       "      <th>Open</th>\n",
       "      <th>High</th>\n",
       "      <th>Low</th>\n",
       "      <th>Close</th>\n",
       "      <th>Adj Close</th>\n",
       "      <th>Volume</th>\n",
       "      <th>pct_change</th>\n",
       "    </tr>\n",
       "  </thead>\n",
       "  <tbody>\n",
       "    <tr>\n",
       "      <th>0</th>\n",
       "      <td>2017-08-21</td>\n",
       "      <td>242.639999</td>\n",
       "      <td>243.199997</td>\n",
       "      <td>241.830002</td>\n",
       "      <td>242.899994</td>\n",
       "      <td>221.798569</td>\n",
       "      <td>65469700</td>\n",
       "      <td>NaN</td>\n",
       "    </tr>\n",
       "    <tr>\n",
       "      <th>1</th>\n",
       "      <td>2017-08-22</td>\n",
       "      <td>243.570007</td>\n",
       "      <td>245.619995</td>\n",
       "      <td>243.550003</td>\n",
       "      <td>245.440002</td>\n",
       "      <td>224.117905</td>\n",
       "      <td>63140100</td>\n",
       "      <td>0.010457</td>\n",
       "    </tr>\n",
       "    <tr>\n",
       "      <th>2</th>\n",
       "      <td>2017-08-23</td>\n",
       "      <td>244.330002</td>\n",
       "      <td>245.050003</td>\n",
       "      <td>244.160004</td>\n",
       "      <td>244.559998</td>\n",
       "      <td>223.314331</td>\n",
       "      <td>50203800</td>\n",
       "      <td>-0.003585</td>\n",
       "    </tr>\n",
       "    <tr>\n",
       "      <th>3</th>\n",
       "      <td>2017-08-24</td>\n",
       "      <td>245.000000</td>\n",
       "      <td>245.179993</td>\n",
       "      <td>243.750000</td>\n",
       "      <td>243.990005</td>\n",
       "      <td>222.793884</td>\n",
       "      <td>50741700</td>\n",
       "      <td>-0.002331</td>\n",
       "    </tr>\n",
       "    <tr>\n",
       "      <th>4</th>\n",
       "      <td>2017-08-25</td>\n",
       "      <td>244.899994</td>\n",
       "      <td>245.610001</td>\n",
       "      <td>244.389999</td>\n",
       "      <td>244.559998</td>\n",
       "      <td>223.314331</td>\n",
       "      <td>64445900</td>\n",
       "      <td>0.002336</td>\n",
       "    </tr>\n",
       "  </tbody>\n",
       "</table>\n",
       "</div>"
      ],
      "text/plain": [
       "         Date        Open        High         Low       Close   Adj Close  \\\n",
       "0  2017-08-21  242.639999  243.199997  241.830002  242.899994  221.798569   \n",
       "1  2017-08-22  243.570007  245.619995  243.550003  245.440002  224.117905   \n",
       "2  2017-08-23  244.330002  245.050003  244.160004  244.559998  223.314331   \n",
       "3  2017-08-24  245.000000  245.179993  243.750000  243.990005  222.793884   \n",
       "4  2017-08-25  244.899994  245.610001  244.389999  244.559998  223.314331   \n",
       "\n",
       "     Volume  pct_change  \n",
       "0  65469700         NaN  \n",
       "1  63140100    0.010457  \n",
       "2  50203800   -0.003585  \n",
       "3  50741700   -0.002331  \n",
       "4  64445900    0.002336  "
      ]
     },
     "execution_count": 11,
     "metadata": {},
     "output_type": "execute_result"
    }
   ],
   "source": [
    "df_SPY.head()"
   ]
  },
  {
   "cell_type": "markdown",
   "id": "da38eec0",
   "metadata": {},
   "source": [
    "## Q3"
   ]
  },
  {
   "cell_type": "code",
   "execution_count": 12,
   "id": "f0de2e7a",
   "metadata": {},
   "outputs": [],
   "source": [
    "from sklearn.model_selection import train_test_split"
   ]
  },
  {
   "cell_type": "code",
   "execution_count": 13,
   "id": "9e4b01ac",
   "metadata": {},
   "outputs": [],
   "source": [
    "from sklearn.linear_model import LinearRegression"
   ]
  },
  {
   "cell_type": "code",
   "execution_count": 14,
   "id": "ee625a37",
   "metadata": {},
   "outputs": [
    {
     "data": {
      "text/plain": [
       "1    0.010457\n",
       "2   -0.003585\n",
       "3   -0.002331\n",
       "4    0.002336\n",
       "5    0.000041\n",
       "Name: pct_change, dtype: float64"
      ]
     },
     "execution_count": 14,
     "metadata": {},
     "output_type": "execute_result"
    }
   ],
   "source": [
    "SPY_ret = df_SPY['pct_change']\n",
    "SPY_ret.drop(0, inplace = True)\n",
    "SPY_ret.head()"
   ]
  },
  {
   "cell_type": "code",
   "execution_count": 15,
   "id": "53d7cdda",
   "metadata": {},
   "outputs": [
    {
     "data": {
      "text/plain": [
       "1    0.016348\n",
       "2    0.001251\n",
       "3   -0.004438\n",
       "4    0.003705\n",
       "5    0.010071\n",
       "Name: pct_change, dtype: float64"
      ]
     },
     "execution_count": 15,
     "metadata": {},
     "output_type": "execute_result"
    }
   ],
   "source": [
    "AAPL_ret = df_AAPL['pct_change']\n",
    "AAPL_ret.drop(0, inplace = True)\n",
    "AAPL_ret.head()"
   ]
  },
  {
   "cell_type": "code",
   "execution_count": 16,
   "id": "d047bcfd",
   "metadata": {},
   "outputs": [],
   "source": [
    "SPY_ret = SPY_ret.values.reshape(-1,1)"
   ]
  },
  {
   "cell_type": "code",
   "execution_count": 17,
   "id": "3f27bb65",
   "metadata": {},
   "outputs": [],
   "source": [
    "lr = LinearRegression()"
   ]
  },
  {
   "cell_type": "code",
   "execution_count": 18,
   "id": "6f491f6c",
   "metadata": {},
   "outputs": [
    {
     "data": {
      "text/plain": [
       "LinearRegression()"
      ]
     },
     "execution_count": 18,
     "metadata": {},
     "output_type": "execute_result"
    }
   ],
   "source": [
    "lr.fit(SPY_ret, AAPL_ret)"
   ]
  },
  {
   "cell_type": "code",
   "execution_count": 19,
   "id": "3f887338",
   "metadata": {},
   "outputs": [
    {
     "name": "stdout",
     "output_type": "stream",
     "text": [
      "intercept: 0.0006812430640206729\n",
      "coefficients: [1.2294445]\n"
     ]
    }
   ],
   "source": [
    "print(f'intercept: {lr.intercept_}')\n",
    "print(f'coefficients: {lr.coef_}')"
   ]
  },
  {
   "cell_type": "code",
   "execution_count": 20,
   "id": "214e90b3",
   "metadata": {},
   "outputs": [
    {
     "data": {
      "text/plain": [
       "1    0.010261\n",
       "2    0.001201\n",
       "3   -0.001636\n",
       "4    0.004043\n",
       "5   -0.003156\n",
       "Name: pct_change, dtype: float64"
      ]
     },
     "execution_count": 20,
     "metadata": {},
     "output_type": "execute_result"
    }
   ],
   "source": [
    "JPM_ret = df_JPM['pct_change']\n",
    "JPM_ret.drop(0, inplace = True)\n",
    "JPM_ret.head()"
   ]
  },
  {
   "cell_type": "markdown",
   "id": "fbd97bfe",
   "metadata": {},
   "source": [
    "## Q4"
   ]
  },
  {
   "cell_type": "code",
   "execution_count": 21,
   "id": "82e25556",
   "metadata": {},
   "outputs": [],
   "source": [
    "historical_JPM = JPM_ret[:100]\n",
    "future_JPM = JPM_ret[100:]"
   ]
  },
  {
   "cell_type": "code",
   "execution_count": 22,
   "id": "3326441d",
   "metadata": {},
   "outputs": [],
   "source": [
    "historical_AAPL = AAPL_ret[:100]\n",
    "future_AAPL = AAPL_ret[100:]"
   ]
  },
  {
   "cell_type": "code",
   "execution_count": 23,
   "id": "924c6c31",
   "metadata": {},
   "outputs": [
    {
     "data": {
      "text/plain": [
       "0.001282489064239466"
      ]
     },
     "execution_count": 23,
     "metadata": {},
     "output_type": "execute_result"
    }
   ],
   "source": [
    "historical_AAPL.mean()"
   ]
  },
  {
   "cell_type": "code",
   "execution_count": 24,
   "id": "9672074d",
   "metadata": {},
   "outputs": [
    {
     "data": {
      "text/plain": [
       "0.01056464440375575"
      ]
     },
     "execution_count": 24,
     "metadata": {},
     "output_type": "execute_result"
    }
   ],
   "source": [
    "historical_AAPL.std()"
   ]
  },
  {
   "cell_type": "code",
   "execution_count": 25,
   "id": "14a429cf",
   "metadata": {},
   "outputs": [
    {
     "data": {
      "text/plain": [
       "0.0023338718245062185"
      ]
     },
     "execution_count": 25,
     "metadata": {},
     "output_type": "execute_result"
    }
   ],
   "source": [
    "historical_JPM.mean()"
   ]
  },
  {
   "cell_type": "code",
   "execution_count": 26,
   "id": "50e3d7a5",
   "metadata": {},
   "outputs": [
    {
     "data": {
      "text/plain": [
       "0.009472395233906982"
      ]
     },
     "execution_count": 26,
     "metadata": {},
     "output_type": "execute_result"
    }
   ],
   "source": [
    "historical_JPM.std()"
   ]
  },
  {
   "cell_type": "code",
   "execution_count": 27,
   "id": "5d1d472d",
   "metadata": {},
   "outputs": [],
   "source": [
    "#historical_JMP, Future_JPM = train_test_split(JPM_ret, test_size= 100, random_state=123, shuffle = False)"
   ]
  },
  {
   "cell_type": "code",
   "execution_count": 28,
   "id": "46349c3c",
   "metadata": {},
   "outputs": [],
   "source": [
    "#Future_JPM"
   ]
  },
  {
   "cell_type": "markdown",
   "id": "1710b333",
   "metadata": {},
   "source": [
    "## Q5"
   ]
  },
  {
   "cell_type": "code",
   "execution_count": 29,
   "id": "7a310c95",
   "metadata": {},
   "outputs": [
    {
     "name": "stdout",
     "output_type": "stream",
     "text": [
      "0.05923528258185965\n"
     ]
    }
   ],
   "source": [
    "cor = np.corrcoef(historical_AAPL, historical_JPM)\n",
    "print(cor[0][1])"
   ]
  },
  {
   "cell_type": "markdown",
   "id": "6806dd68",
   "metadata": {},
   "source": [
    "## Q6"
   ]
  },
  {
   "cell_type": "code",
   "execution_count": 30,
   "id": "687b7e48",
   "metadata": {},
   "outputs": [],
   "source": [
    "from math import sqrt"
   ]
  },
  {
   "cell_type": "code",
   "execution_count": 31,
   "id": "eb02cc0b",
   "metadata": {},
   "outputs": [
    {
     "name": "stdout",
     "output_type": "stream",
     "text": [
      "The expected return of the portfolio with w of 0.2 is 0.0008594086832171292\n",
      "The Standard Deviation of a portfolio with w of 0.2 is 0.01723241434935356\n",
      "The sharpe ratio of a portfolio with w of 0.2 is 0.04987163526794887\n"
     ]
    }
   ],
   "source": [
    "future_avg_AAPL = future_AAPL.mean()\n",
    "future_avg_JPM = future_JPM.mean()\n",
    "future_std_AAPL = future_JPM.std()\n",
    "future_std_JPM = future_JPM.std()\n",
    "w = 0.2 \n",
    "exp_ret = w*future_AAPL.mean() + (1-w)*future_JPM.mean()\n",
    "std_ret = sqrt(w**2 * (future_std_AAPL)**2 + (1-w)**2 *future_std_JPM**2 +2*w*(1-w)*cor[0][1]*future_std_AAPL*future_std_JPM)\n",
    "sharpe = exp_ret/std_ret\n",
    "#print(exp_ret) \n",
    "#print(std_ret)\n",
    "#print(sharpe)\n",
    "print('The expected return of the portfolio with w of 0.2 is {}'.format(exp_ret))\n",
    "print('The Standard Deviation of a portfolio with w of 0.2 is {}'.format(std_ret))\n",
    "print('The sharpe ratio of a portfolio with w of 0.2 is {}'.format(sharpe))"
   ]
  },
  {
   "cell_type": "code",
   "execution_count": 32,
   "id": "27a33c19",
   "metadata": {},
   "outputs": [
    {
     "name": "stdout",
     "output_type": "stream",
     "text": [
      "The expected return of the portfolio with w of 0.4 is 0.0010576175389831383\n",
      "The Standard Deviation of a portfolio with w of 0.4 is 0.015264521481404544\n",
      "The sharpe ratio of a portfolio with w of 0.4 is 0.06928599368617896\n"
     ]
    }
   ],
   "source": [
    "w = 0.4 \n",
    "exp_ret = w*future_AAPL.mean() + (1-w)*future_JPM.mean()\n",
    "std_ret = sqrt(w**2 * (future_std_AAPL)**2 + (1-w)**2 *future_std_JPM**2 +2*w*(1-w)*cor[0][1]*future_std_AAPL*future_std_JPM)\n",
    "sharpe = exp_ret/std_ret\n",
    "\n",
    "\n",
    "print('The expected return of the portfolio with w of 0.4 is {}'.format(exp_ret))\n",
    "print('The Standard Deviation of a portfolio with w of 0.4 is {}'.format(std_ret))\n",
    "print('The sharpe ratio of a portfolio with w of 0.4 is {}'.format(sharpe))"
   ]
  },
  {
   "cell_type": "code",
   "execution_count": 33,
   "id": "deea93fa",
   "metadata": {},
   "outputs": [
    {
     "name": "stdout",
     "output_type": "stream",
     "text": [
      "The expected return of the portfolio with w of 0.6 is 0.0012558263947491477\n",
      "The Standard Deviation of a portfolio with w of 0.6 is 0.015264521481404544\n",
      "The sharpe ratio of a portfolio with w of 0.6 is 0.08227093107890825\n"
     ]
    }
   ],
   "source": [
    "w = 0.6\n",
    "exp_ret = w*future_AAPL.mean() + (1-w)*future_JPM.mean()\n",
    "std_ret = sqrt(w**2 * (future_std_AAPL)**2 + (1-w)**2 *future_std_JPM**2 +2*w*(1-w)*cor[0][1]*future_std_AAPL*future_std_JPM)\n",
    "sharpe = exp_ret/std_ret\n",
    "\n",
    "\n",
    "print('The expected return of the portfolio with w of 0.6 is {}'.format(exp_ret))\n",
    "print('The Standard Deviation of a portfolio with w of 0.6 is {}'.format(std_ret))\n",
    "print('The sharpe ratio of a portfolio with w of 0.6 is {}'.format(sharpe))"
   ]
  },
  {
   "cell_type": "code",
   "execution_count": 34,
   "id": "84c18522",
   "metadata": {},
   "outputs": [
    {
     "name": "stdout",
     "output_type": "stream",
     "text": [
      "The expected return of the portfolio with w of 0.8 is 0.0014540352505151568\n",
      "The Standard Deviation of a portfolio with w of 0.8 is 0.017232414349353558\n",
      "The sharpe ratio of a portfolio with w of 0.8 is 0.08437791832516506\n"
     ]
    }
   ],
   "source": [
    "w = 0.8 \n",
    "exp_ret = w*future_AAPL.mean() + (1-w)*future_JPM.mean()\n",
    "std_ret = sqrt(w**2 * (future_std_AAPL)**2 + (1-w)**2 *future_std_JPM**2 +2*w*(1-w)*cor[0][1]*future_std_AAPL*future_std_JPM)\n",
    "sharpe = exp_ret/std_ret\n",
    "\n",
    "\n",
    "print('The expected return of the portfolio with w of 0.8 is {}'.format(exp_ret))\n",
    "print('The Standard Deviation of a portfolio with w of 0.8 is {}'.format(std_ret))\n",
    "print('The sharpe ratio of a portfolio with w of 0.8 is {}'.format(sharpe))"
   ]
  },
  {
   "cell_type": "code",
   "execution_count": null,
   "id": "34a15278",
   "metadata": {},
   "outputs": [],
   "source": []
  }
 ],
 "metadata": {
  "kernelspec": {
   "display_name": "Python 3 (ipykernel)",
   "language": "python",
   "name": "python3"
  },
  "language_info": {
   "codemirror_mode": {
    "name": "ipython",
    "version": 3
   },
   "file_extension": ".py",
   "mimetype": "text/x-python",
   "name": "python",
   "nbconvert_exporter": "python",
   "pygments_lexer": "ipython3",
   "version": "3.9.12"
  }
 },
 "nbformat": 4,
 "nbformat_minor": 5
}
